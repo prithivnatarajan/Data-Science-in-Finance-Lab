{
 "cells": [
  {
   "cell_type": "markdown",
   "metadata": {
    "colab_type": "text",
    "id": "Hzcu4TxkAWEi"
   },
   "source": [
    "# Closing Time (CAPM)\n",
    "\n",
    "Jennifer McDougall is considering investing in mutual funds for the first time, and has narrowed her options down to three: one that is domiciled in Germany, and two that are domiciled in Luxembourg. As a cautious risk averse investor, Jennifer has done some extensive research on the three funds, and has come across a curious fact: the beta of the German fund is surprisingly low.\n",
    "\n",
    "After speaking to her financial planner, she learns there is no legal requirement in Germany for mutual funds to compute net asset values at a particular time of the day. If the German fund is closing its books in the middle of the day and its net asset values reflect its midday holdings, rather than end-of-day holdings, this could explain the low beta. Thus, German fund might appear less risky, without actually being so. Jennifer needed to get a clearer picture of what was going on before making her decision. \n",
    "\n",
    "\n",
    "\n",
    "\n",
    "\n",
    "\n",
    "\n",
    "\n",
    "\n"
   ]
  },
  {
   "cell_type": "markdown",
   "metadata": {
    "colab_type": "text",
    "id": "Tt-buoHUeTj4"
   },
   "source": [
    "# Libraries\n",
    "\n",
    "Let's start by importing the libraries we will need to solve the case and help Jennifer pick the best fund."
   ]
  },
  {
   "cell_type": "code",
   "execution_count": 1,
   "metadata": {
    "colab": {
     "base_uri": "https://localhost:8080/",
     "height": 71
    },
    "colab_type": "code",
    "executionInfo": {
     "elapsed": 799,
     "status": "ok",
     "timestamp": 1555366713814,
     "user": {
      "displayName": "Donatella Taurasi",
      "photoUrl": "https://lh5.googleusercontent.com/-UOjzVOt1NjU/AAAAAAAAAAI/AAAAAAAAAJU/HTVVF8KTbdM/s64/photo.jpg",
      "userId": "00673418551725000492"
     },
     "user_tz": 420
    },
    "id": "0MbW3XU6Bbh5",
    "outputId": "d163f025-1a22-41eb-a844-923a2c3f99f9"
   },
   "outputs": [],
   "source": [
    "import pandas as pd \n",
    "import statsmodels.api as sm\n",
    "import statsmodels.formula.api as smf\n",
    "import matplotlib.pyplot as plt\n",
    "\n",
    "# This will make some of our output less verbose when we use display()\n",
    "pd.set_option('display.max_rows', 10)\n",
    "# This will make pandas print 6 decimal points (as opposed to using scientific\n",
    "# notation)\n",
    "pd.options.display.float_format = '{:.8f}'.format"
   ]
  },
  {
   "cell_type": "markdown",
   "metadata": {
    "colab_type": "text",
    "id": "Voj3SIfRh6Ot"
   },
   "source": [
    "Note that we're using two (well, three) libraries that we haven't used before.\n",
    "\n",
    "*   [``pandas``](https://pandas.pydata.org/), or Python Data Analysis Library is one of the foundational Python data science libraries.\n",
    " * We'll be using it to represent tables of data as [DataFrames](https://pandas.pydata.org/pandas-docs/stable/reference/api/pandas.DataFrame.html).\n",
    " * A cute introduction to ``pandas`` for Excel users is [here](https://towardsdatascience.com/intro-to-pandas-for-excel-super-users-dac1b38f12b0).\n",
    "*  [``statsmodels``](https://www.statsmodels.org/stable/index.html) is a very helpful library for statistical modeling.\n",
    "  * We'll be using it for doing linear regression (or, as they call it, Ordinary Least Squares)"
   ]
  },
  {
   "cell_type": "markdown",
   "metadata": {
    "colab_type": "text",
    "id": "A90Gk-vKHObP"
   },
   "source": [
    "# Loading Our Data\n",
    "\n",
    "We'll be working with [this](https://drive.google.com/file/d/1wGzelrmSVJIl1RUhq-GCAxMvVCDb0cR-/view?usp=sharing) CSV file's data.\n",
    "\n",
    "To load that into a ``pandas`` DataFrame, we can just call the [``read_csv``](https://pandas.pydata.org/pandas-docs/stable/reference/api/pandas.read_csv.html) function with a URL for the file.\n",
    "\n",
    "Most ``pandas`` code on the internet uses the variable ``df`` for their DataFrame."
   ]
  },
  {
   "cell_type": "code",
   "execution_count": 2,
   "metadata": {
    "colab": {},
    "colab_type": "code",
    "collapsed": true,
    "id": "Q001l0_aHvnP"
   },
   "outputs": [],
   "source": [
    "df = pd.read_csv('https://drive.google.com/uc?export=download&id=1wGzelrmSVJIl1RUhq-GCAxMvVCDb0cR-')"
   ]
  },
  {
   "cell_type": "markdown",
   "metadata": {
    "colab_type": "text",
    "id": "NPEvIHwOH1Ds"
   },
   "source": [
    "Let's take a look at what we loaded!"
   ]
  },
  {
   "cell_type": "code",
   "execution_count": 4,
   "metadata": {
    "colab": {
     "base_uri": "https://localhost:8080/",
     "height": 473
    },
    "colab_type": "code",
    "executionInfo": {
     "elapsed": 278,
     "status": "ok",
     "timestamp": 1555366836000,
     "user": {
      "displayName": "Donatella Taurasi",
      "photoUrl": "https://lh5.googleusercontent.com/-UOjzVOt1NjU/AAAAAAAAAAI/AAAAAAAAAJU/HTVVF8KTbdM/s64/photo.jpg",
      "userId": "00673418551725000492"
     },
     "user_tz": 420
    },
    "id": "Dic0l0fNCTMu",
    "outputId": "10cf3e98-190c-40b4-add3-f00fb5ca2b3d"
   },
   "outputs": [
    {
     "data": {
      "text/html": [
       "<div>\n",
       "<style scoped>\n",
       "    .dataframe tbody tr th:only-of-type {\n",
       "        vertical-align: middle;\n",
       "    }\n",
       "\n",
       "    .dataframe tbody tr th {\n",
       "        vertical-align: top;\n",
       "    }\n",
       "\n",
       "    .dataframe thead th {\n",
       "        text-align: right;\n",
       "    }\n",
       "</style>\n",
       "<table border=\"1\" class=\"dataframe\">\n",
       "  <thead>\n",
       "    <tr style=\"text-align: right;\">\n",
       "      <th></th>\n",
       "      <th>Date</th>\n",
       "      <th>Generali Investments</th>\n",
       "      <th>Allianz Adifonds</th>\n",
       "      <th>Parvest Equity</th>\n",
       "      <th>DAX at 9:00</th>\n",
       "      <th>DAX at 10:00</th>\n",
       "      <th>DAX at 11:00</th>\n",
       "      <th>DAX at 12:00</th>\n",
       "      <th>DAX at 13:00</th>\n",
       "      <th>DAX at 14:00</th>\n",
       "      <th>DAX at 15:00</th>\n",
       "      <th>DAX at 16:00</th>\n",
       "      <th>DAX at 17:00</th>\n",
       "      <th>DAX at 23:00</th>\n",
       "      <th>Risk-free rate</th>\n",
       "    </tr>\n",
       "  </thead>\n",
       "  <tbody>\n",
       "    <tr>\n",
       "      <th>0</th>\n",
       "      <td>1/5/2010</td>\n",
       "      <td>0.01444516</td>\n",
       "      <td>0.00598991</td>\n",
       "      <td>0.00380421</td>\n",
       "      <td>0.00611323</td>\n",
       "      <td>0.00360428</td>\n",
       "      <td>0.00578816</td>\n",
       "      <td>0.00755277</td>\n",
       "      <td>0.00728983</td>\n",
       "      <td>0.00863151</td>\n",
       "      <td>0.00449834</td>\n",
       "      <td>-0.00046948</td>\n",
       "      <td>0.00359131</td>\n",
       "      <td>-0.00271812</td>\n",
       "      <td>0.00019958</td>\n",
       "    </tr>\n",
       "    <tr>\n",
       "      <th>1</th>\n",
       "      <td>1/6/2010</td>\n",
       "      <td>-0.00017365</td>\n",
       "      <td>-0.00172360</td>\n",
       "      <td>-0.00138959</td>\n",
       "      <td>-0.00271812</td>\n",
       "      <td>-0.00101426</td>\n",
       "      <td>-0.00445926</td>\n",
       "      <td>-0.00252077</td>\n",
       "      <td>-0.00137029</td>\n",
       "      <td>-0.00372093</td>\n",
       "      <td>0.00015911</td>\n",
       "      <td>0.00175102</td>\n",
       "      <td>-0.00230964</td>\n",
       "      <td>0.00040949</td>\n",
       "      <td>0.00019958</td>\n",
       "    </tr>\n",
       "    <tr>\n",
       "      <th>2</th>\n",
       "      <td>1/7/2010</td>\n",
       "      <td>0.00137705</td>\n",
       "      <td>-0.00973160</td>\n",
       "      <td>0.00075901</td>\n",
       "      <td>0.00040949</td>\n",
       "      <td>-0.00888544</td>\n",
       "      <td>-0.00788479</td>\n",
       "      <td>-0.00882675</td>\n",
       "      <td>-0.00535115</td>\n",
       "      <td>-0.00471375</td>\n",
       "      <td>-0.00399030</td>\n",
       "      <td>-0.00752866</td>\n",
       "      <td>-0.00159300</td>\n",
       "      <td>-0.00248081</td>\n",
       "      <td>0.00019958</td>\n",
       "    </tr>\n",
       "    <tr>\n",
       "      <th>3</th>\n",
       "      <td>1/8/2010</td>\n",
       "      <td>-0.00111499</td>\n",
       "      <td>0.00935172</td>\n",
       "      <td>0.00113766</td>\n",
       "      <td>-0.00248081</td>\n",
       "      <td>0.01157629</td>\n",
       "      <td>0.01160120</td>\n",
       "      <td>0.01103676</td>\n",
       "      <td>0.00642293</td>\n",
       "      <td>0.00564628</td>\n",
       "      <td>-0.00263869</td>\n",
       "      <td>0.00527532</td>\n",
       "      <td>0.00129203</td>\n",
       "      <td>0.00303188</td>\n",
       "      <td>0.00019958</td>\n",
       "    </tr>\n",
       "    <tr>\n",
       "      <th>4</th>\n",
       "      <td>1/11/2010</td>\n",
       "      <td>0.00262936</td>\n",
       "      <td>0.00722362</td>\n",
       "      <td>0.00265151</td>\n",
       "      <td>0.00303188</td>\n",
       "      <td>0.00820228</td>\n",
       "      <td>0.00805503</td>\n",
       "      <td>0.00645512</td>\n",
       "      <td>0.00519992</td>\n",
       "      <td>0.00674180</td>\n",
       "      <td>0.01358367</td>\n",
       "      <td>0.00460829</td>\n",
       "      <td>0.00217821</td>\n",
       "      <td>0.00047867</td>\n",
       "      <td>0.00019958</td>\n",
       "    </tr>\n",
       "    <tr>\n",
       "      <th>...</th>\n",
       "      <td>...</td>\n",
       "      <td>...</td>\n",
       "      <td>...</td>\n",
       "      <td>...</td>\n",
       "      <td>...</td>\n",
       "      <td>...</td>\n",
       "      <td>...</td>\n",
       "      <td>...</td>\n",
       "      <td>...</td>\n",
       "      <td>...</td>\n",
       "      <td>...</td>\n",
       "      <td>...</td>\n",
       "      <td>...</td>\n",
       "      <td>...</td>\n",
       "      <td>...</td>\n",
       "    </tr>\n",
       "    <tr>\n",
       "      <th>249</th>\n",
       "      <td>12/22/2010</td>\n",
       "      <td>0.00858392</td>\n",
       "      <td>0.00189676</td>\n",
       "      <td>-0.00085662</td>\n",
       "      <td>0.00846180</td>\n",
       "      <td>0.00246367</td>\n",
       "      <td>0.00232880</td>\n",
       "      <td>0.00172966</td>\n",
       "      <td>0.00159879</td>\n",
       "      <td>0.00184895</td>\n",
       "      <td>0.00033063</td>\n",
       "      <td>0.00040422</td>\n",
       "      <td>-0.00009185</td>\n",
       "      <td>-0.00142272</td>\n",
       "      <td>0.00036677</td>\n",
       "    </tr>\n",
       "    <tr>\n",
       "      <th>250</th>\n",
       "      <td>12/23/2010</td>\n",
       "      <td>-0.00061781</td>\n",
       "      <td>0.00135226</td>\n",
       "      <td>-0.00150038</td>\n",
       "      <td>-0.00142272</td>\n",
       "      <td>-0.00055682</td>\n",
       "      <td>-0.00048475</td>\n",
       "      <td>-0.00039281</td>\n",
       "      <td>-0.00027429</td>\n",
       "      <td>-0.00101886</td>\n",
       "      <td>-0.00185034</td>\n",
       "      <td>-0.00155123</td>\n",
       "      <td>-0.00270900</td>\n",
       "      <td>-0.00144738</td>\n",
       "      <td>0.00036677</td>\n",
       "    </tr>\n",
       "    <tr>\n",
       "      <th>251</th>\n",
       "      <td>12/27/2010</td>\n",
       "      <td>-0.00092729</td>\n",
       "      <td>-0.01255908</td>\n",
       "      <td>-0.01137705</td>\n",
       "      <td>-0.00144738</td>\n",
       "      <td>-0.01429153</td>\n",
       "      <td>-0.01383117</td>\n",
       "      <td>-0.01314880</td>\n",
       "      <td>-0.01522004</td>\n",
       "      <td>-0.01534516</td>\n",
       "      <td>-0.01533959</td>\n",
       "      <td>-0.01420771</td>\n",
       "      <td>-0.01147758</td>\n",
       "      <td>-0.01232131</td>\n",
       "      <td>0.00036677</td>\n",
       "    </tr>\n",
       "    <tr>\n",
       "      <th>252</th>\n",
       "      <td>12/28/2010</td>\n",
       "      <td>-0.01011362</td>\n",
       "      <td>0.00205142</td>\n",
       "      <td>0.00043426</td>\n",
       "      <td>-0.01232131</td>\n",
       "      <td>0.00104720</td>\n",
       "      <td>0.00067674</td>\n",
       "      <td>0.00018334</td>\n",
       "      <td>0.00222451</td>\n",
       "      <td>0.00226840</td>\n",
       "      <td>0.00278948</td>\n",
       "      <td>0.00070333</td>\n",
       "      <td>-0.00130873</td>\n",
       "      <td>0.00019654</td>\n",
       "      <td>0.00036677</td>\n",
       "    </tr>\n",
       "    <tr>\n",
       "      <th>253</th>\n",
       "      <td>12/29/2010</td>\n",
       "      <td>0.00086219</td>\n",
       "      <td>0.00040945</td>\n",
       "      <td>0.00303852</td>\n",
       "      <td>0.00019654</td>\n",
       "      <td>0.00276860</td>\n",
       "      <td>0.00102015</td>\n",
       "      <td>0.00262507</td>\n",
       "      <td>0.00328136</td>\n",
       "      <td>0.00256571</td>\n",
       "      <td>0.00276882</td>\n",
       "      <td>0.00416106</td>\n",
       "      <td>0.00374474</td>\n",
       "      <td>0.00335193</td>\n",
       "      <td>0.00036677</td>\n",
       "    </tr>\n",
       "  </tbody>\n",
       "</table>\n",
       "<p>254 rows × 15 columns</p>\n",
       "</div>"
      ],
      "text/plain": [
       "           Date  Generali Investments  Allianz Adifonds  Parvest Equity  \\\n",
       "0      1/5/2010            0.01444516        0.00598991      0.00380421   \n",
       "1      1/6/2010           -0.00017365       -0.00172360     -0.00138959   \n",
       "2      1/7/2010            0.00137705       -0.00973160      0.00075901   \n",
       "3      1/8/2010           -0.00111499        0.00935172      0.00113766   \n",
       "4     1/11/2010            0.00262936        0.00722362      0.00265151   \n",
       "..          ...                   ...               ...             ...   \n",
       "249  12/22/2010            0.00858392        0.00189676     -0.00085662   \n",
       "250  12/23/2010           -0.00061781        0.00135226     -0.00150038   \n",
       "251  12/27/2010           -0.00092729       -0.01255908     -0.01137705   \n",
       "252  12/28/2010           -0.01011362        0.00205142      0.00043426   \n",
       "253  12/29/2010            0.00086219        0.00040945      0.00303852   \n",
       "\n",
       "     DAX at 9:00  DAX at 10:00  DAX at 11:00  DAX at 12:00  DAX at 13:00  \\\n",
       "0     0.00611323    0.00360428    0.00578816    0.00755277    0.00728983   \n",
       "1    -0.00271812   -0.00101426   -0.00445926   -0.00252077   -0.00137029   \n",
       "2     0.00040949   -0.00888544   -0.00788479   -0.00882675   -0.00535115   \n",
       "3    -0.00248081    0.01157629    0.01160120    0.01103676    0.00642293   \n",
       "4     0.00303188    0.00820228    0.00805503    0.00645512    0.00519992   \n",
       "..           ...           ...           ...           ...           ...   \n",
       "249   0.00846180    0.00246367    0.00232880    0.00172966    0.00159879   \n",
       "250  -0.00142272   -0.00055682   -0.00048475   -0.00039281   -0.00027429   \n",
       "251  -0.00144738   -0.01429153   -0.01383117   -0.01314880   -0.01522004   \n",
       "252  -0.01232131    0.00104720    0.00067674    0.00018334    0.00222451   \n",
       "253   0.00019654    0.00276860    0.00102015    0.00262507    0.00328136   \n",
       "\n",
       "     DAX at 14:00  DAX at 15:00  DAX at 16:00  DAX at 17:00  DAX at 23:00  \\\n",
       "0      0.00863151    0.00449834   -0.00046948    0.00359131   -0.00271812   \n",
       "1     -0.00372093    0.00015911    0.00175102   -0.00230964    0.00040949   \n",
       "2     -0.00471375   -0.00399030   -0.00752866   -0.00159300   -0.00248081   \n",
       "3      0.00564628   -0.00263869    0.00527532    0.00129203    0.00303188   \n",
       "4      0.00674180    0.01358367    0.00460829    0.00217821    0.00047867   \n",
       "..            ...           ...           ...           ...           ...   \n",
       "249    0.00184895    0.00033063    0.00040422   -0.00009185   -0.00142272   \n",
       "250   -0.00101886   -0.00185034   -0.00155123   -0.00270900   -0.00144738   \n",
       "251   -0.01534516   -0.01533959   -0.01420771   -0.01147758   -0.01232131   \n",
       "252    0.00226840    0.00278948    0.00070333   -0.00130873    0.00019654   \n",
       "253    0.00256571    0.00276882    0.00416106    0.00374474    0.00335193   \n",
       "\n",
       "     Risk-free rate  \n",
       "0        0.00019958  \n",
       "1        0.00019958  \n",
       "2        0.00019958  \n",
       "3        0.00019958  \n",
       "4        0.00019958  \n",
       "..              ...  \n",
       "249      0.00036677  \n",
       "250      0.00036677  \n",
       "251      0.00036677  \n",
       "252      0.00036677  \n",
       "253      0.00036677  \n",
       "\n",
       "[254 rows x 15 columns]"
      ]
     },
     "execution_count": 4,
     "metadata": {},
     "output_type": "execute_result"
    }
   ],
   "source": [
    "df"
   ]
  },
  {
   "cell_type": "markdown",
   "metadata": {
    "colab_type": "text",
    "id": "kLneCqCmISzC"
   },
   "source": [
    "\n",
    "The provided CSV data file contains all necessary data to answer the case questions and covers all working days from January through December 2010. Two days with missing data have been removed from the dataset. \n",
    "\n",
    "We can also get some basic statistics by calling [``DataFrame.describe``](https://pandas.pydata.org/pandas-docs/stable/reference/api/pandas.DataFrame.describe.html). Note that by default this will only include the numerical columns (so it won't print the Date column)"
   ]
  },
  {
   "cell_type": "code",
   "execution_count": 5,
   "metadata": {
    "colab": {
     "base_uri": "https://localhost:8080/",
     "height": 334
    },
    "colab_type": "code",
    "executionInfo": {
     "elapsed": 310,
     "status": "ok",
     "timestamp": 1555366859967,
     "user": {
      "displayName": "Donatella Taurasi",
      "photoUrl": "https://lh5.googleusercontent.com/-UOjzVOt1NjU/AAAAAAAAAAI/AAAAAAAAAJU/HTVVF8KTbdM/s64/photo.jpg",
      "userId": "00673418551725000492"
     },
     "user_tz": 420
    },
    "id": "mJRVg_6eJaS3",
    "outputId": "12e9a9bf-74b8-4074-dee0-ce1474f550dc"
   },
   "outputs": [
    {
     "data": {
      "text/html": [
       "<div>\n",
       "<style scoped>\n",
       "    .dataframe tbody tr th:only-of-type {\n",
       "        vertical-align: middle;\n",
       "    }\n",
       "\n",
       "    .dataframe tbody tr th {\n",
       "        vertical-align: top;\n",
       "    }\n",
       "\n",
       "    .dataframe thead th {\n",
       "        text-align: right;\n",
       "    }\n",
       "</style>\n",
       "<table border=\"1\" class=\"dataframe\">\n",
       "  <thead>\n",
       "    <tr style=\"text-align: right;\">\n",
       "      <th></th>\n",
       "      <th>Generali Investments</th>\n",
       "      <th>Allianz Adifonds</th>\n",
       "      <th>Parvest Equity</th>\n",
       "      <th>DAX at 9:00</th>\n",
       "      <th>DAX at 10:00</th>\n",
       "      <th>DAX at 11:00</th>\n",
       "      <th>DAX at 12:00</th>\n",
       "      <th>DAX at 13:00</th>\n",
       "      <th>DAX at 14:00</th>\n",
       "      <th>DAX at 15:00</th>\n",
       "      <th>DAX at 16:00</th>\n",
       "      <th>DAX at 17:00</th>\n",
       "      <th>DAX at 23:00</th>\n",
       "      <th>Risk-free rate</th>\n",
       "    </tr>\n",
       "  </thead>\n",
       "  <tbody>\n",
       "    <tr>\n",
       "      <th>count</th>\n",
       "      <td>254.00000000</td>\n",
       "      <td>254.00000000</td>\n",
       "      <td>254.00000000</td>\n",
       "      <td>254.00000000</td>\n",
       "      <td>254.00000000</td>\n",
       "      <td>254.00000000</td>\n",
       "      <td>254.00000000</td>\n",
       "      <td>254.00000000</td>\n",
       "      <td>254.00000000</td>\n",
       "      <td>254.00000000</td>\n",
       "      <td>254.00000000</td>\n",
       "      <td>254.00000000</td>\n",
       "      <td>254.00000000</td>\n",
       "      <td>254.00000000</td>\n",
       "    </tr>\n",
       "    <tr>\n",
       "      <th>mean</th>\n",
       "      <td>0.00067156</td>\n",
       "      <td>0.00062687</td>\n",
       "      <td>0.00066881</td>\n",
       "      <td>0.00064966</td>\n",
       "      <td>0.00066450</td>\n",
       "      <td>0.00066041</td>\n",
       "      <td>0.00067221</td>\n",
       "      <td>0.00066859</td>\n",
       "      <td>0.00066766</td>\n",
       "      <td>0.00066296</td>\n",
       "      <td>0.00065313</td>\n",
       "      <td>0.00064658</td>\n",
       "      <td>0.00063879</td>\n",
       "      <td>0.00025736</td>\n",
       "    </tr>\n",
       "    <tr>\n",
       "      <th>std</th>\n",
       "      <td>0.01081473</td>\n",
       "      <td>0.01077623</td>\n",
       "      <td>0.00935092</td>\n",
       "      <td>0.01150606</td>\n",
       "      <td>0.01156632</td>\n",
       "      <td>0.01156097</td>\n",
       "      <td>0.01139902</td>\n",
       "      <td>0.01093903</td>\n",
       "      <td>0.01116785</td>\n",
       "      <td>0.01115141</td>\n",
       "      <td>0.01132220</td>\n",
       "      <td>0.01132023</td>\n",
       "      <td>0.01150218</td>\n",
       "      <td>0.00007219</td>\n",
       "    </tr>\n",
       "    <tr>\n",
       "      <th>min</th>\n",
       "      <td>-0.03271086</td>\n",
       "      <td>-0.03637725</td>\n",
       "      <td>-0.02492370</td>\n",
       "      <td>-0.03332511</td>\n",
       "      <td>-0.03903192</td>\n",
       "      <td>-0.04083216</td>\n",
       "      <td>-0.03742007</td>\n",
       "      <td>-0.03464169</td>\n",
       "      <td>-0.03253350</td>\n",
       "      <td>-0.03368110</td>\n",
       "      <td>-0.03262266</td>\n",
       "      <td>-0.03629565</td>\n",
       "      <td>-0.03332511</td>\n",
       "      <td>0.00018147</td>\n",
       "    </tr>\n",
       "    <tr>\n",
       "      <th>25%</th>\n",
       "      <td>-0.00403222</td>\n",
       "      <td>-0.00559482</td>\n",
       "      <td>-0.00355011</td>\n",
       "      <td>-0.00491893</td>\n",
       "      <td>-0.00601182</td>\n",
       "      <td>-0.00506301</td>\n",
       "      <td>-0.00585792</td>\n",
       "      <td>-0.00569243</td>\n",
       "      <td>-0.00544189</td>\n",
       "      <td>-0.00613125</td>\n",
       "      <td>-0.00512227</td>\n",
       "      <td>-0.00528671</td>\n",
       "      <td>-0.00491893</td>\n",
       "      <td>0.00019053</td>\n",
       "    </tr>\n",
       "    <tr>\n",
       "      <th>50%</th>\n",
       "      <td>0.00095443</td>\n",
       "      <td>0.00155682</td>\n",
       "      <td>0.00074865</td>\n",
       "      <td>0.00095805</td>\n",
       "      <td>0.00155215</td>\n",
       "      <td>0.00164422</td>\n",
       "      <td>0.00142691</td>\n",
       "      <td>0.00147470</td>\n",
       "      <td>0.00144355</td>\n",
       "      <td>0.00098690</td>\n",
       "      <td>0.00128975</td>\n",
       "      <td>0.00106281</td>\n",
       "      <td>0.00095805</td>\n",
       "      <td>0.00026291</td>\n",
       "    </tr>\n",
       "    <tr>\n",
       "      <th>75%</th>\n",
       "      <td>0.00647282</td>\n",
       "      <td>0.00721628</td>\n",
       "      <td>0.00565185</td>\n",
       "      <td>0.00722311</td>\n",
       "      <td>0.00784616</td>\n",
       "      <td>0.00805381</td>\n",
       "      <td>0.00754060</td>\n",
       "      <td>0.00725629</td>\n",
       "      <td>0.00768093</td>\n",
       "      <td>0.00706487</td>\n",
       "      <td>0.00687238</td>\n",
       "      <td>0.00657022</td>\n",
       "      <td>0.00722311</td>\n",
       "      <td>0.00029002</td>\n",
       "    </tr>\n",
       "    <tr>\n",
       "      <th>max</th>\n",
       "      <td>0.04936230</td>\n",
       "      <td>0.02863051</td>\n",
       "      <td>0.04303599</td>\n",
       "      <td>0.05298604</td>\n",
       "      <td>0.03043854</td>\n",
       "      <td>0.03401799</td>\n",
       "      <td>0.02837307</td>\n",
       "      <td>0.02878142</td>\n",
       "      <td>0.03415973</td>\n",
       "      <td>0.03788284</td>\n",
       "      <td>0.03468523</td>\n",
       "      <td>0.04778444</td>\n",
       "      <td>0.05298604</td>\n",
       "      <td>0.00037579</td>\n",
       "    </tr>\n",
       "  </tbody>\n",
       "</table>\n",
       "</div>"
      ],
      "text/plain": [
       "       Generali Investments  Allianz Adifonds  Parvest Equity  DAX at 9:00  \\\n",
       "count          254.00000000      254.00000000    254.00000000 254.00000000   \n",
       "mean             0.00067156        0.00062687      0.00066881   0.00064966   \n",
       "std              0.01081473        0.01077623      0.00935092   0.01150606   \n",
       "min             -0.03271086       -0.03637725     -0.02492370  -0.03332511   \n",
       "25%             -0.00403222       -0.00559482     -0.00355011  -0.00491893   \n",
       "50%              0.00095443        0.00155682      0.00074865   0.00095805   \n",
       "75%              0.00647282        0.00721628      0.00565185   0.00722311   \n",
       "max              0.04936230        0.02863051      0.04303599   0.05298604   \n",
       "\n",
       "       DAX at 10:00  DAX at 11:00  DAX at 12:00  DAX at 13:00  DAX at 14:00  \\\n",
       "count  254.00000000  254.00000000  254.00000000  254.00000000  254.00000000   \n",
       "mean     0.00066450    0.00066041    0.00067221    0.00066859    0.00066766   \n",
       "std      0.01156632    0.01156097    0.01139902    0.01093903    0.01116785   \n",
       "min     -0.03903192   -0.04083216   -0.03742007   -0.03464169   -0.03253350   \n",
       "25%     -0.00601182   -0.00506301   -0.00585792   -0.00569243   -0.00544189   \n",
       "50%      0.00155215    0.00164422    0.00142691    0.00147470    0.00144355   \n",
       "75%      0.00784616    0.00805381    0.00754060    0.00725629    0.00768093   \n",
       "max      0.03043854    0.03401799    0.02837307    0.02878142    0.03415973   \n",
       "\n",
       "       DAX at 15:00  DAX at 16:00  DAX at 17:00  DAX at 23:00  Risk-free rate  \n",
       "count  254.00000000  254.00000000  254.00000000  254.00000000    254.00000000  \n",
       "mean     0.00066296    0.00065313    0.00064658    0.00063879      0.00025736  \n",
       "std      0.01115141    0.01132220    0.01132023    0.01150218      0.00007219  \n",
       "min     -0.03368110   -0.03262266   -0.03629565   -0.03332511      0.00018147  \n",
       "25%     -0.00613125   -0.00512227   -0.00528671   -0.00491893      0.00019053  \n",
       "50%      0.00098690    0.00128975    0.00106281    0.00095805      0.00026291  \n",
       "75%      0.00706487    0.00687238    0.00657022    0.00722311      0.00029002  \n",
       "max      0.03788284    0.03468523    0.04778444    0.05298604      0.00037579  "
      ]
     },
     "execution_count": 5,
     "metadata": {},
     "output_type": "execute_result"
    }
   ],
   "source": [
    "df.describe()"
   ]
  },
  {
   "cell_type": "markdown",
   "metadata": {
    "colab_type": "text",
    "id": "FVY9My6eSAYp"
   },
   "source": [
    "# Question 1: Fitting Funds to the DAX\n",
    "\n",
    "In this section we'll be fitting the funds to the DAX at various times, in an effort to see at what time we get the best fit."
   ]
  },
  {
   "cell_type": "markdown",
   "metadata": {
    "colab_type": "text",
    "id": "vLI5NKQUfE0-"
   },
   "source": [
    "## Statsmodels and R formula syntax\n",
    "\n",
    "We'll be making use of the [``statsmodels``](https://www.statsmodels.org/stable/index.html) library to do this.\n",
    "\n",
    "One of the features of ``statsmodels`` is that it allows us to specify formulas using [R](https://www.r-project.org/about.html) formula syntax, which can be very clear and concise.\n",
    "\n",
    "In R formula syntax, we can specify that we want our \"response variable\" (or dependent variable) to be explained by some \"explanatory variables\" (independent variables) as follows\n",
    "\n",
    "\n",
    "```\n",
    "response variable ~ explanatory variables\n",
    "```\n",
    "\n",
    "We will first try to explain ``Generali Investments`` by ``DAX at 9:00``."
   ]
  },
  {
   "cell_type": "markdown",
   "metadata": {
    "colab_type": "text",
    "id": "07N7M_NZiGYm"
   },
   "source": [
    "## Fitting Generali Investments to DAX at 9:00\n",
    "\n",
    "\n",
    "Let's write out the formula that we will want to use for our model.\n",
    "\n",
    "Note that because ``Generali Investments`` isn't a single-word column name, we will need to use [Q](https://patsy.readthedocs.io/en/latest/builtins-reference.html#patsy.builtins.Q) syntax to specify the variable name."
   ]
  },
  {
   "cell_type": "code",
   "execution_count": 7,
   "metadata": {
    "colab": {
     "base_uri": "https://localhost:8080/",
     "height": 34
    },
    "colab_type": "code",
    "executionInfo": {
     "elapsed": 298,
     "status": "ok",
     "timestamp": 1555367027198,
     "user": {
      "displayName": "Donatella Taurasi",
      "photoUrl": "https://lh5.googleusercontent.com/-UOjzVOt1NjU/AAAAAAAAAAI/AAAAAAAAAJU/HTVVF8KTbdM/s64/photo.jpg",
      "userId": "00673418551725000492"
     },
     "user_tz": 420
    },
    "id": "iasc8NBwBmh3",
    "outputId": "8f5d73a5-5b59-4e51-937b-0d7d68538f8c"
   },
   "outputs": [
    {
     "data": {
      "text/plain": [
       "'Q(\"Generali Investments\") ~ Q(\"DAX at 9:00\")'"
      ]
     },
     "execution_count": 7,
     "metadata": {},
     "output_type": "execute_result"
    }
   ],
   "source": [
    "formula_0900 = 'Q(\"Generali Investments\") ~ Q(\"DAX at 9:00\")'\n",
    "formula_0900"
   ]
  },
  {
   "cell_type": "markdown",
   "metadata": {
    "colab_type": "text",
    "id": "mjHYDdg_LbJ1"
   },
   "source": [
    "We'll be using the ``statsmodels`` functions [``linear_model.OLS``](http://statsmodels.sourceforge.net/devel/generated/statsmodels.regression.linear_model.OLS.html) and [``linear_model.OLS.fit``](http://www.statsmodels.org/devel/generated/statsmodels.regression.linear_model.OLS.fit.html) to compute or linear fit.\n",
    "\n",
    "The ``fit`` function will return a [``RegressionResults``](https://www.statsmodels.org/0.8.0/generated/statsmodels.regression.linear_model.RegressionResults.html) in ``linear_fit_0900``."
   ]
  },
  {
   "cell_type": "code",
   "execution_count": 8,
   "metadata": {
    "colab": {
     "base_uri": "https://localhost:8080/",
     "height": 376
    },
    "colab_type": "code",
    "executionInfo": {
     "elapsed": 379,
     "status": "ok",
     "timestamp": 1555367052537,
     "user": {
      "displayName": "Donatella Taurasi",
      "photoUrl": "https://lh5.googleusercontent.com/-UOjzVOt1NjU/AAAAAAAAAAI/AAAAAAAAAJU/HTVVF8KTbdM/s64/photo.jpg",
      "userId": "00673418551725000492"
     },
     "user_tz": 420
    },
    "id": "eYSfFtWTLAuE",
    "outputId": "b2b39d14-a475-47c4-b138-59e1ce481c35"
   },
   "outputs": [
    {
     "ename": "AssertionError",
     "evalue": "",
     "output_type": "error",
     "traceback": [
      "\u001b[0;31m---------------------------------------------------------------------------\u001b[0m",
      "\u001b[0;31mAssertionError\u001b[0m                            Traceback (most recent call last)",
      "\u001b[0;32m<ipython-input-8-bebe79b0eb03>\u001b[0m in \u001b[0;36m<module>\u001b[0;34m()\u001b[0m\n\u001b[0;32m----> 1\u001b[0;31m \u001b[0mlinear_model_0900\u001b[0m \u001b[0;34m=\u001b[0m \u001b[0msmf\u001b[0m\u001b[0;34m.\u001b[0m\u001b[0mols\u001b[0m\u001b[0;34m(\u001b[0m\u001b[0mformula\u001b[0m\u001b[0;34m=\u001b[0m\u001b[0mformula_0900\u001b[0m\u001b[0;34m,\u001b[0m \u001b[0mdata\u001b[0m\u001b[0;34m=\u001b[0m\u001b[0mdf\u001b[0m\u001b[0;34m)\u001b[0m\u001b[0;34m\u001b[0m\u001b[0;34m\u001b[0m\u001b[0m\n\u001b[0m\u001b[1;32m      2\u001b[0m \u001b[0mlinear_fit_0900\u001b[0m \u001b[0;34m=\u001b[0m \u001b[0mlinear_model_0900\u001b[0m\u001b[0;34m.\u001b[0m\u001b[0mfit\u001b[0m\u001b[0;34m(\u001b[0m\u001b[0;34m)\u001b[0m\u001b[0;34m\u001b[0m\u001b[0;34m\u001b[0m\u001b[0m\n\u001b[1;32m      3\u001b[0m \u001b[0mdisplay\u001b[0m\u001b[0;34m(\u001b[0m\u001b[0mlinear_fit_0900\u001b[0m\u001b[0;34m.\u001b[0m\u001b[0msummary\u001b[0m\u001b[0;34m(\u001b[0m\u001b[0;34m)\u001b[0m\u001b[0;34m)\u001b[0m\u001b[0;34m\u001b[0m\u001b[0;34m\u001b[0m\u001b[0m\n",
      "\u001b[0;32m/Applications/Ana/anaconda/lib/python3.6/site-packages/statsmodels/base/model.py\u001b[0m in \u001b[0;36mfrom_formula\u001b[0;34m(cls, formula, data, subset, drop_cols, *args, **kwargs)\u001b[0m\n\u001b[1;32m    153\u001b[0m \u001b[0;34m\u001b[0m\u001b[0m\n\u001b[1;32m    154\u001b[0m         tmp = handle_formula_data(data, None, formula, depth=eval_env,\n\u001b[0;32m--> 155\u001b[0;31m                                   missing=missing)\n\u001b[0m\u001b[1;32m    156\u001b[0m         \u001b[0;34m(\u001b[0m\u001b[0;34m(\u001b[0m\u001b[0mendog\u001b[0m\u001b[0;34m,\u001b[0m \u001b[0mexog\u001b[0m\u001b[0;34m)\u001b[0m\u001b[0;34m,\u001b[0m \u001b[0mmissing_idx\u001b[0m\u001b[0;34m,\u001b[0m \u001b[0mdesign_info\u001b[0m\u001b[0;34m)\u001b[0m \u001b[0;34m=\u001b[0m \u001b[0mtmp\u001b[0m\u001b[0;34m\u001b[0m\u001b[0;34m\u001b[0m\u001b[0m\n\u001b[1;32m    157\u001b[0m \u001b[0;34m\u001b[0m\u001b[0m\n",
      "\u001b[0;32m/Applications/Ana/anaconda/lib/python3.6/site-packages/statsmodels/formula/formulatools.py\u001b[0m in \u001b[0;36mhandle_formula_data\u001b[0;34m(Y, X, formula, depth, missing)\u001b[0m\n\u001b[1;32m     63\u001b[0m         \u001b[0;32mif\u001b[0m \u001b[0mdata_util\u001b[0m\u001b[0;34m.\u001b[0m\u001b[0m_is_using_pandas\u001b[0m\u001b[0;34m(\u001b[0m\u001b[0mY\u001b[0m\u001b[0;34m,\u001b[0m \u001b[0;32mNone\u001b[0m\u001b[0;34m)\u001b[0m\u001b[0;34m:\u001b[0m\u001b[0;34m\u001b[0m\u001b[0;34m\u001b[0m\u001b[0m\n\u001b[1;32m     64\u001b[0m             result = dmatrices(formula, Y, depth, return_type='dataframe',\n\u001b[0;32m---> 65\u001b[0;31m                                NA_action=na_action)\n\u001b[0m\u001b[1;32m     66\u001b[0m         \u001b[0;32melse\u001b[0m\u001b[0;34m:\u001b[0m\u001b[0;34m\u001b[0m\u001b[0;34m\u001b[0m\u001b[0m\n\u001b[1;32m     67\u001b[0m             result = dmatrices(formula, Y, depth, return_type='dataframe',\n",
      "\u001b[0;32m/Applications/Ana/anaconda/lib/python3.6/site-packages/patsy/highlevel.py\u001b[0m in \u001b[0;36mdmatrices\u001b[0;34m(formula_like, data, eval_env, NA_action, return_type)\u001b[0m\n\u001b[1;32m    308\u001b[0m     \u001b[0meval_env\u001b[0m \u001b[0;34m=\u001b[0m \u001b[0mEvalEnvironment\u001b[0m\u001b[0;34m.\u001b[0m\u001b[0mcapture\u001b[0m\u001b[0;34m(\u001b[0m\u001b[0meval_env\u001b[0m\u001b[0;34m,\u001b[0m \u001b[0mreference\u001b[0m\u001b[0;34m=\u001b[0m\u001b[0;36m1\u001b[0m\u001b[0;34m)\u001b[0m\u001b[0;34m\u001b[0m\u001b[0;34m\u001b[0m\u001b[0m\n\u001b[1;32m    309\u001b[0m     (lhs, rhs) = _do_highlevel_design(formula_like, data, eval_env,\n\u001b[0;32m--> 310\u001b[0;31m                                       NA_action, return_type)\n\u001b[0m\u001b[1;32m    311\u001b[0m     \u001b[0;32mif\u001b[0m \u001b[0mlhs\u001b[0m\u001b[0;34m.\u001b[0m\u001b[0mshape\u001b[0m\u001b[0;34m[\u001b[0m\u001b[0;36m1\u001b[0m\u001b[0;34m]\u001b[0m \u001b[0;34m==\u001b[0m \u001b[0;36m0\u001b[0m\u001b[0;34m:\u001b[0m\u001b[0;34m\u001b[0m\u001b[0;34m\u001b[0m\u001b[0m\n\u001b[1;32m    312\u001b[0m         \u001b[0;32mraise\u001b[0m \u001b[0mPatsyError\u001b[0m\u001b[0;34m(\u001b[0m\u001b[0;34m\"model is missing required outcome variables\"\u001b[0m\u001b[0;34m)\u001b[0m\u001b[0;34m\u001b[0m\u001b[0;34m\u001b[0m\u001b[0m\n",
      "\u001b[0;32m/Applications/Ana/anaconda/lib/python3.6/site-packages/patsy/highlevel.py\u001b[0m in \u001b[0;36m_do_highlevel_design\u001b[0;34m(formula_like, data, eval_env, NA_action, return_type)\u001b[0m\n\u001b[1;32m    163\u001b[0m         \u001b[0;32mreturn\u001b[0m \u001b[0miter\u001b[0m\u001b[0;34m(\u001b[0m\u001b[0;34m[\u001b[0m\u001b[0mdata\u001b[0m\u001b[0;34m]\u001b[0m\u001b[0;34m)\u001b[0m\u001b[0;34m\u001b[0m\u001b[0;34m\u001b[0m\u001b[0m\n\u001b[1;32m    164\u001b[0m     design_infos = _try_incr_builders(formula_like, data_iter_maker, eval_env,\n\u001b[0;32m--> 165\u001b[0;31m                                       NA_action)\n\u001b[0m\u001b[1;32m    166\u001b[0m     \u001b[0;32mif\u001b[0m \u001b[0mdesign_infos\u001b[0m \u001b[0;32mis\u001b[0m \u001b[0;32mnot\u001b[0m \u001b[0;32mNone\u001b[0m\u001b[0;34m:\u001b[0m\u001b[0;34m\u001b[0m\u001b[0;34m\u001b[0m\u001b[0m\n\u001b[1;32m    167\u001b[0m         return build_design_matrices(design_infos, data,\n",
      "\u001b[0;32m/Applications/Ana/anaconda/lib/python3.6/site-packages/patsy/highlevel.py\u001b[0m in \u001b[0;36m_try_incr_builders\u001b[0;34m(formula_like, data_iter_maker, eval_env, NA_action)\u001b[0m\n\u001b[1;32m     60\u001b[0m                 \"ascii-only, or else upgrade to Python 3.\")\n\u001b[1;32m     61\u001b[0m     \u001b[0;32mif\u001b[0m \u001b[0misinstance\u001b[0m\u001b[0;34m(\u001b[0m\u001b[0mformula_like\u001b[0m\u001b[0;34m,\u001b[0m \u001b[0mstr\u001b[0m\u001b[0;34m)\u001b[0m\u001b[0;34m:\u001b[0m\u001b[0;34m\u001b[0m\u001b[0;34m\u001b[0m\u001b[0m\n\u001b[0;32m---> 62\u001b[0;31m         \u001b[0mformula_like\u001b[0m \u001b[0;34m=\u001b[0m \u001b[0mModelDesc\u001b[0m\u001b[0;34m.\u001b[0m\u001b[0mfrom_formula\u001b[0m\u001b[0;34m(\u001b[0m\u001b[0mformula_like\u001b[0m\u001b[0;34m)\u001b[0m\u001b[0;34m\u001b[0m\u001b[0;34m\u001b[0m\u001b[0m\n\u001b[0m\u001b[1;32m     63\u001b[0m         \u001b[0;31m# fallthrough\u001b[0m\u001b[0;34m\u001b[0m\u001b[0;34m\u001b[0m\u001b[0;34m\u001b[0m\u001b[0m\n\u001b[1;32m     64\u001b[0m     \u001b[0;32mif\u001b[0m \u001b[0misinstance\u001b[0m\u001b[0;34m(\u001b[0m\u001b[0mformula_like\u001b[0m\u001b[0;34m,\u001b[0m \u001b[0mModelDesc\u001b[0m\u001b[0;34m)\u001b[0m\u001b[0;34m:\u001b[0m\u001b[0;34m\u001b[0m\u001b[0;34m\u001b[0m\u001b[0m\n",
      "\u001b[0;32m/Applications/Ana/anaconda/lib/python3.6/site-packages/patsy/desc.py\u001b[0m in \u001b[0;36mfrom_formula\u001b[0;34m(cls, tree_or_string)\u001b[0m\n\u001b[1;32m    162\u001b[0m             \u001b[0mtree\u001b[0m \u001b[0;34m=\u001b[0m \u001b[0mtree_or_string\u001b[0m\u001b[0;34m\u001b[0m\u001b[0;34m\u001b[0m\u001b[0m\n\u001b[1;32m    163\u001b[0m         \u001b[0;32melse\u001b[0m\u001b[0;34m:\u001b[0m\u001b[0;34m\u001b[0m\u001b[0;34m\u001b[0m\u001b[0m\n\u001b[0;32m--> 164\u001b[0;31m             \u001b[0mtree\u001b[0m \u001b[0;34m=\u001b[0m \u001b[0mparse_formula\u001b[0m\u001b[0;34m(\u001b[0m\u001b[0mtree_or_string\u001b[0m\u001b[0;34m)\u001b[0m\u001b[0;34m\u001b[0m\u001b[0;34m\u001b[0m\u001b[0m\n\u001b[0m\u001b[1;32m    165\u001b[0m         \u001b[0mvalue\u001b[0m \u001b[0;34m=\u001b[0m \u001b[0mEvaluator\u001b[0m\u001b[0;34m(\u001b[0m\u001b[0;34m)\u001b[0m\u001b[0;34m.\u001b[0m\u001b[0meval\u001b[0m\u001b[0;34m(\u001b[0m\u001b[0mtree\u001b[0m\u001b[0;34m,\u001b[0m \u001b[0mrequire_evalexpr\u001b[0m\u001b[0;34m=\u001b[0m\u001b[0;32mFalse\u001b[0m\u001b[0;34m)\u001b[0m\u001b[0;34m\u001b[0m\u001b[0;34m\u001b[0m\u001b[0m\n\u001b[1;32m    166\u001b[0m         \u001b[0;32massert\u001b[0m \u001b[0misinstance\u001b[0m\u001b[0;34m(\u001b[0m\u001b[0mvalue\u001b[0m\u001b[0;34m,\u001b[0m \u001b[0mcls\u001b[0m\u001b[0;34m)\u001b[0m\u001b[0;34m\u001b[0m\u001b[0;34m\u001b[0m\u001b[0m\n",
      "\u001b[0;32m/Applications/Ana/anaconda/lib/python3.6/site-packages/patsy/parse_formula.py\u001b[0m in \u001b[0;36mparse_formula\u001b[0;34m(code, extra_operators)\u001b[0m\n\u001b[1;32m    146\u001b[0m     tree = infix_parse(_tokenize_formula(code, operator_strings),\n\u001b[1;32m    147\u001b[0m                        \u001b[0moperators\u001b[0m\u001b[0;34m,\u001b[0m\u001b[0;34m\u001b[0m\u001b[0;34m\u001b[0m\u001b[0m\n\u001b[0;32m--> 148\u001b[0;31m                        _atomic_token_types)\n\u001b[0m\u001b[1;32m    149\u001b[0m     \u001b[0;32mif\u001b[0m \u001b[0;32mnot\u001b[0m \u001b[0misinstance\u001b[0m\u001b[0;34m(\u001b[0m\u001b[0mtree\u001b[0m\u001b[0;34m,\u001b[0m \u001b[0mParseNode\u001b[0m\u001b[0;34m)\u001b[0m \u001b[0;32mor\u001b[0m \u001b[0mtree\u001b[0m\u001b[0;34m.\u001b[0m\u001b[0mtype\u001b[0m \u001b[0;34m!=\u001b[0m \u001b[0;34m\"~\"\u001b[0m\u001b[0;34m:\u001b[0m\u001b[0;34m\u001b[0m\u001b[0;34m\u001b[0m\u001b[0m\n\u001b[1;32m    150\u001b[0m         \u001b[0mtree\u001b[0m \u001b[0;34m=\u001b[0m \u001b[0mParseNode\u001b[0m\u001b[0;34m(\u001b[0m\u001b[0;34m\"~\"\u001b[0m\u001b[0;34m,\u001b[0m \u001b[0;32mNone\u001b[0m\u001b[0;34m,\u001b[0m \u001b[0;34m[\u001b[0m\u001b[0mtree\u001b[0m\u001b[0;34m]\u001b[0m\u001b[0;34m,\u001b[0m \u001b[0mtree\u001b[0m\u001b[0;34m.\u001b[0m\u001b[0morigin\u001b[0m\u001b[0;34m)\u001b[0m\u001b[0;34m\u001b[0m\u001b[0;34m\u001b[0m\u001b[0m\n",
      "\u001b[0;32m/Applications/Ana/anaconda/lib/python3.6/site-packages/patsy/infix_parser.py\u001b[0m in \u001b[0;36minfix_parse\u001b[0;34m(tokens, operators, atomic_types, trace)\u001b[0m\n\u001b[1;32m    208\u001b[0m \u001b[0;34m\u001b[0m\u001b[0m\n\u001b[1;32m    209\u001b[0m     \u001b[0mwant_noun\u001b[0m \u001b[0;34m=\u001b[0m \u001b[0;32mTrue\u001b[0m\u001b[0;34m\u001b[0m\u001b[0;34m\u001b[0m\u001b[0m\n\u001b[0;32m--> 210\u001b[0;31m     \u001b[0;32mfor\u001b[0m \u001b[0mtoken\u001b[0m \u001b[0;32min\u001b[0m \u001b[0mtoken_source\u001b[0m\u001b[0;34m:\u001b[0m\u001b[0;34m\u001b[0m\u001b[0;34m\u001b[0m\u001b[0m\n\u001b[0m\u001b[1;32m    211\u001b[0m         \u001b[0;32mif\u001b[0m \u001b[0mc\u001b[0m\u001b[0;34m.\u001b[0m\u001b[0mtrace\u001b[0m\u001b[0;34m:\u001b[0m\u001b[0;34m\u001b[0m\u001b[0;34m\u001b[0m\u001b[0m\n\u001b[1;32m    212\u001b[0m             \u001b[0mprint\u001b[0m\u001b[0;34m(\u001b[0m\u001b[0;34m\"Reading next token (want_noun=%r)\"\u001b[0m \u001b[0;34m%\u001b[0m \u001b[0;34m(\u001b[0m\u001b[0mwant_noun\u001b[0m\u001b[0;34m,\u001b[0m\u001b[0;34m)\u001b[0m\u001b[0;34m)\u001b[0m\u001b[0;34m\u001b[0m\u001b[0;34m\u001b[0m\u001b[0m\n",
      "\u001b[0;32m/Applications/Ana/anaconda/lib/python3.6/site-packages/patsy/parse_formula.py\u001b[0m in \u001b[0;36m_tokenize_formula\u001b[0;34m(code, operator_strings)\u001b[0m\n\u001b[1;32m     92\u001b[0m         \u001b[0;32melse\u001b[0m\u001b[0;34m:\u001b[0m\u001b[0;34m\u001b[0m\u001b[0;34m\u001b[0m\u001b[0m\n\u001b[1;32m     93\u001b[0m             \u001b[0mit\u001b[0m\u001b[0;34m.\u001b[0m\u001b[0mpush_back\u001b[0m\u001b[0;34m(\u001b[0m\u001b[0;34m(\u001b[0m\u001b[0mpytype\u001b[0m\u001b[0;34m,\u001b[0m \u001b[0mtoken_string\u001b[0m\u001b[0;34m,\u001b[0m \u001b[0morigin\u001b[0m\u001b[0;34m)\u001b[0m\u001b[0;34m)\u001b[0m\u001b[0;34m\u001b[0m\u001b[0;34m\u001b[0m\u001b[0m\n\u001b[0;32m---> 94\u001b[0;31m             \u001b[0;32myield\u001b[0m \u001b[0m_read_python_expr\u001b[0m\u001b[0;34m(\u001b[0m\u001b[0mit\u001b[0m\u001b[0;34m,\u001b[0m \u001b[0mend_tokens\u001b[0m\u001b[0;34m)\u001b[0m\u001b[0;34m\u001b[0m\u001b[0;34m\u001b[0m\u001b[0m\n\u001b[0m\u001b[1;32m     95\u001b[0m \u001b[0;34m\u001b[0m\u001b[0m\n\u001b[1;32m     96\u001b[0m \u001b[0;32mdef\u001b[0m \u001b[0mtest__tokenize_formula\u001b[0m\u001b[0;34m(\u001b[0m\u001b[0;34m)\u001b[0m\u001b[0;34m:\u001b[0m\u001b[0;34m\u001b[0m\u001b[0;34m\u001b[0m\u001b[0m\n",
      "\u001b[0;32m/Applications/Ana/anaconda/lib/python3.6/site-packages/patsy/parse_formula.py\u001b[0m in \u001b[0;36m_read_python_expr\u001b[0;34m(it, end_tokens)\u001b[0m\n\u001b[1;32m     42\u001b[0m     \u001b[0morigins\u001b[0m \u001b[0;34m=\u001b[0m \u001b[0;34m[\u001b[0m\u001b[0;34m]\u001b[0m\u001b[0;34m\u001b[0m\u001b[0;34m\u001b[0m\u001b[0m\n\u001b[1;32m     43\u001b[0m     \u001b[0mbracket_level\u001b[0m \u001b[0;34m=\u001b[0m \u001b[0;36m0\u001b[0m\u001b[0;34m\u001b[0m\u001b[0;34m\u001b[0m\u001b[0m\n\u001b[0;32m---> 44\u001b[0;31m     \u001b[0;32mfor\u001b[0m \u001b[0mpytype\u001b[0m\u001b[0;34m,\u001b[0m \u001b[0mtoken_string\u001b[0m\u001b[0;34m,\u001b[0m \u001b[0morigin\u001b[0m \u001b[0;32min\u001b[0m \u001b[0mit\u001b[0m\u001b[0;34m:\u001b[0m\u001b[0;34m\u001b[0m\u001b[0;34m\u001b[0m\u001b[0m\n\u001b[0m\u001b[1;32m     45\u001b[0m         \u001b[0;32massert\u001b[0m \u001b[0mbracket_level\u001b[0m \u001b[0;34m>=\u001b[0m \u001b[0;36m0\u001b[0m\u001b[0;34m\u001b[0m\u001b[0;34m\u001b[0m\u001b[0m\n\u001b[1;32m     46\u001b[0m         \u001b[0;32mif\u001b[0m \u001b[0mbracket_level\u001b[0m \u001b[0;34m==\u001b[0m \u001b[0;36m0\u001b[0m \u001b[0;32mand\u001b[0m \u001b[0mtoken_string\u001b[0m \u001b[0;32min\u001b[0m \u001b[0mend_tokens\u001b[0m\u001b[0;34m:\u001b[0m\u001b[0;34m\u001b[0m\u001b[0;34m\u001b[0m\u001b[0m\n",
      "\u001b[0;32m/Applications/Ana/anaconda/lib/python3.6/site-packages/patsy/util.py\u001b[0m in \u001b[0;36mnext\u001b[0;34m(self)\u001b[0m\n\u001b[1;32m    330\u001b[0m         \u001b[0;32melse\u001b[0m\u001b[0;34m:\u001b[0m\u001b[0;34m\u001b[0m\u001b[0;34m\u001b[0m\u001b[0m\n\u001b[1;32m    331\u001b[0m             \u001b[0;31m# May raise StopIteration\u001b[0m\u001b[0;34m\u001b[0m\u001b[0;34m\u001b[0m\u001b[0;34m\u001b[0m\u001b[0m\n\u001b[0;32m--> 332\u001b[0;31m             \u001b[0;32mreturn\u001b[0m \u001b[0msix\u001b[0m\u001b[0;34m.\u001b[0m\u001b[0madvance_iterator\u001b[0m\u001b[0;34m(\u001b[0m\u001b[0mself\u001b[0m\u001b[0;34m.\u001b[0m\u001b[0m_it\u001b[0m\u001b[0;34m)\u001b[0m\u001b[0;34m\u001b[0m\u001b[0;34m\u001b[0m\u001b[0m\n\u001b[0m\u001b[1;32m    333\u001b[0m     \u001b[0m__next__\u001b[0m \u001b[0;34m=\u001b[0m \u001b[0mnext\u001b[0m\u001b[0;34m\u001b[0m\u001b[0;34m\u001b[0m\u001b[0m\n\u001b[1;32m    334\u001b[0m \u001b[0;34m\u001b[0m\u001b[0m\n",
      "\u001b[0;32m/Applications/Ana/anaconda/lib/python3.6/site-packages/patsy/tokens.py\u001b[0m in \u001b[0;36mpython_tokenize\u001b[0;34m(code)\u001b[0m\n\u001b[1;32m     33\u001b[0m                 \u001b[0;32mbreak\u001b[0m\u001b[0;34m\u001b[0m\u001b[0;34m\u001b[0m\u001b[0m\n\u001b[1;32m     34\u001b[0m             \u001b[0morigin\u001b[0m \u001b[0;34m=\u001b[0m \u001b[0mOrigin\u001b[0m\u001b[0;34m(\u001b[0m\u001b[0mcode\u001b[0m\u001b[0;34m,\u001b[0m \u001b[0mstart\u001b[0m\u001b[0;34m,\u001b[0m \u001b[0mend\u001b[0m\u001b[0;34m)\u001b[0m\u001b[0;34m\u001b[0m\u001b[0;34m\u001b[0m\u001b[0m\n\u001b[0;32m---> 35\u001b[0;31m             \u001b[0;32massert\u001b[0m \u001b[0mpytype\u001b[0m \u001b[0;32mnot\u001b[0m \u001b[0;32min\u001b[0m \u001b[0;34m(\u001b[0m\u001b[0mtokenize\u001b[0m\u001b[0;34m.\u001b[0m\u001b[0mNL\u001b[0m\u001b[0;34m,\u001b[0m \u001b[0mtokenize\u001b[0m\u001b[0;34m.\u001b[0m\u001b[0mNEWLINE\u001b[0m\u001b[0;34m)\u001b[0m\u001b[0;34m\u001b[0m\u001b[0;34m\u001b[0m\u001b[0m\n\u001b[0m\u001b[1;32m     36\u001b[0m             \u001b[0;32mif\u001b[0m \u001b[0mpytype\u001b[0m \u001b[0;34m==\u001b[0m \u001b[0mtokenize\u001b[0m\u001b[0;34m.\u001b[0m\u001b[0mERRORTOKEN\u001b[0m\u001b[0;34m:\u001b[0m\u001b[0;34m\u001b[0m\u001b[0;34m\u001b[0m\u001b[0m\n\u001b[1;32m     37\u001b[0m                 raise PatsyError(\"error tokenizing input \"\n",
      "\u001b[0;31mAssertionError\u001b[0m: "
     ]
    }
   ],
   "source": [
    "linear_model_0900 = smf.ols(formula=formula_0900, data=df) \n",
    "linear_fit_0900 = linear_model_0900.fit()\n",
    "display(linear_fit_0900.summary())"
   ]
  },
  {
   "cell_type": "markdown",
   "metadata": {
    "colab_type": "text",
    "id": "LEI3JF5VQAd-"
   },
   "source": [
    "We can also plot the results directly using the [``statsmodels.graphics.plot_fit``](http://www.statsmodels.org/stable/generated/statsmodels.graphics.regressionplots.plot_fit.html) function."
   ]
  },
  {
   "cell_type": "code",
   "execution_count": 8,
   "metadata": {
    "colab": {
     "base_uri": "https://localhost:8080/",
     "height": 295
    },
    "colab_type": "code",
    "executionInfo": {
     "elapsed": 617,
     "status": "ok",
     "timestamp": 1555367330835,
     "user": {
      "displayName": "Donatella Taurasi",
      "photoUrl": "https://lh5.googleusercontent.com/-UOjzVOt1NjU/AAAAAAAAAAI/AAAAAAAAAJU/HTVVF8KTbdM/s64/photo.jpg",
      "userId": "00673418551725000492"
     },
     "user_tz": 420
    },
    "id": "KcvM72tJQE_H",
    "outputId": "439434f5-da2b-4ccd-ed99-8d10b6e96505"
   },
   "outputs": [
    {
     "data": {
      "image/png": "[encoded data removed]",
      "text/plain": [
       "<Figure size 432x288 with 1 Axes>"
      ]
     },
     "metadata": {
      "tags": []
     },
     "output_type": "display_data"
    }
   ],
   "source": [
    "sm.graphics.plot_fit(linear_fit_0900, 'Q(\"DAX at 9:00\")')\n",
    "plt.show()"
   ]
  },
  {
   "cell_type": "markdown",
   "metadata": {
    "colab_type": "text",
    "id": "kRN7WeAsQnvD"
   },
   "source": [
    "## Fitting to DAX at 12:00\n",
    "Let's run the same analysis but with data at a different closing time."
   ]
  },
  {
   "cell_type": "code",
   "execution_count": 9,
   "metadata": {
    "colab": {
     "base_uri": "https://localhost:8080/",
     "height": 376
    },
    "colab_type": "code",
    "executionInfo": {
     "elapsed": 305,
     "status": "ok",
     "timestamp": 1555367829381,
     "user": {
      "displayName": "Donatella Taurasi",
      "photoUrl": "https://lh5.googleusercontent.com/-UOjzVOt1NjU/AAAAAAAAAAI/AAAAAAAAAJU/HTVVF8KTbdM/s64/photo.jpg",
      "userId": "00673418551725000492"
     },
     "user_tz": 420
    },
    "id": "xKvyqO3NQqEz",
    "outputId": "03ca6a69-f421-4169-db94-2fbe1a79e973"
   },
   "outputs": [
    {
     "data": {
      "text/html": [
       "<table class=\"simpletable\">\n",
       "<caption>OLS Regression Results</caption>\n",
       "<tr>\n",
       "  <th>Dep. Variable:</th>    <td>Q(\"Generali Investments\")</td> <th>  R-squared:         </th> <td>   0.173</td>\n",
       "</tr>\n",
       "<tr>\n",
       "  <th>Model:</th>                       <td>OLS</td>            <th>  Adj. R-squared:    </th> <td>   0.170</td>\n",
       "</tr>\n",
       "<tr>\n",
       "  <th>Method:</th>                 <td>Least Squares</td>       <th>  F-statistic:       </th> <td>   52.78</td>\n",
       "</tr>\n",
       "<tr>\n",
       "  <th>Date:</th>                 <td>Mon, 15 Apr 2019</td>      <th>  Prob (F-statistic):</th> <td>4.66e-12</td>\n",
       "</tr>\n",
       "<tr>\n",
       "  <th>Time:</th>                     <td>22:37:09</td>          <th>  Log-Likelihood:    </th> <td>  814.06</td>\n",
       "</tr>\n",
       "<tr>\n",
       "  <th>No. Observations:</th>          <td>   254</td>           <th>  AIC:               </th> <td>  -1624.</td>\n",
       "</tr>\n",
       "<tr>\n",
       "  <th>Df Residuals:</th>              <td>   252</td>           <th>  BIC:               </th> <td>  -1617.</td>\n",
       "</tr>\n",
       "<tr>\n",
       "  <th>Df Model:</th>                  <td>     1</td>           <th>                     </th>     <td> </td>   \n",
       "</tr>\n",
       "<tr>\n",
       "  <th>Covariance Type:</th>          <td>nonrobust</td>         <th>                     </th>     <td> </td>   \n",
       "</tr>\n",
       "</table>\n",
       "<table class=\"simpletable\">\n",
       "<tr>\n",
       "          <td></td>             <th>coef</th>     <th>std err</th>      <th>t</th>      <th>P>|t|</th>  <th>[0.025</th>    <th>0.975]</th>  \n",
       "</tr>\n",
       "<tr>\n",
       "  <th>Intercept</th>         <td>    0.0004</td> <td>    0.001</td> <td>    0.656</td> <td> 0.513</td> <td>   -0.001</td> <td>    0.002</td>\n",
       "</tr>\n",
       "<tr>\n",
       "  <th>Q(\"DAX at 12:00\")</th> <td>    0.3948</td> <td>    0.054</td> <td>    7.265</td> <td> 0.000</td> <td>    0.288</td> <td>    0.502</td>\n",
       "</tr>\n",
       "</table>\n",
       "<table class=\"simpletable\">\n",
       "<tr>\n",
       "  <th>Omnibus:</th>       <td>35.231</td> <th>  Durbin-Watson:     </th> <td>   2.586</td>\n",
       "</tr>\n",
       "<tr>\n",
       "  <th>Prob(Omnibus):</th> <td> 0.000</td> <th>  Jarque-Bera (JB):  </th> <td> 218.446</td>\n",
       "</tr>\n",
       "<tr>\n",
       "  <th>Skew:</th>          <td> 0.226</td> <th>  Prob(JB):          </th> <td>3.67e-48</td>\n",
       "</tr>\n",
       "<tr>\n",
       "  <th>Kurtosis:</th>      <td> 7.521</td> <th>  Cond. No.          </th> <td>    87.9</td>\n",
       "</tr>\n",
       "</table>"
      ],
      "text/plain": [
       "<class 'statsmodels.iolib.summary.Summary'>\n",
       "\"\"\"\n",
       "                                OLS Regression Results                               \n",
       "=====================================================================================\n",
       "Dep. Variable:     Q(\"Generali Investments\")   R-squared:                       0.173\n",
       "Model:                                   OLS   Adj. R-squared:                  0.170\n",
       "Method:                        Least Squares   F-statistic:                     52.78\n",
       "Date:                       Mon, 15 Apr 2019   Prob (F-statistic):           4.66e-12\n",
       "Time:                               22:37:09   Log-Likelihood:                 814.06\n",
       "No. Observations:                        254   AIC:                            -1624.\n",
       "Df Residuals:                            252   BIC:                            -1617.\n",
       "Df Model:                                  1                                         \n",
       "Covariance Type:                   nonrobust                                         \n",
       "=====================================================================================\n",
       "                        coef    std err          t      P>|t|      [0.025      0.975]\n",
       "-------------------------------------------------------------------------------------\n",
       "Intercept             0.0004      0.001      0.656      0.513      -0.001       0.002\n",
       "Q(\"DAX at 12:00\")     0.3948      0.054      7.265      0.000       0.288       0.502\n",
       "==============================================================================\n",
       "Omnibus:                       35.231   Durbin-Watson:                   2.586\n",
       "Prob(Omnibus):                  0.000   Jarque-Bera (JB):              218.446\n",
       "Skew:                           0.226   Prob(JB):                     3.67e-48\n",
       "Kurtosis:                       7.521   Cond. No.                         87.9\n",
       "==============================================================================\n",
       "\n",
       "Warnings:\n",
       "[1] Standard Errors assume that the covariance matrix of the errors is correctly specified.\n",
       "\"\"\""
      ]
     },
     "metadata": {
      "tags": []
     },
     "output_type": "display_data"
    }
   ],
   "source": [
    "formula_1200 = 'Q(\"Generali Investments\") ~ Q(\"DAX at 12:00\")'\n",
    "linear_fit_1200 = smf.ols(formula=formula_1200, data=df).fit()\n",
    "display(linear_fit_1200.summary())"
   ]
  },
  {
   "cell_type": "markdown",
   "metadata": {
    "colab_type": "text",
    "id": "H1jcs03yQxdQ"
   },
   "source": [
    "**Q:** How would you qualify this fit? Is it a good fit or a bad fit? What metric would you look at in order to support your analysis?\n",
    "\n",
    "Let's plot our fit to see if it agrees with our analysis? What do we think the plot will look like compared to the previous plot of 9:00?"
   ]
  },
  {
   "cell_type": "code",
   "execution_count": 10,
   "metadata": {
    "colab": {
     "base_uri": "https://localhost:8080/",
     "height": 295
    },
    "colab_type": "code",
    "executionInfo": {
     "elapsed": 516,
     "status": "ok",
     "timestamp": 1555367927152,
     "user": {
      "displayName": "Donatella Taurasi",
      "photoUrl": "https://lh5.googleusercontent.com/-UOjzVOt1NjU/AAAAAAAAAAI/AAAAAAAAAJU/HTVVF8KTbdM/s64/photo.jpg",
      "userId": "00673418551725000492"
     },
     "user_tz": 420
    },
    "id": "yc3x6dpPQ1Cz",
    "outputId": "93f51100-dc8d-4c60-a773-052c515a84a1"
   },
   "outputs": [
    {
     "data": {
      "image/png": "[encoded data removed]",
      "text/plain": [
       "<Figure size 432x288 with 1 Axes>"
      ]
     },
     "metadata": {
      "tags": []
     },
     "output_type": "display_data"
    }
   ],
   "source": [
    "sm.graphics.plot_fit(linear_fit_1200, 'Q(\"DAX at 12:00\")')\n",
    "plt.show()"
   ]
  },
  {
   "cell_type": "markdown",
   "metadata": {
    "colab_type": "text",
    "id": "Rwf-giVhQU0J"
   },
   "source": [
    "## Getting More Details for our Fit"
   ]
  },
  {
   "cell_type": "markdown",
   "metadata": {
    "colab_type": "text",
    "id": "rR8FYNaXiWx9"
   },
   "source": [
    "In addition to calling ``summary`` on ``linear_fit``, we can query any of its other properties, which are can be found in the [``RegressionResults``](https://www.statsmodels.org/0.8.0/generated/statsmodels.regression.linear_model.RegressionResults.html) documentation.\n",
    "\n",
    "We may be interested in\n",
    "* ``linear_fit.params`` which has our $\\alpha$ and $\\beta$.\n",
    "* ``bse`` which has \"the standard errors of the parameter estimates\".\n",
    "* ``tvalues`` and ``pvalues`` which have our $t$ and $p$-values.\n",
    "*  [``conf_int``](https://www.statsmodels.org/devel/generated/statsmodels.regression.linear_model.RegressionResults.conf_int.html#statsmodels.regression.linear_model.RegressionResults.conf_int) which gives us our confidence interval.\n",
    "* ``rsquared`` which gives us our $R^2$ value.\n",
    "\n",
    "Most of these functions give values for every dependent variable, and we can select the dependent variable that we're interested in."
   ]
  },
  {
   "cell_type": "code",
   "execution_count": 11,
   "metadata": {
    "colab": {
     "base_uri": "https://localhost:8080/",
     "height": 68
    },
    "colab_type": "code",
    "executionInfo": {
     "elapsed": 474,
     "status": "ok",
     "timestamp": 1555367989939,
     "user": {
      "displayName": "Donatella Taurasi",
      "photoUrl": "https://lh5.googleusercontent.com/-UOjzVOt1NjU/AAAAAAAAAAI/AAAAAAAAAJU/HTVVF8KTbdM/s64/photo.jpg",
      "userId": "00673418551725000492"
     },
     "user_tz": 420
    },
    "id": "VboqPKfNixxo",
    "outputId": "702ed8a5-7a5c-41b8-8de8-f02350b97bb6"
   },
   "outputs": [
    {
     "data": {
      "text/plain": [
       "Intercept          0.00007743\n",
       "Q(\"DAX at 9:00\")   0.91452797\n",
       "dtype: float64"
      ]
     },
     "metadata": {
      "tags": []
     },
     "output_type": "display_data"
    }
   ],
   "source": [
    "display(linear_fit_0900.params)"
   ]
  },
  {
   "cell_type": "code",
   "execution_count": 12,
   "metadata": {
    "colab": {
     "base_uri": "https://localhost:8080/",
     "height": 68
    },
    "colab_type": "code",
    "executionInfo": {
     "elapsed": 320,
     "status": "ok",
     "timestamp": 1555367998276,
     "user": {
      "displayName": "Donatella Taurasi",
      "photoUrl": "https://lh5.googleusercontent.com/-UOjzVOt1NjU/AAAAAAAAAAI/AAAAAAAAAJU/HTVVF8KTbdM/s64/photo.jpg",
      "userId": "00673418551725000492"
     },
     "user_tz": 420
    },
    "id": "RimhHmmGDgk4",
    "outputId": "c54644ec-08ad-4353-a665-5664b7281383"
   },
   "outputs": [
    {
     "data": {
      "text/plain": [
       "Intercept          0.62276502\n",
       "Q(\"DAX at 9:00\")   0.00000000\n",
       "dtype: float64"
      ]
     },
     "metadata": {
      "tags": []
     },
     "output_type": "display_data"
    }
   ],
   "source": [
    "display(linear_fit_0900.pvalues)"
   ]
  },
  {
   "cell_type": "code",
   "execution_count": 13,
   "metadata": {
    "colab": {
     "base_uri": "https://localhost:8080/",
     "height": 111
    },
    "colab_type": "code",
    "executionInfo": {
     "elapsed": 329,
     "status": "ok",
     "timestamp": 1555368064478,
     "user": {
      "displayName": "Donatella Taurasi",
      "photoUrl": "https://lh5.googleusercontent.com/-UOjzVOt1NjU/AAAAAAAAAAI/AAAAAAAAAJU/HTVVF8KTbdM/s64/photo.jpg",
      "userId": "00673418551725000492"
     },
     "user_tz": 420
    },
    "id": "8zqfR71tNPG-",
    "outputId": "6746d284-f19b-4824-b078-b7a68631f101"
   },
   "outputs": [
    {
     "data": {
      "text/html": [
       "<div>\n",
       "<style scoped>\n",
       "    .dataframe tbody tr th:only-of-type {\n",
       "        vertical-align: middle;\n",
       "    }\n",
       "\n",
       "    .dataframe tbody tr th {\n",
       "        vertical-align: top;\n",
       "    }\n",
       "\n",
       "    .dataframe thead th {\n",
       "        text-align: right;\n",
       "    }\n",
       "</style>\n",
       "<table border=\"1\" class=\"dataframe\">\n",
       "  <thead>\n",
       "    <tr style=\"text-align: right;\">\n",
       "      <th></th>\n",
       "      <th>0</th>\n",
       "      <th>1</th>\n",
       "    </tr>\n",
       "  </thead>\n",
       "  <tbody>\n",
       "    <tr>\n",
       "      <th>Intercept</th>\n",
       "      <td>-0.00023218</td>\n",
       "      <td>0.00038705</td>\n",
       "    </tr>\n",
       "    <tr>\n",
       "      <th>Q(\"DAX at 9:00\")</th>\n",
       "      <td>0.88760914</td>\n",
       "      <td>0.94144679</td>\n",
       "    </tr>\n",
       "  </tbody>\n",
       "</table>\n",
       "</div>"
      ],
      "text/plain": [
       "                           0          1\n",
       "Intercept        -0.00023218 0.00038705\n",
       "Q(\"DAX at 9:00\")  0.88760914 0.94144679"
      ]
     },
     "metadata": {
      "tags": []
     },
     "output_type": "display_data"
    }
   ],
   "source": [
    "display(linear_fit_0900.conf_int())"
   ]
  },
  {
   "cell_type": "markdown",
   "metadata": {
    "colab_type": "text",
    "id": "HEqgmQuQU1CD"
   },
   "source": [
    "### Putting them in our own ``DataFrame``\n",
    "\n",
    "Let's create our own ``DataFrame`` with the times for rows and the properties of our linear fit in the columns.\n",
    "\n",
    "First, let's define what our columns will be."
   ]
  },
  {
   "cell_type": "code",
   "execution_count": 14,
   "metadata": {
    "colab": {
     "base_uri": "https://localhost:8080/",
     "height": 34
    },
    "colab_type": "code",
    "executionInfo": {
     "elapsed": 315,
     "status": "ok",
     "timestamp": 1555368165981,
     "user": {
      "displayName": "Donatella Taurasi",
      "photoUrl": "https://lh5.googleusercontent.com/-UOjzVOt1NjU/AAAAAAAAAAI/AAAAAAAAAJU/HTVVF8KTbdM/s64/photo.jpg",
      "userId": "00673418551725000492"
     },
     "user_tz": 420
    },
    "id": "AXc-A8SjVVkF",
    "outputId": "f4ac5de7-1a7b-431c-de9a-2c9b1f24707e"
   },
   "outputs": [
    {
     "data": {
      "text/plain": [
       "['Time', 'beta', 'sigma', 't', 'p-value', 'conf-lo', 'conf-hi', 'rsquared']"
      ]
     },
     "metadata": {
      "tags": []
     },
     "output_type": "display_data"
    }
   ],
   "source": [
    "linear_fit_results_columns = [\n",
    "  'Time', 'beta', 'sigma', 't', 'p-value', 'conf-lo', 'conf-hi', 'rsquared'\n",
    "]\n",
    "display(linear_fit_results_columns)"
   ]
  },
  {
   "cell_type": "markdown",
   "metadata": {
    "colab_type": "text",
    "id": "FfD-_LWQVZKa"
   },
   "source": [
    "And now let's create an empty ``DataFrame`` called ``linear_fit_results_df`` with those columns."
   ]
  },
  {
   "cell_type": "code",
   "execution_count": 15,
   "metadata": {
    "colab": {
     "base_uri": "https://localhost:8080/",
     "height": 49
    },
    "colab_type": "code",
    "executionInfo": {
     "elapsed": 313,
     "status": "ok",
     "timestamp": 1555368173823,
     "user": {
      "displayName": "Donatella Taurasi",
      "photoUrl": "https://lh5.googleusercontent.com/-UOjzVOt1NjU/AAAAAAAAAAI/AAAAAAAAAJU/HTVVF8KTbdM/s64/photo.jpg",
      "userId": "00673418551725000492"
     },
     "user_tz": 420
    },
    "id": "gGUpSE6mVgxO",
    "outputId": "3a2ee770-a10e-49d3-86f0-f41e48cebf9c"
   },
   "outputs": [
    {
     "data": {
      "text/html": [
       "<div>\n",
       "<style scoped>\n",
       "    .dataframe tbody tr th:only-of-type {\n",
       "        vertical-align: middle;\n",
       "    }\n",
       "\n",
       "    .dataframe tbody tr th {\n",
       "        vertical-align: top;\n",
       "    }\n",
       "\n",
       "    .dataframe thead th {\n",
       "        text-align: right;\n",
       "    }\n",
       "</style>\n",
       "<table border=\"1\" class=\"dataframe\">\n",
       "  <thead>\n",
       "    <tr style=\"text-align: right;\">\n",
       "      <th></th>\n",
       "      <th>Time</th>\n",
       "      <th>beta</th>\n",
       "      <th>sigma</th>\n",
       "      <th>t</th>\n",
       "      <th>p-value</th>\n",
       "      <th>conf-lo</th>\n",
       "      <th>conf-hi</th>\n",
       "      <th>rsquared</th>\n",
       "    </tr>\n",
       "  </thead>\n",
       "  <tbody>\n",
       "  </tbody>\n",
       "</table>\n",
       "</div>"
      ],
      "text/plain": [
       "Empty DataFrame\n",
       "Columns: [Time, beta, sigma, t, p-value, conf-lo, conf-hi, rsquared]\n",
       "Index: []"
      ]
     },
     "metadata": {
      "tags": []
     },
     "output_type": "display_data"
    }
   ],
   "source": [
    "linear_fit_results_df = pd.DataFrame(columns=linear_fit_results_columns)\n",
    "display(linear_fit_results_df)"
   ]
  },
  {
   "cell_type": "markdown",
   "metadata": {
    "colab_type": "text",
    "id": "ypM_jJiJVlah"
   },
   "source": [
    "Now let's add a row for the data at 9:00am. One way to add a row to a ``DataFrame`` is to create a [``dictionary``](https://docs.python.org/3/tutorial/datastructures.html#dictionaries) specifying the row's values for each column."
   ]
  },
  {
   "cell_type": "code",
   "execution_count": 16,
   "metadata": {
    "colab": {
     "base_uri": "https://localhost:8080/",
     "height": 153
    },
    "colab_type": "code",
    "executionInfo": {
     "elapsed": 316,
     "status": "ok",
     "timestamp": 1555368186497,
     "user": {
      "displayName": "Donatella Taurasi",
      "photoUrl": "https://lh5.googleusercontent.com/-UOjzVOt1NjU/AAAAAAAAAAI/AAAAAAAAAJU/HTVVF8KTbdM/s64/photo.jpg",
      "userId": "00673418551725000492"
     },
     "user_tz": 420
    },
    "id": "KOechHJAMxyD",
    "outputId": "5943d5d7-08a4-4b84-c4a6-c2fcbda8eed5"
   },
   "outputs": [
    {
     "data": {
      "text/plain": [
       "{'Time': '9:00',\n",
       " 'beta': 0.9145279651065021,\n",
       " 'conf-hi': 0.941446789848359,\n",
       " 'conf-lo': 0.8876091403646453,\n",
       " 'p-value': 1.8682207538862815e-162,\n",
       " 'rsquared': 0.9467085753902427,\n",
       " 'sigma': 0.013668385824825522,\n",
       " 't': 66.90826384527934}"
      ]
     },
     "metadata": {
      "tags": []
     },
     "output_type": "display_data"
    }
   ],
   "source": [
    "row_for_0900 = {\n",
    "  'Time' : '9:00',\n",
    "  'beta' : linear_fit_0900.params['Q(\"DAX at 9:00\")'],\n",
    "  'sigma' : linear_fit_0900.bse['Q(\"DAX at 9:00\")'],\n",
    "  't' : linear_fit_0900.tvalues['Q(\"DAX at 9:00\")'],\n",
    "  'p-value' : linear_fit_0900.pvalues['Q(\"DAX at 9:00\")'],\n",
    "  'conf-lo' : linear_fit_0900.conf_int().at['Q(\"DAX at 9:00\")',0],\n",
    "  'conf-hi' : linear_fit_0900.conf_int().at['Q(\"DAX at 9:00\")',1],\n",
    "  'rsquared' : linear_fit_0900.rsquared\n",
    "}\n",
    "display(row_for_0900)"
   ]
  },
  {
   "cell_type": "markdown",
   "metadata": {
    "colab_type": "text",
    "id": "U9vSJeyuVw2g"
   },
   "source": [
    "Now we can use [``DataFrame.append``](https://pandas.pydata.org/pandas-docs/stable/reference/api/pandas.DataFrame.append.html) to append it to our ``linear_fit_results_df``."
   ]
  },
  {
   "cell_type": "code",
   "execution_count": 17,
   "metadata": {
    "colab": {
     "base_uri": "https://localhost:8080/",
     "height": 80
    },
    "colab_type": "code",
    "executionInfo": {
     "elapsed": 289,
     "status": "ok",
     "timestamp": 1555368201681,
     "user": {
      "displayName": "Donatella Taurasi",
      "photoUrl": "https://lh5.googleusercontent.com/-UOjzVOt1NjU/AAAAAAAAAAI/AAAAAAAAAJU/HTVVF8KTbdM/s64/photo.jpg",
      "userId": "00673418551725000492"
     },
     "user_tz": 420
    },
    "id": "0CVxvR46M5_q",
    "outputId": "03ead9b8-a1c8-4b06-cbfc-58bf5d383ea2"
   },
   "outputs": [
    {
     "data": {
      "text/html": [
       "<div>\n",
       "<style scoped>\n",
       "    .dataframe tbody tr th:only-of-type {\n",
       "        vertical-align: middle;\n",
       "    }\n",
       "\n",
       "    .dataframe tbody tr th {\n",
       "        vertical-align: top;\n",
       "    }\n",
       "\n",
       "    .dataframe thead th {\n",
       "        text-align: right;\n",
       "    }\n",
       "</style>\n",
       "<table border=\"1\" class=\"dataframe\">\n",
       "  <thead>\n",
       "    <tr style=\"text-align: right;\">\n",
       "      <th></th>\n",
       "      <th>Time</th>\n",
       "      <th>beta</th>\n",
       "      <th>sigma</th>\n",
       "      <th>t</th>\n",
       "      <th>p-value</th>\n",
       "      <th>conf-lo</th>\n",
       "      <th>conf-hi</th>\n",
       "      <th>rsquared</th>\n",
       "    </tr>\n",
       "  </thead>\n",
       "  <tbody>\n",
       "    <tr>\n",
       "      <th>0</th>\n",
       "      <td>9:00</td>\n",
       "      <td>0.91452797</td>\n",
       "      <td>0.01366839</td>\n",
       "      <td>66.90826385</td>\n",
       "      <td>0.00000000</td>\n",
       "      <td>0.88760914</td>\n",
       "      <td>0.94144679</td>\n",
       "      <td>0.94670858</td>\n",
       "    </tr>\n",
       "  </tbody>\n",
       "</table>\n",
       "</div>"
      ],
      "text/plain": [
       "   Time       beta      sigma           t    p-value    conf-lo    conf-hi  \\\n",
       "0  9:00 0.91452797 0.01366839 66.90826385 0.00000000 0.88760914 0.94144679   \n",
       "\n",
       "    rsquared  \n",
       "0 0.94670858  "
      ]
     },
     "metadata": {
      "tags": []
     },
     "output_type": "display_data"
    }
   ],
   "source": [
    "linear_fit_results_df = linear_fit_results_df.append(\n",
    "    row_for_0900, ignore_index=True)\n",
    "display(linear_fit_results_df)\n"
   ]
  },
  {
   "cell_type": "markdown",
   "metadata": {
    "colab_type": "text",
    "id": "Hg9G5KsoWGbo"
   },
   "source": [
    "And let's do the same thing for 12:00pm."
   ]
  },
  {
   "cell_type": "code",
   "execution_count": 18,
   "metadata": {
    "colab": {
     "base_uri": "https://localhost:8080/",
     "height": 111
    },
    "colab_type": "code",
    "executionInfo": {
     "elapsed": 531,
     "status": "ok",
     "timestamp": 1555368226199,
     "user": {
      "displayName": "Donatella Taurasi",
      "photoUrl": "https://lh5.googleusercontent.com/-UOjzVOt1NjU/AAAAAAAAAAI/AAAAAAAAAJU/HTVVF8KTbdM/s64/photo.jpg",
      "userId": "00673418551725000492"
     },
     "user_tz": 420
    },
    "id": "e9BgeLwSTUC3",
    "outputId": "3ba55e87-57ee-411d-987e-5447de03b413"
   },
   "outputs": [
    {
     "data": {
      "text/html": [
       "<div>\n",
       "<style scoped>\n",
       "    .dataframe tbody tr th:only-of-type {\n",
       "        vertical-align: middle;\n",
       "    }\n",
       "\n",
       "    .dataframe tbody tr th {\n",
       "        vertical-align: top;\n",
       "    }\n",
       "\n",
       "    .dataframe thead th {\n",
       "        text-align: right;\n",
       "    }\n",
       "</style>\n",
       "<table border=\"1\" class=\"dataframe\">\n",
       "  <thead>\n",
       "    <tr style=\"text-align: right;\">\n",
       "      <th></th>\n",
       "      <th>Time</th>\n",
       "      <th>beta</th>\n",
       "      <th>sigma</th>\n",
       "      <th>t</th>\n",
       "      <th>p-value</th>\n",
       "      <th>conf-lo</th>\n",
       "      <th>conf-hi</th>\n",
       "      <th>rsquared</th>\n",
       "    </tr>\n",
       "  </thead>\n",
       "  <tbody>\n",
       "    <tr>\n",
       "      <th>0</th>\n",
       "      <td>9:00</td>\n",
       "      <td>0.91452797</td>\n",
       "      <td>0.01366839</td>\n",
       "      <td>66.90826385</td>\n",
       "      <td>0.00000000</td>\n",
       "      <td>0.88760914</td>\n",
       "      <td>0.94144679</td>\n",
       "      <td>0.94670858</td>\n",
       "    </tr>\n",
       "    <tr>\n",
       "      <th>1</th>\n",
       "      <td>12:00</td>\n",
       "      <td>0.39480509</td>\n",
       "      <td>0.05434461</td>\n",
       "      <td>7.26484423</td>\n",
       "      <td>0.00000000</td>\n",
       "      <td>0.28777761</td>\n",
       "      <td>0.50183258</td>\n",
       "      <td>0.17316856</td>\n",
       "    </tr>\n",
       "  </tbody>\n",
       "</table>\n",
       "</div>"
      ],
      "text/plain": [
       "    Time       beta      sigma           t    p-value    conf-lo    conf-hi  \\\n",
       "0   9:00 0.91452797 0.01366839 66.90826385 0.00000000 0.88760914 0.94144679   \n",
       "1  12:00 0.39480509 0.05434461  7.26484423 0.00000000 0.28777761 0.50183258   \n",
       "\n",
       "    rsquared  \n",
       "0 0.94670858  \n",
       "1 0.17316856  "
      ]
     },
     "metadata": {
      "tags": []
     },
     "output_type": "display_data"
    }
   ],
   "source": [
    "row_for_1200 = {\n",
    "  'Time' : '12:00',\n",
    "  'beta' : linear_fit_1200.params['Q(\"DAX at 12:00\")'],\n",
    "  'sigma' : linear_fit_1200.bse['Q(\"DAX at 12:00\")'],\n",
    "  't' : linear_fit_1200.tvalues['Q(\"DAX at 12:00\")'],\n",
    "  'p-value' : linear_fit_1200.pvalues['Q(\"DAX at 12:00\")'],\n",
    "  'conf-lo' : linear_fit_1200.conf_int().at['Q(\"DAX at 12:00\")',0],\n",
    "  'conf-hi' : linear_fit_1200.conf_int().at['Q(\"DAX at 12:00\")',1],\n",
    "  'rsquared' : linear_fit_1200.rsquared\n",
    "}\n",
    "linear_fit_results_df = linear_fit_results_df.append(row_for_1200, ignore_index=True)\n",
    "display(linear_fit_results_df)"
   ]
  },
  {
   "cell_type": "markdown",
   "metadata": {
    "colab_type": "text",
    "id": "Rm0CKWjLlI1-"
   },
   "source": [
    "## Fitting Generali Investments to the DAX at all Times\n",
    "\n",
    "If we wanted to create a table for all times, we *could* copy-paste the above code for the remaining 8 rows, but our fingers would probably start hurting, and it's guaranteed we'd make a typo.\n",
    "\n",
    "Let's use a for-loop to generate the full ``DataFrame`` for all times. Let's start by listing all of the times."
   ]
  },
  {
   "cell_type": "code",
   "execution_count": 19,
   "metadata": {
    "colab": {
     "base_uri": "https://localhost:8080/",
     "height": 187
    },
    "colab_type": "code",
    "executionInfo": {
     "elapsed": 317,
     "status": "ok",
     "timestamp": 1555368255050,
     "user": {
      "displayName": "Donatella Taurasi",
      "photoUrl": "https://lh5.googleusercontent.com/-UOjzVOt1NjU/AAAAAAAAAAI/AAAAAAAAAJU/HTVVF8KTbdM/s64/photo.jpg",
      "userId": "00673418551725000492"
     },
     "user_tz": 420
    },
    "id": "PckeOf3vkJWB",
    "outputId": "6acc3f8a-d800-4caf-a91b-e9a15a805f0f"
   },
   "outputs": [
    {
     "data": {
      "text/plain": [
       "['9:00',\n",
       " '10:00',\n",
       " '11:00',\n",
       " '12:00',\n",
       " '13:00',\n",
       " '14:00',\n",
       " '15:00',\n",
       " '16:00',\n",
       " '17:00',\n",
       " '23:00']"
      ]
     },
     "metadata": {
      "tags": []
     },
     "output_type": "display_data"
    }
   ],
   "source": [
    "all_times = ['9:00', '10:00', '11:00', '12:00', '13:00', '14:00', '15:00',\n",
    "             '16:00', '17:00', '23:00']\n",
    "display(all_times)"
   ]
  },
  {
   "cell_type": "markdown",
   "metadata": {
    "colab_type": "text",
    "id": "6kHmWc5DkNLW"
   },
   "source": [
    "And now let's run that same code we did before, just this time for each ``time`` in ``all_times``."
   ]
  },
  {
   "cell_type": "code",
   "execution_count": 20,
   "metadata": {
    "colab": {
     "base_uri": "https://localhost:8080/",
     "height": 359
    },
    "colab_type": "code",
    "executionInfo": {
     "elapsed": 590,
     "status": "ok",
     "timestamp": 1555368327871,
     "user": {
      "displayName": "Donatella Taurasi",
      "photoUrl": "https://lh5.googleusercontent.com/-UOjzVOt1NjU/AAAAAAAAAAI/AAAAAAAAAJU/HTVVF8KTbdM/s64/photo.jpg",
      "userId": "00673418551725000492"
     },
     "user_tz": 420
    },
    "id": "qd6N1caxkTqw",
    "outputId": "bec5862d-5c58-4310-f9ad-520778eda614"
   },
   "outputs": [
    {
     "data": {
      "text/html": [
       "<div>\n",
       "<style scoped>\n",
       "    .dataframe tbody tr th:only-of-type {\n",
       "        vertical-align: middle;\n",
       "    }\n",
       "\n",
       "    .dataframe tbody tr th {\n",
       "        vertical-align: top;\n",
       "    }\n",
       "\n",
       "    .dataframe thead th {\n",
       "        text-align: right;\n",
       "    }\n",
       "</style>\n",
       "<table border=\"1\" class=\"dataframe\">\n",
       "  <thead>\n",
       "    <tr style=\"text-align: right;\">\n",
       "      <th></th>\n",
       "      <th>Time</th>\n",
       "      <th>beta</th>\n",
       "      <th>sigma</th>\n",
       "      <th>t</th>\n",
       "      <th>p-value</th>\n",
       "      <th>conf-lo</th>\n",
       "      <th>conf-hi</th>\n",
       "      <th>rsquared</th>\n",
       "    </tr>\n",
       "  </thead>\n",
       "  <tbody>\n",
       "    <tr>\n",
       "      <th>0</th>\n",
       "      <td>9:00</td>\n",
       "      <td>0.91452797</td>\n",
       "      <td>0.01366839</td>\n",
       "      <td>66.90826385</td>\n",
       "      <td>0.00000000</td>\n",
       "      <td>0.88760914</td>\n",
       "      <td>0.94144679</td>\n",
       "      <td>0.94670858</td>\n",
       "    </tr>\n",
       "    <tr>\n",
       "      <th>1</th>\n",
       "      <td>10:00</td>\n",
       "      <td>0.53679157</td>\n",
       "      <td>0.04822708</td>\n",
       "      <td>11.13050038</td>\n",
       "      <td>0.00000000</td>\n",
       "      <td>0.44181208</td>\n",
       "      <td>0.63177107</td>\n",
       "      <td>0.32958761</td>\n",
       "    </tr>\n",
       "    <tr>\n",
       "      <th>2</th>\n",
       "      <td>11:00</td>\n",
       "      <td>0.45662729</td>\n",
       "      <td>0.05143039</td>\n",
       "      <td>8.87854967</td>\n",
       "      <td>0.00000000</td>\n",
       "      <td>0.35533913</td>\n",
       "      <td>0.55791546</td>\n",
       "      <td>0.23827636</td>\n",
       "    </tr>\n",
       "    <tr>\n",
       "      <th>3</th>\n",
       "      <td>12:00</td>\n",
       "      <td>0.39480509</td>\n",
       "      <td>0.05434461</td>\n",
       "      <td>7.26484423</td>\n",
       "      <td>0.00000000</td>\n",
       "      <td>0.28777761</td>\n",
       "      <td>0.50183258</td>\n",
       "      <td>0.17316856</td>\n",
       "    </tr>\n",
       "    <tr>\n",
       "      <th>4</th>\n",
       "      <td>13:00</td>\n",
       "      <td>0.39938851</td>\n",
       "      <td>0.05697017</td>\n",
       "      <td>7.01048450</td>\n",
       "      <td>0.00000000</td>\n",
       "      <td>0.28719018</td>\n",
       "      <td>0.51158684</td>\n",
       "      <td>0.16319907</td>\n",
       "    </tr>\n",
       "    <tr>\n",
       "      <th>5</th>\n",
       "      <td>14:00</td>\n",
       "      <td>0.34507507</td>\n",
       "      <td>0.05699777</td>\n",
       "      <td>6.05418488</td>\n",
       "      <td>0.00000001</td>\n",
       "      <td>0.23282237</td>\n",
       "      <td>0.45732776</td>\n",
       "      <td>0.12697992</td>\n",
       "    </tr>\n",
       "    <tr>\n",
       "      <th>6</th>\n",
       "      <td>15:00</td>\n",
       "      <td>0.28695402</td>\n",
       "      <td>0.05835662</td>\n",
       "      <td>4.91724883</td>\n",
       "      <td>0.00000158</td>\n",
       "      <td>0.17202519</td>\n",
       "      <td>0.40188285</td>\n",
       "      <td>0.08754940</td>\n",
       "    </tr>\n",
       "    <tr>\n",
       "      <th>7</th>\n",
       "      <td>16:00</td>\n",
       "      <td>0.17722017</td>\n",
       "      <td>0.05912590</td>\n",
       "      <td>2.99733552</td>\n",
       "      <td>0.00299562</td>\n",
       "      <td>0.06077629</td>\n",
       "      <td>0.29366405</td>\n",
       "      <td>0.03442364</td>\n",
       "    </tr>\n",
       "    <tr>\n",
       "      <th>8</th>\n",
       "      <td>17:00</td>\n",
       "      <td>0.06529320</td>\n",
       "      <td>0.06004035</td>\n",
       "      <td>1.08748875</td>\n",
       "      <td>0.27785989</td>\n",
       "      <td>-0.05295160</td>\n",
       "      <td>0.18353801</td>\n",
       "      <td>0.00467106</td>\n",
       "    </tr>\n",
       "    <tr>\n",
       "      <th>9</th>\n",
       "      <td>23:00</td>\n",
       "      <td>-0.00089272</td>\n",
       "      <td>0.05922905</td>\n",
       "      <td>-0.01507232</td>\n",
       "      <td>0.98798641</td>\n",
       "      <td>-0.11753974</td>\n",
       "      <td>0.11575430</td>\n",
       "      <td>0.00000090</td>\n",
       "    </tr>\n",
       "  </tbody>\n",
       "</table>\n",
       "</div>"
      ],
      "text/plain": [
       "    Time        beta      sigma           t    p-value     conf-lo    conf-hi  \\\n",
       "0   9:00  0.91452797 0.01366839 66.90826385 0.00000000  0.88760914 0.94144679   \n",
       "1  10:00  0.53679157 0.04822708 11.13050038 0.00000000  0.44181208 0.63177107   \n",
       "2  11:00  0.45662729 0.05143039  8.87854967 0.00000000  0.35533913 0.55791546   \n",
       "3  12:00  0.39480509 0.05434461  7.26484423 0.00000000  0.28777761 0.50183258   \n",
       "4  13:00  0.39938851 0.05697017  7.01048450 0.00000000  0.28719018 0.51158684   \n",
       "5  14:00  0.34507507 0.05699777  6.05418488 0.00000001  0.23282237 0.45732776   \n",
       "6  15:00  0.28695402 0.05835662  4.91724883 0.00000158  0.17202519 0.40188285   \n",
       "7  16:00  0.17722017 0.05912590  2.99733552 0.00299562  0.06077629 0.29366405   \n",
       "8  17:00  0.06529320 0.06004035  1.08748875 0.27785989 -0.05295160 0.18353801   \n",
       "9  23:00 -0.00089272 0.05922905 -0.01507232 0.98798641 -0.11753974 0.11575430   \n",
       "\n",
       "    rsquared  \n",
       "0 0.94670858  \n",
       "1 0.32958761  \n",
       "2 0.23827636  \n",
       "3 0.17316856  \n",
       "4 0.16319907  \n",
       "5 0.12697992  \n",
       "6 0.08754940  \n",
       "7 0.03442364  \n",
       "8 0.00467106  \n",
       "9 0.00000090  "
      ]
     },
     "metadata": {
      "tags": []
     },
     "output_type": "display_data"
    }
   ],
   "source": [
    "# We'll start with an empty DataFrame, with the columns we wanted.\n",
    "linear_fit_results_df = pd.DataFrame(columns=linear_fit_results_columns)\n",
    "\n",
    "# We'll add a row to it for every time.\n",
    "for time in all_times:\n",
    "  # First, let's set up our formula.\n",
    "  \n",
    "  # Our independent variable is going to be Q(\"DAX at ###\") for each of our\n",
    "  # times.\n",
    "  independent_var = 'Q(\"DAX at ' + time + '\")'\n",
    "\n",
    "  # Our dependent variable will be the fund name (with the Q syntax).\n",
    "  dependent_var = 'Q(\"Generali Investments\")'\n",
    "\n",
    "  # Our formula is simply dependent variable ~ independent variable.\n",
    "  formula = dependent_var + ' ~ ' + independent_var\n",
    "\n",
    "  # Perform the linear regression, and let linear_fit be the RegressionResults.\n",
    "  linear_fit = smf.ols(formula=formula, data=df).fit()\n",
    "\n",
    "  # Create the dictionary for the new row we'll be adding.\n",
    "  new_row = {\n",
    "      'Time' : time,\n",
    "      'beta' : linear_fit.params[independent_var],\n",
    "      'sigma' : linear_fit.bse[independent_var],\n",
    "      't' : linear_fit.tvalues[independent_var],\n",
    "      'p-value' : linear_fit.pvalues[independent_var],\n",
    "      'conf-lo' : linear_fit.conf_int().at[independent_var,0],\n",
    "      'conf-hi' : linear_fit.conf_int().at[independent_var,1],\n",
    "      'rsquared' : linear_fit.rsquared\n",
    "  }\n",
    "\n",
    "  # Add the row\n",
    "  linear_fit_results_df = linear_fit_results_df.append(\n",
    "      new_row, ignore_index=True)\n",
    "\n",
    "# Print out our results!\n",
    "display(linear_fit_results_df)"
   ]
  },
  {
   "cell_type": "markdown",
   "metadata": {
    "colab_type": "text",
    "id": "sowpVf-qSFib"
   },
   "source": [
    "## Fitting all Funds to the DAX at all Times\n",
    "\n",
    "We'll want to repeat the above code for each different fund. Let's create a function to do this, with the fund name being a parameter.\n",
    "\n",
    "This function will return the ``DataFrame`` with the results."
   ]
  },
  {
   "cell_type": "code",
   "execution_count": 0,
   "metadata": {
    "colab": {},
    "colab_type": "code",
    "collapsed": true,
    "id": "0EYSiCZmnY-g"
   },
   "outputs": [],
   "source": [
    "# Our function will take one parameter: the name of the fund. It will return\n",
    "# a DataFrame of the fit for all times.\n",
    "def FitFundAtAllTimes(fund):\n",
    "  # We'll start with an empty DataFrame, with the columns we wanted.\n",
    "  linear_fit_results_df = pd.DataFrame(columns=linear_fit_results_columns)\n",
    "\n",
    "  # We'll add a row to it for for every time.\n",
    "  for time in all_times:\n",
    "    # First, let's set up our formula. Our independent variable is going to\n",
    "    # be Q(\"DAX at ###\") for each of our times.\n",
    "    independent_var = 'Q(\"DAX at ' + time + '\")'\n",
    "\n",
    "    # Our dependent variable will be the fund name (with the Q syntax).\n",
    "    depdendent_var = 'Q(\"' + fund + '\")'\n",
    "\n",
    "    # Our formula is simply dependent variable ~ independent variable.\n",
    "    formula = depdendent_var + ' ~ ' + independent_var\n",
    "\n",
    "    # Perform the linear regression\n",
    "    linear_fit = smf.ols(formula=formula, data=df).fit()\n",
    "\n",
    "    # Create the dictionary for the new row we'll be adding.\n",
    "    new_row = {\n",
    "        'Time' : time,\n",
    "        'beta' : linear_fit.params[independent_var],\n",
    "        'sigma' : linear_fit.bse[independent_var],\n",
    "        't' : linear_fit.tvalues[independent_var],\n",
    "        'p-value' : linear_fit.pvalues[independent_var],\n",
    "        'conf-lo' : linear_fit.conf_int().at[independent_var,0],\n",
    "        'conf-hi' : linear_fit.conf_int().at[independent_var,1],\n",
    "        'rsquared' : linear_fit.rsquared\n",
    "    }\n",
    "\n",
    "    # Add the row\n",
    "    linear_fit_results_df = linear_fit_results_df.append(\n",
    "        new_row, ignore_index=True)\n",
    "\n",
    "  # Return our DataFrame with the fitfor all times.\n",
    "  return linear_fit_results_df"
   ]
  },
  {
   "cell_type": "markdown",
   "metadata": {
    "colab_type": "text",
    "id": "XyDyezW5n1Gu"
   },
   "source": [
    "Let's define ``all_funds`` to be the list of all fund names."
   ]
  },
  {
   "cell_type": "code",
   "execution_count": 22,
   "metadata": {
    "colab": {
     "base_uri": "https://localhost:8080/",
     "height": 34
    },
    "colab_type": "code",
    "executionInfo": {
     "elapsed": 310,
     "status": "ok",
     "timestamp": 1555368591890,
     "user": {
      "displayName": "Donatella Taurasi",
      "photoUrl": "https://lh5.googleusercontent.com/-UOjzVOt1NjU/AAAAAAAAAAI/AAAAAAAAAJU/HTVVF8KTbdM/s64/photo.jpg",
      "userId": "00673418551725000492"
     },
     "user_tz": 420
    },
    "id": "YUKAueytnz3X",
    "outputId": "c0f3ef61-e1e4-4011-e4b9-38162bf85f38"
   },
   "outputs": [
    {
     "name": "stdout",
     "output_type": "stream",
     "text": [
      "['Generali Investments', 'Allianz Adifonds', 'Parvest Equity']\n"
     ]
    }
   ],
   "source": [
    "all_funds = ['Generali Investments', 'Allianz Adifonds', 'Parvest Equity']\n",
    "print(all_funds)"
   ]
  },
  {
   "cell_type": "markdown",
   "metadata": {
    "colab_type": "text",
    "id": "bbG33ZajoA9Z"
   },
   "source": [
    "Now let's run that function for all of our funds!"
   ]
  },
  {
   "cell_type": "code",
   "execution_count": 23,
   "metadata": {
    "colab": {
     "base_uri": "https://localhost:8080/",
     "height": 1145
    },
    "colab_type": "code",
    "executionInfo": {
     "elapsed": 649,
     "status": "ok",
     "timestamp": 1555368619597,
     "user": {
      "displayName": "Donatella Taurasi",
      "photoUrl": "https://lh5.googleusercontent.com/-UOjzVOt1NjU/AAAAAAAAAAI/AAAAAAAAAJU/HTVVF8KTbdM/s64/photo.jpg",
      "userId": "00673418551725000492"
     },
     "user_tz": 420
    },
    "id": "HseaCeXQoE5H",
    "outputId": "9a2446a8-031b-48c5-cd78-b7e1463fc4bd"
   },
   "outputs": [
    {
     "data": {
      "text/plain": [
       "'Generali Investments'"
      ]
     },
     "metadata": {
      "tags": []
     },
     "output_type": "display_data"
    },
    {
     "data": {
      "text/html": [
       "<div>\n",
       "<style scoped>\n",
       "    .dataframe tbody tr th:only-of-type {\n",
       "        vertical-align: middle;\n",
       "    }\n",
       "\n",
       "    .dataframe tbody tr th {\n",
       "        vertical-align: top;\n",
       "    }\n",
       "\n",
       "    .dataframe thead th {\n",
       "        text-align: right;\n",
       "    }\n",
       "</style>\n",
       "<table border=\"1\" class=\"dataframe\">\n",
       "  <thead>\n",
       "    <tr style=\"text-align: right;\">\n",
       "      <th></th>\n",
       "      <th>Time</th>\n",
       "      <th>beta</th>\n",
       "      <th>sigma</th>\n",
       "      <th>t</th>\n",
       "      <th>p-value</th>\n",
       "      <th>conf-lo</th>\n",
       "      <th>conf-hi</th>\n",
       "      <th>rsquared</th>\n",
       "    </tr>\n",
       "  </thead>\n",
       "  <tbody>\n",
       "    <tr>\n",
       "      <th>0</th>\n",
       "      <td>9:00</td>\n",
       "      <td>0.91452797</td>\n",
       "      <td>0.01366839</td>\n",
       "      <td>66.90826385</td>\n",
       "      <td>0.00000000</td>\n",
       "      <td>0.88760914</td>\n",
       "      <td>0.94144679</td>\n",
       "      <td>0.94670858</td>\n",
       "    </tr>\n",
       "    <tr>\n",
       "      <th>1</th>\n",
       "      <td>10:00</td>\n",
       "      <td>0.53679157</td>\n",
       "      <td>0.04822708</td>\n",
       "      <td>11.13050038</td>\n",
       "      <td>0.00000000</td>\n",
       "      <td>0.44181208</td>\n",
       "      <td>0.63177107</td>\n",
       "      <td>0.32958761</td>\n",
       "    </tr>\n",
       "    <tr>\n",
       "      <th>2</th>\n",
       "      <td>11:00</td>\n",
       "      <td>0.45662729</td>\n",
       "      <td>0.05143039</td>\n",
       "      <td>8.87854967</td>\n",
       "      <td>0.00000000</td>\n",
       "      <td>0.35533913</td>\n",
       "      <td>0.55791546</td>\n",
       "      <td>0.23827636</td>\n",
       "    </tr>\n",
       "    <tr>\n",
       "      <th>3</th>\n",
       "      <td>12:00</td>\n",
       "      <td>0.39480509</td>\n",
       "      <td>0.05434461</td>\n",
       "      <td>7.26484423</td>\n",
       "      <td>0.00000000</td>\n",
       "      <td>0.28777761</td>\n",
       "      <td>0.50183258</td>\n",
       "      <td>0.17316856</td>\n",
       "    </tr>\n",
       "    <tr>\n",
       "      <th>4</th>\n",
       "      <td>13:00</td>\n",
       "      <td>0.39938851</td>\n",
       "      <td>0.05697017</td>\n",
       "      <td>7.01048450</td>\n",
       "      <td>0.00000000</td>\n",
       "      <td>0.28719018</td>\n",
       "      <td>0.51158684</td>\n",
       "      <td>0.16319907</td>\n",
       "    </tr>\n",
       "    <tr>\n",
       "      <th>5</th>\n",
       "      <td>14:00</td>\n",
       "      <td>0.34507507</td>\n",
       "      <td>0.05699777</td>\n",
       "      <td>6.05418488</td>\n",
       "      <td>0.00000001</td>\n",
       "      <td>0.23282237</td>\n",
       "      <td>0.45732776</td>\n",
       "      <td>0.12697992</td>\n",
       "    </tr>\n",
       "    <tr>\n",
       "      <th>6</th>\n",
       "      <td>15:00</td>\n",
       "      <td>0.28695402</td>\n",
       "      <td>0.05835662</td>\n",
       "      <td>4.91724883</td>\n",
       "      <td>0.00000158</td>\n",
       "      <td>0.17202519</td>\n",
       "      <td>0.40188285</td>\n",
       "      <td>0.08754940</td>\n",
       "    </tr>\n",
       "    <tr>\n",
       "      <th>7</th>\n",
       "      <td>16:00</td>\n",
       "      <td>0.17722017</td>\n",
       "      <td>0.05912590</td>\n",
       "      <td>2.99733552</td>\n",
       "      <td>0.00299562</td>\n",
       "      <td>0.06077629</td>\n",
       "      <td>0.29366405</td>\n",
       "      <td>0.03442364</td>\n",
       "    </tr>\n",
       "    <tr>\n",
       "      <th>8</th>\n",
       "      <td>17:00</td>\n",
       "      <td>0.06529320</td>\n",
       "      <td>0.06004035</td>\n",
       "      <td>1.08748875</td>\n",
       "      <td>0.27785989</td>\n",
       "      <td>-0.05295160</td>\n",
       "      <td>0.18353801</td>\n",
       "      <td>0.00467106</td>\n",
       "    </tr>\n",
       "    <tr>\n",
       "      <th>9</th>\n",
       "      <td>23:00</td>\n",
       "      <td>-0.00089272</td>\n",
       "      <td>0.05922905</td>\n",
       "      <td>-0.01507232</td>\n",
       "      <td>0.98798641</td>\n",
       "      <td>-0.11753974</td>\n",
       "      <td>0.11575430</td>\n",
       "      <td>0.00000090</td>\n",
       "    </tr>\n",
       "  </tbody>\n",
       "</table>\n",
       "</div>"
      ],
      "text/plain": [
       "    Time        beta      sigma           t    p-value     conf-lo    conf-hi  \\\n",
       "0   9:00  0.91452797 0.01366839 66.90826385 0.00000000  0.88760914 0.94144679   \n",
       "1  10:00  0.53679157 0.04822708 11.13050038 0.00000000  0.44181208 0.63177107   \n",
       "2  11:00  0.45662729 0.05143039  8.87854967 0.00000000  0.35533913 0.55791546   \n",
       "3  12:00  0.39480509 0.05434461  7.26484423 0.00000000  0.28777761 0.50183258   \n",
       "4  13:00  0.39938851 0.05697017  7.01048450 0.00000000  0.28719018 0.51158684   \n",
       "5  14:00  0.34507507 0.05699777  6.05418488 0.00000001  0.23282237 0.45732776   \n",
       "6  15:00  0.28695402 0.05835662  4.91724883 0.00000158  0.17202519 0.40188285   \n",
       "7  16:00  0.17722017 0.05912590  2.99733552 0.00299562  0.06077629 0.29366405   \n",
       "8  17:00  0.06529320 0.06004035  1.08748875 0.27785989 -0.05295160 0.18353801   \n",
       "9  23:00 -0.00089272 0.05922905 -0.01507232 0.98798641 -0.11753974 0.11575430   \n",
       "\n",
       "    rsquared  \n",
       "0 0.94670858  \n",
       "1 0.32958761  \n",
       "2 0.23827636  \n",
       "3 0.17316856  \n",
       "4 0.16319907  \n",
       "5 0.12697992  \n",
       "6 0.08754940  \n",
       "7 0.03442364  \n",
       "8 0.00467106  \n",
       "9 0.00000090  "
      ]
     },
     "metadata": {
      "tags": []
     },
     "output_type": "display_data"
    },
    {
     "name": "stdout",
     "output_type": "stream",
     "text": [
      "\n"
     ]
    },
    {
     "data": {
      "text/plain": [
       "'Allianz Adifonds'"
      ]
     },
     "metadata": {
      "tags": []
     },
     "output_type": "display_data"
    },
    {
     "data": {
      "text/html": [
       "<div>\n",
       "<style scoped>\n",
       "    .dataframe tbody tr th:only-of-type {\n",
       "        vertical-align: middle;\n",
       "    }\n",
       "\n",
       "    .dataframe tbody tr th {\n",
       "        vertical-align: top;\n",
       "    }\n",
       "\n",
       "    .dataframe thead th {\n",
       "        text-align: right;\n",
       "    }\n",
       "</style>\n",
       "<table border=\"1\" class=\"dataframe\">\n",
       "  <thead>\n",
       "    <tr style=\"text-align: right;\">\n",
       "      <th></th>\n",
       "      <th>Time</th>\n",
       "      <th>beta</th>\n",
       "      <th>sigma</th>\n",
       "      <th>t</th>\n",
       "      <th>p-value</th>\n",
       "      <th>conf-lo</th>\n",
       "      <th>conf-hi</th>\n",
       "      <th>rsquared</th>\n",
       "    </tr>\n",
       "  </thead>\n",
       "  <tbody>\n",
       "    <tr>\n",
       "      <th>0</th>\n",
       "      <td>9:00</td>\n",
       "      <td>0.39180522</td>\n",
       "      <td>0.05358764</td>\n",
       "      <td>7.31148469</td>\n",
       "      <td>0.00000000</td>\n",
       "      <td>0.28626852</td>\n",
       "      <td>0.49734192</td>\n",
       "      <td>0.17500881</td>\n",
       "    </tr>\n",
       "    <tr>\n",
       "      <th>1</th>\n",
       "      <td>10:00</td>\n",
       "      <td>0.73237048</td>\n",
       "      <td>0.03627938</td>\n",
       "      <td>20.18696265</td>\n",
       "      <td>0.00000000</td>\n",
       "      <td>0.66092105</td>\n",
       "      <td>0.80381990</td>\n",
       "      <td>0.61790014</td>\n",
       "    </tr>\n",
       "    <tr>\n",
       "      <th>2</th>\n",
       "      <td>11:00</td>\n",
       "      <td>0.83690846</td>\n",
       "      <td>0.02585336</td>\n",
       "      <td>32.37135759</td>\n",
       "      <td>0.00000000</td>\n",
       "      <td>0.78599227</td>\n",
       "      <td>0.88782465</td>\n",
       "      <td>0.80613965</td>\n",
       "    </tr>\n",
       "    <tr>\n",
       "      <th>3</th>\n",
       "      <td>12:00</td>\n",
       "      <td>0.90616890</td>\n",
       "      <td>0.01697026</td>\n",
       "      <td>53.39745588</td>\n",
       "      <td>0.00000000</td>\n",
       "      <td>0.87274728</td>\n",
       "      <td>0.93959051</td>\n",
       "      <td>0.91879581</td>\n",
       "    </tr>\n",
       "    <tr>\n",
       "      <th>4</th>\n",
       "      <td>13:00</td>\n",
       "      <td>0.88438764</td>\n",
       "      <td>0.02733649</td>\n",
       "      <td>32.35190567</td>\n",
       "      <td>0.00000000</td>\n",
       "      <td>0.83055053</td>\n",
       "      <td>0.93822474</td>\n",
       "      <td>0.80595171</td>\n",
       "    </tr>\n",
       "    <tr>\n",
       "      <th>5</th>\n",
       "      <td>14:00</td>\n",
       "      <td>0.84434753</td>\n",
       "      <td>0.02942399</td>\n",
       "      <td>28.69588972</td>\n",
       "      <td>0.00000000</td>\n",
       "      <td>0.78639927</td>\n",
       "      <td>0.90229579</td>\n",
       "      <td>0.76568037</td>\n",
       "    </tr>\n",
       "    <tr>\n",
       "      <th>6</th>\n",
       "      <td>15:00</td>\n",
       "      <td>0.74268703</td>\n",
       "      <td>0.03894746</td>\n",
       "      <td>19.06894880</td>\n",
       "      <td>0.00000000</td>\n",
       "      <td>0.66598304</td>\n",
       "      <td>0.81939102</td>\n",
       "      <td>0.59065977</td>\n",
       "    </tr>\n",
       "    <tr>\n",
       "      <th>7</th>\n",
       "      <td>16:00</td>\n",
       "      <td>0.64358004</td>\n",
       "      <td>0.04417175</td>\n",
       "      <td>14.56994499</td>\n",
       "      <td>0.00000000</td>\n",
       "      <td>0.55658719</td>\n",
       "      <td>0.73057288</td>\n",
       "      <td>0.45722794</td>\n",
       "    </tr>\n",
       "    <tr>\n",
       "      <th>8</th>\n",
       "      <td>17:00</td>\n",
       "      <td>0.51724940</td>\n",
       "      <td>0.05034213</td>\n",
       "      <td>10.27468210</td>\n",
       "      <td>0.00000000</td>\n",
       "      <td>0.41810448</td>\n",
       "      <td>0.61639432</td>\n",
       "      <td>0.29524110</td>\n",
       "    </tr>\n",
       "    <tr>\n",
       "      <th>9</th>\n",
       "      <td>23:00</td>\n",
       "      <td>0.45594240</td>\n",
       "      <td>0.05155794</td>\n",
       "      <td>8.84330176</td>\n",
       "      <td>0.00000000</td>\n",
       "      <td>0.35440304</td>\n",
       "      <td>0.55748175</td>\n",
       "      <td>0.23683538</td>\n",
       "    </tr>\n",
       "  </tbody>\n",
       "</table>\n",
       "</div>"
      ],
      "text/plain": [
       "    Time       beta      sigma           t    p-value    conf-lo    conf-hi  \\\n",
       "0   9:00 0.39180522 0.05358764  7.31148469 0.00000000 0.28626852 0.49734192   \n",
       "1  10:00 0.73237048 0.03627938 20.18696265 0.00000000 0.66092105 0.80381990   \n",
       "2  11:00 0.83690846 0.02585336 32.37135759 0.00000000 0.78599227 0.88782465   \n",
       "3  12:00 0.90616890 0.01697026 53.39745588 0.00000000 0.87274728 0.93959051   \n",
       "4  13:00 0.88438764 0.02733649 32.35190567 0.00000000 0.83055053 0.93822474   \n",
       "5  14:00 0.84434753 0.02942399 28.69588972 0.00000000 0.78639927 0.90229579   \n",
       "6  15:00 0.74268703 0.03894746 19.06894880 0.00000000 0.66598304 0.81939102   \n",
       "7  16:00 0.64358004 0.04417175 14.56994499 0.00000000 0.55658719 0.73057288   \n",
       "8  17:00 0.51724940 0.05034213 10.27468210 0.00000000 0.41810448 0.61639432   \n",
       "9  23:00 0.45594240 0.05155794  8.84330176 0.00000000 0.35440304 0.55748175   \n",
       "\n",
       "    rsquared  \n",
       "0 0.17500881  \n",
       "1 0.61790014  \n",
       "2 0.80613965  \n",
       "3 0.91879581  \n",
       "4 0.80595171  \n",
       "5 0.76568037  \n",
       "6 0.59065977  \n",
       "7 0.45722794  \n",
       "8 0.29524110  \n",
       "9 0.23683538  "
      ]
     },
     "metadata": {
      "tags": []
     },
     "output_type": "display_data"
    },
    {
     "name": "stdout",
     "output_type": "stream",
     "text": [
      "\n"
     ]
    },
    {
     "data": {
      "text/plain": [
       "'Parvest Equity'"
      ]
     },
     "metadata": {
      "tags": []
     },
     "output_type": "display_data"
    },
    {
     "data": {
      "text/html": [
       "<div>\n",
       "<style scoped>\n",
       "    .dataframe tbody tr th:only-of-type {\n",
       "        vertical-align: middle;\n",
       "    }\n",
       "\n",
       "    .dataframe tbody tr th {\n",
       "        vertical-align: top;\n",
       "    }\n",
       "\n",
       "    .dataframe thead th {\n",
       "        text-align: right;\n",
       "    }\n",
       "</style>\n",
       "<table border=\"1\" class=\"dataframe\">\n",
       "  <thead>\n",
       "    <tr style=\"text-align: right;\">\n",
       "      <th></th>\n",
       "      <th>Time</th>\n",
       "      <th>beta</th>\n",
       "      <th>sigma</th>\n",
       "      <th>t</th>\n",
       "      <th>p-value</th>\n",
       "      <th>conf-lo</th>\n",
       "      <th>conf-hi</th>\n",
       "      <th>rsquared</th>\n",
       "    </tr>\n",
       "  </thead>\n",
       "  <tbody>\n",
       "    <tr>\n",
       "      <th>0</th>\n",
       "      <td>9:00</td>\n",
       "      <td>0.04862164</td>\n",
       "      <td>0.05110326</td>\n",
       "      <td>0.95143918</td>\n",
       "      <td>0.34229312</td>\n",
       "      <td>-0.05202226</td>\n",
       "      <td>0.14926554</td>\n",
       "      <td>0.00357935</td>\n",
       "    </tr>\n",
       "    <tr>\n",
       "      <th>1</th>\n",
       "      <td>10:00</td>\n",
       "      <td>0.29989592</td>\n",
       "      <td>0.04729472</td>\n",
       "      <td>6.34100277</td>\n",
       "      <td>0.00000000</td>\n",
       "      <td>0.20675265</td>\n",
       "      <td>0.39303919</td>\n",
       "      <td>0.13760155</td>\n",
       "    </tr>\n",
       "    <tr>\n",
       "      <th>2</th>\n",
       "      <td>11:00</td>\n",
       "      <td>0.39361125</td>\n",
       "      <td>0.04451166</td>\n",
       "      <td>8.84287947</td>\n",
       "      <td>0.00000000</td>\n",
       "      <td>0.30594899</td>\n",
       "      <td>0.48127351</td>\n",
       "      <td>0.23681812</td>\n",
       "    </tr>\n",
       "    <tr>\n",
       "      <th>3</th>\n",
       "      <td>12:00</td>\n",
       "      <td>0.46018174</td>\n",
       "      <td>0.04277890</td>\n",
       "      <td>10.75721184</td>\n",
       "      <td>0.00000000</td>\n",
       "      <td>0.37593201</td>\n",
       "      <td>0.54443147</td>\n",
       "      <td>0.31469150</td>\n",
       "    </tr>\n",
       "    <tr>\n",
       "      <th>4</th>\n",
       "      <td>13:00</td>\n",
       "      <td>0.51031245</td>\n",
       "      <td>0.04320038</td>\n",
       "      <td>11.81268371</td>\n",
       "      <td>0.00000000</td>\n",
       "      <td>0.42523265</td>\n",
       "      <td>0.59539225</td>\n",
       "      <td>0.35638677</td>\n",
       "    </tr>\n",
       "    <tr>\n",
       "      <th>5</th>\n",
       "      <td>14:00</td>\n",
       "      <td>0.55365296</td>\n",
       "      <td>0.03956867</td>\n",
       "      <td>13.99220401</td>\n",
       "      <td>0.00000000</td>\n",
       "      <td>0.47572553</td>\n",
       "      <td>0.63158039</td>\n",
       "      <td>0.43722587</td>\n",
       "    </tr>\n",
       "    <tr>\n",
       "      <th>6</th>\n",
       "      <td>15:00</td>\n",
       "      <td>0.59223539</td>\n",
       "      <td>0.03739581</td>\n",
       "      <td>15.83694689</td>\n",
       "      <td>0.00000000</td>\n",
       "      <td>0.51858725</td>\n",
       "      <td>0.66588352</td>\n",
       "      <td>0.49881554</td>\n",
       "    </tr>\n",
       "    <tr>\n",
       "      <th>7</th>\n",
       "      <td>16:00</td>\n",
       "      <td>0.66688865</td>\n",
       "      <td>0.03069031</td>\n",
       "      <td>21.72961564</td>\n",
       "      <td>0.00000000</td>\n",
       "      <td>0.60644647</td>\n",
       "      <td>0.72733084</td>\n",
       "      <td>0.65201839</td>\n",
       "    </tr>\n",
       "    <tr>\n",
       "      <th>8</th>\n",
       "      <td>17:00</td>\n",
       "      <td>0.77415451</td>\n",
       "      <td>0.01815058</td>\n",
       "      <td>42.65178291</td>\n",
       "      <td>0.00000000</td>\n",
       "      <td>0.73840835</td>\n",
       "      <td>0.80990066</td>\n",
       "      <td>0.87832991</td>\n",
       "    </tr>\n",
       "    <tr>\n",
       "      <th>9</th>\n",
       "      <td>23:00</td>\n",
       "      <td>0.78937334</td>\n",
       "      <td>0.01224876</td>\n",
       "      <td>64.44516396</td>\n",
       "      <td>0.00000000</td>\n",
       "      <td>0.76525036</td>\n",
       "      <td>0.81349633</td>\n",
       "      <td>0.94279461</td>\n",
       "    </tr>\n",
       "  </tbody>\n",
       "</table>\n",
       "</div>"
      ],
      "text/plain": [
       "    Time       beta      sigma           t    p-value     conf-lo    conf-hi  \\\n",
       "0   9:00 0.04862164 0.05110326  0.95143918 0.34229312 -0.05202226 0.14926554   \n",
       "1  10:00 0.29989592 0.04729472  6.34100277 0.00000000  0.20675265 0.39303919   \n",
       "2  11:00 0.39361125 0.04451166  8.84287947 0.00000000  0.30594899 0.48127351   \n",
       "3  12:00 0.46018174 0.04277890 10.75721184 0.00000000  0.37593201 0.54443147   \n",
       "4  13:00 0.51031245 0.04320038 11.81268371 0.00000000  0.42523265 0.59539225   \n",
       "5  14:00 0.55365296 0.03956867 13.99220401 0.00000000  0.47572553 0.63158039   \n",
       "6  15:00 0.59223539 0.03739581 15.83694689 0.00000000  0.51858725 0.66588352   \n",
       "7  16:00 0.66688865 0.03069031 21.72961564 0.00000000  0.60644647 0.72733084   \n",
       "8  17:00 0.77415451 0.01815058 42.65178291 0.00000000  0.73840835 0.80990066   \n",
       "9  23:00 0.78937334 0.01224876 64.44516396 0.00000000  0.76525036 0.81349633   \n",
       "\n",
       "    rsquared  \n",
       "0 0.00357935  \n",
       "1 0.13760155  \n",
       "2 0.23681812  \n",
       "3 0.31469150  \n",
       "4 0.35638677  \n",
       "5 0.43722587  \n",
       "6 0.49881554  \n",
       "7 0.65201839  \n",
       "8 0.87832991  \n",
       "9 0.94279461  "
      ]
     },
     "metadata": {
      "tags": []
     },
     "output_type": "display_data"
    },
    {
     "name": "stdout",
     "output_type": "stream",
     "text": [
      "\n"
     ]
    }
   ],
   "source": [
    "for fund in all_funds:\n",
    "  # Run our function to get the DataFrame\n",
    "  linear_fit_results_df = FitFundAtAllTimes(fund)\n",
    "  # Print the name of the fund\n",
    "  display(fund)\n",
    "  # Print the fit DataFrame\n",
    "  display(linear_fit_results_df)\n",
    "  # Print a blank line (just for readability)\n",
    "  print('')"
   ]
  },
  {
   "cell_type": "markdown",
   "metadata": {
    "colab_type": "text",
    "id": "paudx06xZ3fB"
   },
   "source": [
    "# Question 2: Incorporating the Risk-Free Rate"
   ]
  },
  {
   "cell_type": "markdown",
   "metadata": {
    "colab_type": "text",
    "id": "eRCEwAE8lzrL"
   },
   "source": [
    "## Creating a new DataFrame incorporating Risk-Free Rate\n",
    "\n",
    "Let's create a new ``DataFrame`` called ``df_excess`` that has the excess rate for each fund and for the DAX.\n",
    "\n",
    "Let's start with ``df_excess`` being a verbatim copy of ``df``."
   ]
  },
  {
   "cell_type": "code",
   "execution_count": 24,
   "metadata": {
    "colab": {
     "base_uri": "https://localhost:8080/",
     "height": 473
    },
    "colab_type": "code",
    "executionInfo": {
     "elapsed": 428,
     "status": "ok",
     "timestamp": 1555368955934,
     "user": {
      "displayName": "Donatella Taurasi",
      "photoUrl": "https://lh5.googleusercontent.com/-UOjzVOt1NjU/AAAAAAAAAAI/AAAAAAAAAJU/HTVVF8KTbdM/s64/photo.jpg",
      "userId": "00673418551725000492"
     },
     "user_tz": 420
    },
    "id": "FFTrU7zsOSCM",
    "outputId": "45f8c38e-59ce-492b-db07-896189197e56"
   },
   "outputs": [
    {
     "data": {
      "text/html": [
       "<div>\n",
       "<style scoped>\n",
       "    .dataframe tbody tr th:only-of-type {\n",
       "        vertical-align: middle;\n",
       "    }\n",
       "\n",
       "    .dataframe tbody tr th {\n",
       "        vertical-align: top;\n",
       "    }\n",
       "\n",
       "    .dataframe thead th {\n",
       "        text-align: right;\n",
       "    }\n",
       "</style>\n",
       "<table border=\"1\" class=\"dataframe\">\n",
       "  <thead>\n",
       "    <tr style=\"text-align: right;\">\n",
       "      <th></th>\n",
       "      <th>Date</th>\n",
       "      <th>Generali Investments</th>\n",
       "      <th>Allianz Adifonds</th>\n",
       "      <th>Parvest Equity</th>\n",
       "      <th>DAX at 9:00</th>\n",
       "      <th>DAX at 10:00</th>\n",
       "      <th>DAX at 11:00</th>\n",
       "      <th>DAX at 12:00</th>\n",
       "      <th>DAX at 13:00</th>\n",
       "      <th>DAX at 14:00</th>\n",
       "      <th>DAX at 15:00</th>\n",
       "      <th>DAX at 16:00</th>\n",
       "      <th>DAX at 17:00</th>\n",
       "      <th>DAX at 23:00</th>\n",
       "      <th>Risk-free rate</th>\n",
       "    </tr>\n",
       "  </thead>\n",
       "  <tbody>\n",
       "    <tr>\n",
       "      <th>0</th>\n",
       "      <td>1/5/2010</td>\n",
       "      <td>0.01444516</td>\n",
       "      <td>0.00598991</td>\n",
       "      <td>0.00380421</td>\n",
       "      <td>0.00611323</td>\n",
       "      <td>0.00360428</td>\n",
       "      <td>0.00578816</td>\n",
       "      <td>0.00755277</td>\n",
       "      <td>0.00728983</td>\n",
       "      <td>0.00863151</td>\n",
       "      <td>0.00449834</td>\n",
       "      <td>-0.00046948</td>\n",
       "      <td>0.00359131</td>\n",
       "      <td>-0.00271812</td>\n",
       "      <td>0.00019958</td>\n",
       "    </tr>\n",
       "    <tr>\n",
       "      <th>1</th>\n",
       "      <td>1/6/2010</td>\n",
       "      <td>-0.00017365</td>\n",
       "      <td>-0.00172360</td>\n",
       "      <td>-0.00138959</td>\n",
       "      <td>-0.00271812</td>\n",
       "      <td>-0.00101426</td>\n",
       "      <td>-0.00445926</td>\n",
       "      <td>-0.00252077</td>\n",
       "      <td>-0.00137029</td>\n",
       "      <td>-0.00372093</td>\n",
       "      <td>0.00015911</td>\n",
       "      <td>0.00175102</td>\n",
       "      <td>-0.00230964</td>\n",
       "      <td>0.00040949</td>\n",
       "      <td>0.00019958</td>\n",
       "    </tr>\n",
       "    <tr>\n",
       "      <th>2</th>\n",
       "      <td>1/7/2010</td>\n",
       "      <td>0.00137705</td>\n",
       "      <td>-0.00973160</td>\n",
       "      <td>0.00075901</td>\n",
       "      <td>0.00040949</td>\n",
       "      <td>-0.00888544</td>\n",
       "      <td>-0.00788479</td>\n",
       "      <td>-0.00882675</td>\n",
       "      <td>-0.00535115</td>\n",
       "      <td>-0.00471375</td>\n",
       "      <td>-0.00399030</td>\n",
       "      <td>-0.00752866</td>\n",
       "      <td>-0.00159300</td>\n",
       "      <td>-0.00248081</td>\n",
       "      <td>0.00019958</td>\n",
       "    </tr>\n",
       "    <tr>\n",
       "      <th>3</th>\n",
       "      <td>1/8/2010</td>\n",
       "      <td>-0.00111499</td>\n",
       "      <td>0.00935172</td>\n",
       "      <td>0.00113766</td>\n",
       "      <td>-0.00248081</td>\n",
       "      <td>0.01157629</td>\n",
       "      <td>0.01160120</td>\n",
       "      <td>0.01103676</td>\n",
       "      <td>0.00642293</td>\n",
       "      <td>0.00564628</td>\n",
       "      <td>-0.00263869</td>\n",
       "      <td>0.00527532</td>\n",
       "      <td>0.00129203</td>\n",
       "      <td>0.00303188</td>\n",
       "      <td>0.00019958</td>\n",
       "    </tr>\n",
       "    <tr>\n",
       "      <th>4</th>\n",
       "      <td>1/11/2010</td>\n",
       "      <td>0.00262936</td>\n",
       "      <td>0.00722362</td>\n",
       "      <td>0.00265151</td>\n",
       "      <td>0.00303188</td>\n",
       "      <td>0.00820228</td>\n",
       "      <td>0.00805503</td>\n",
       "      <td>0.00645512</td>\n",
       "      <td>0.00519992</td>\n",
       "      <td>0.00674180</td>\n",
       "      <td>0.01358367</td>\n",
       "      <td>0.00460829</td>\n",
       "      <td>0.00217821</td>\n",
       "      <td>0.00047867</td>\n",
       "      <td>0.00019958</td>\n",
       "    </tr>\n",
       "    <tr>\n",
       "      <th>...</th>\n",
       "      <td>...</td>\n",
       "      <td>...</td>\n",
       "      <td>...</td>\n",
       "      <td>...</td>\n",
       "      <td>...</td>\n",
       "      <td>...</td>\n",
       "      <td>...</td>\n",
       "      <td>...</td>\n",
       "      <td>...</td>\n",
       "      <td>...</td>\n",
       "      <td>...</td>\n",
       "      <td>...</td>\n",
       "      <td>...</td>\n",
       "      <td>...</td>\n",
       "      <td>...</td>\n",
       "    </tr>\n",
       "    <tr>\n",
       "      <th>249</th>\n",
       "      <td>12/22/2010</td>\n",
       "      <td>0.00858392</td>\n",
       "      <td>0.00189676</td>\n",
       "      <td>-0.00085662</td>\n",
       "      <td>0.00846180</td>\n",
       "      <td>0.00246367</td>\n",
       "      <td>0.00232880</td>\n",
       "      <td>0.00172966</td>\n",
       "      <td>0.00159879</td>\n",
       "      <td>0.00184895</td>\n",
       "      <td>0.00033063</td>\n",
       "      <td>0.00040422</td>\n",
       "      <td>-0.00009185</td>\n",
       "      <td>-0.00142272</td>\n",
       "      <td>0.00036677</td>\n",
       "    </tr>\n",
       "    <tr>\n",
       "      <th>250</th>\n",
       "      <td>12/23/2010</td>\n",
       "      <td>-0.00061781</td>\n",
       "      <td>0.00135226</td>\n",
       "      <td>-0.00150038</td>\n",
       "      <td>-0.00142272</td>\n",
       "      <td>-0.00055682</td>\n",
       "      <td>-0.00048475</td>\n",
       "      <td>-0.00039281</td>\n",
       "      <td>-0.00027429</td>\n",
       "      <td>-0.00101886</td>\n",
       "      <td>-0.00185034</td>\n",
       "      <td>-0.00155123</td>\n",
       "      <td>-0.00270900</td>\n",
       "      <td>-0.00144738</td>\n",
       "      <td>0.00036677</td>\n",
       "    </tr>\n",
       "    <tr>\n",
       "      <th>251</th>\n",
       "      <td>12/27/2010</td>\n",
       "      <td>-0.00092729</td>\n",
       "      <td>-0.01255908</td>\n",
       "      <td>-0.01137705</td>\n",
       "      <td>-0.00144738</td>\n",
       "      <td>-0.01429153</td>\n",
       "      <td>-0.01383117</td>\n",
       "      <td>-0.01314880</td>\n",
       "      <td>-0.01522004</td>\n",
       "      <td>-0.01534516</td>\n",
       "      <td>-0.01533959</td>\n",
       "      <td>-0.01420771</td>\n",
       "      <td>-0.01147758</td>\n",
       "      <td>-0.01232131</td>\n",
       "      <td>0.00036677</td>\n",
       "    </tr>\n",
       "    <tr>\n",
       "      <th>252</th>\n",
       "      <td>12/28/2010</td>\n",
       "      <td>-0.01011362</td>\n",
       "      <td>0.00205142</td>\n",
       "      <td>0.00043426</td>\n",
       "      <td>-0.01232131</td>\n",
       "      <td>0.00104720</td>\n",
       "      <td>0.00067674</td>\n",
       "      <td>0.00018334</td>\n",
       "      <td>0.00222451</td>\n",
       "      <td>0.00226840</td>\n",
       "      <td>0.00278948</td>\n",
       "      <td>0.00070333</td>\n",
       "      <td>-0.00130873</td>\n",
       "      <td>0.00019654</td>\n",
       "      <td>0.00036677</td>\n",
       "    </tr>\n",
       "    <tr>\n",
       "      <th>253</th>\n",
       "      <td>12/29/2010</td>\n",
       "      <td>0.00086219</td>\n",
       "      <td>0.00040945</td>\n",
       "      <td>0.00303852</td>\n",
       "      <td>0.00019654</td>\n",
       "      <td>0.00276860</td>\n",
       "      <td>0.00102015</td>\n",
       "      <td>0.00262507</td>\n",
       "      <td>0.00328136</td>\n",
       "      <td>0.00256571</td>\n",
       "      <td>0.00276882</td>\n",
       "      <td>0.00416106</td>\n",
       "      <td>0.00374474</td>\n",
       "      <td>0.00335193</td>\n",
       "      <td>0.00036677</td>\n",
       "    </tr>\n",
       "  </tbody>\n",
       "</table>\n",
       "<p>254 rows × 15 columns</p>\n",
       "</div>"
      ],
      "text/plain": [
       "           Date  Generali Investments  Allianz Adifonds  Parvest Equity  \\\n",
       "0      1/5/2010            0.01444516        0.00598991      0.00380421   \n",
       "1      1/6/2010           -0.00017365       -0.00172360     -0.00138959   \n",
       "2      1/7/2010            0.00137705       -0.00973160      0.00075901   \n",
       "3      1/8/2010           -0.00111499        0.00935172      0.00113766   \n",
       "4     1/11/2010            0.00262936        0.00722362      0.00265151   \n",
       "..          ...                   ...               ...             ...   \n",
       "249  12/22/2010            0.00858392        0.00189676     -0.00085662   \n",
       "250  12/23/2010           -0.00061781        0.00135226     -0.00150038   \n",
       "251  12/27/2010           -0.00092729       -0.01255908     -0.01137705   \n",
       "252  12/28/2010           -0.01011362        0.00205142      0.00043426   \n",
       "253  12/29/2010            0.00086219        0.00040945      0.00303852   \n",
       "\n",
       "     DAX at 9:00  DAX at 10:00  DAX at 11:00  DAX at 12:00  DAX at 13:00  \\\n",
       "0     0.00611323    0.00360428    0.00578816    0.00755277    0.00728983   \n",
       "1    -0.00271812   -0.00101426   -0.00445926   -0.00252077   -0.00137029   \n",
       "2     0.00040949   -0.00888544   -0.00788479   -0.00882675   -0.00535115   \n",
       "3    -0.00248081    0.01157629    0.01160120    0.01103676    0.00642293   \n",
       "4     0.00303188    0.00820228    0.00805503    0.00645512    0.00519992   \n",
       "..           ...           ...           ...           ...           ...   \n",
       "249   0.00846180    0.00246367    0.00232880    0.00172966    0.00159879   \n",
       "250  -0.00142272   -0.00055682   -0.00048475   -0.00039281   -0.00027429   \n",
       "251  -0.00144738   -0.01429153   -0.01383117   -0.01314880   -0.01522004   \n",
       "252  -0.01232131    0.00104720    0.00067674    0.00018334    0.00222451   \n",
       "253   0.00019654    0.00276860    0.00102015    0.00262507    0.00328136   \n",
       "\n",
       "     DAX at 14:00  DAX at 15:00  DAX at 16:00  DAX at 17:00  DAX at 23:00  \\\n",
       "0      0.00863151    0.00449834   -0.00046948    0.00359131   -0.00271812   \n",
       "1     -0.00372093    0.00015911    0.00175102   -0.00230964    0.00040949   \n",
       "2     -0.00471375   -0.00399030   -0.00752866   -0.00159300   -0.00248081   \n",
       "3      0.00564628   -0.00263869    0.00527532    0.00129203    0.00303188   \n",
       "4      0.00674180    0.01358367    0.00460829    0.00217821    0.00047867   \n",
       "..            ...           ...           ...           ...           ...   \n",
       "249    0.00184895    0.00033063    0.00040422   -0.00009185   -0.00142272   \n",
       "250   -0.00101886   -0.00185034   -0.00155123   -0.00270900   -0.00144738   \n",
       "251   -0.01534516   -0.01533959   -0.01420771   -0.01147758   -0.01232131   \n",
       "252    0.00226840    0.00278948    0.00070333   -0.00130873    0.00019654   \n",
       "253    0.00256571    0.00276882    0.00416106    0.00374474    0.00335193   \n",
       "\n",
       "     Risk-free rate  \n",
       "0        0.00019958  \n",
       "1        0.00019958  \n",
       "2        0.00019958  \n",
       "3        0.00019958  \n",
       "4        0.00019958  \n",
       "..              ...  \n",
       "249      0.00036677  \n",
       "250      0.00036677  \n",
       "251      0.00036677  \n",
       "252      0.00036677  \n",
       "253      0.00036677  \n",
       "\n",
       "[254 rows x 15 columns]"
      ]
     },
     "metadata": {
      "tags": []
     },
     "output_type": "display_data"
    }
   ],
   "source": [
    "df_excess = df.copy()\n",
    "display(df_excess)"
   ]
  },
  {
   "cell_type": "markdown",
   "metadata": {
    "colab_type": "text",
    "id": "loOa1_P3qI1e"
   },
   "source": [
    "And now let's subtract ``Risk-free rate`` from all funds and from the DAX at all times."
   ]
  },
  {
   "cell_type": "code",
   "execution_count": 25,
   "metadata": {
    "colab": {
     "base_uri": "https://localhost:8080/",
     "height": 473
    },
    "colab_type": "code",
    "executionInfo": {
     "elapsed": 329,
     "status": "ok",
     "timestamp": 1555369016333,
     "user": {
      "displayName": "Donatella Taurasi",
      "photoUrl": "https://lh5.googleusercontent.com/-UOjzVOt1NjU/AAAAAAAAAAI/AAAAAAAAAJU/HTVVF8KTbdM/s64/photo.jpg",
      "userId": "00673418551725000492"
     },
     "user_tz": 420
    },
    "id": "XGRiU3bKCmL5",
    "outputId": "6911c8ce-d2d4-4a12-fc66-61207acf619d"
   },
   "outputs": [
    {
     "data": {
      "text/html": [
       "<div>\n",
       "<style scoped>\n",
       "    .dataframe tbody tr th:only-of-type {\n",
       "        vertical-align: middle;\n",
       "    }\n",
       "\n",
       "    .dataframe tbody tr th {\n",
       "        vertical-align: top;\n",
       "    }\n",
       "\n",
       "    .dataframe thead th {\n",
       "        text-align: right;\n",
       "    }\n",
       "</style>\n",
       "<table border=\"1\" class=\"dataframe\">\n",
       "  <thead>\n",
       "    <tr style=\"text-align: right;\">\n",
       "      <th></th>\n",
       "      <th>Date</th>\n",
       "      <th>Generali Investments</th>\n",
       "      <th>Allianz Adifonds</th>\n",
       "      <th>Parvest Equity</th>\n",
       "      <th>DAX at 9:00</th>\n",
       "      <th>DAX at 10:00</th>\n",
       "      <th>DAX at 11:00</th>\n",
       "      <th>DAX at 12:00</th>\n",
       "      <th>DAX at 13:00</th>\n",
       "      <th>DAX at 14:00</th>\n",
       "      <th>DAX at 15:00</th>\n",
       "      <th>DAX at 16:00</th>\n",
       "      <th>DAX at 17:00</th>\n",
       "      <th>DAX at 23:00</th>\n",
       "      <th>Risk-free rate</th>\n",
       "    </tr>\n",
       "  </thead>\n",
       "  <tbody>\n",
       "    <tr>\n",
       "      <th>0</th>\n",
       "      <td>1/5/2010</td>\n",
       "      <td>0.01424558</td>\n",
       "      <td>0.00579033</td>\n",
       "      <td>0.00360463</td>\n",
       "      <td>0.00591365</td>\n",
       "      <td>0.00340470</td>\n",
       "      <td>0.00558858</td>\n",
       "      <td>0.00735319</td>\n",
       "      <td>0.00709025</td>\n",
       "      <td>0.00843193</td>\n",
       "      <td>0.00429876</td>\n",
       "      <td>-0.00066906</td>\n",
       "      <td>0.00339173</td>\n",
       "      <td>-0.00291770</td>\n",
       "      <td>0.00019958</td>\n",
       "    </tr>\n",
       "    <tr>\n",
       "      <th>1</th>\n",
       "      <td>1/6/2010</td>\n",
       "      <td>-0.00037323</td>\n",
       "      <td>-0.00192318</td>\n",
       "      <td>-0.00158917</td>\n",
       "      <td>-0.00291770</td>\n",
       "      <td>-0.00121384</td>\n",
       "      <td>-0.00465884</td>\n",
       "      <td>-0.00272035</td>\n",
       "      <td>-0.00156987</td>\n",
       "      <td>-0.00392051</td>\n",
       "      <td>-0.00004047</td>\n",
       "      <td>0.00155144</td>\n",
       "      <td>-0.00250922</td>\n",
       "      <td>0.00020991</td>\n",
       "      <td>0.00019958</td>\n",
       "    </tr>\n",
       "    <tr>\n",
       "      <th>2</th>\n",
       "      <td>1/7/2010</td>\n",
       "      <td>0.00117747</td>\n",
       "      <td>-0.00993118</td>\n",
       "      <td>0.00055943</td>\n",
       "      <td>0.00020991</td>\n",
       "      <td>-0.00908502</td>\n",
       "      <td>-0.00808437</td>\n",
       "      <td>-0.00902633</td>\n",
       "      <td>-0.00555073</td>\n",
       "      <td>-0.00491333</td>\n",
       "      <td>-0.00418988</td>\n",
       "      <td>-0.00772824</td>\n",
       "      <td>-0.00179258</td>\n",
       "      <td>-0.00268039</td>\n",
       "      <td>0.00019958</td>\n",
       "    </tr>\n",
       "    <tr>\n",
       "      <th>3</th>\n",
       "      <td>1/8/2010</td>\n",
       "      <td>-0.00131457</td>\n",
       "      <td>0.00915214</td>\n",
       "      <td>0.00093808</td>\n",
       "      <td>-0.00268039</td>\n",
       "      <td>0.01137671</td>\n",
       "      <td>0.01140162</td>\n",
       "      <td>0.01083718</td>\n",
       "      <td>0.00622335</td>\n",
       "      <td>0.00544670</td>\n",
       "      <td>-0.00283827</td>\n",
       "      <td>0.00507574</td>\n",
       "      <td>0.00109245</td>\n",
       "      <td>0.00283230</td>\n",
       "      <td>0.00019958</td>\n",
       "    </tr>\n",
       "    <tr>\n",
       "      <th>4</th>\n",
       "      <td>1/11/2010</td>\n",
       "      <td>0.00242978</td>\n",
       "      <td>0.00702404</td>\n",
       "      <td>0.00245193</td>\n",
       "      <td>0.00283230</td>\n",
       "      <td>0.00800270</td>\n",
       "      <td>0.00785545</td>\n",
       "      <td>0.00625554</td>\n",
       "      <td>0.00500034</td>\n",
       "      <td>0.00654222</td>\n",
       "      <td>0.01338409</td>\n",
       "      <td>0.00440871</td>\n",
       "      <td>0.00197863</td>\n",
       "      <td>0.00027909</td>\n",
       "      <td>0.00019958</td>\n",
       "    </tr>\n",
       "    <tr>\n",
       "      <th>...</th>\n",
       "      <td>...</td>\n",
       "      <td>...</td>\n",
       "      <td>...</td>\n",
       "      <td>...</td>\n",
       "      <td>...</td>\n",
       "      <td>...</td>\n",
       "      <td>...</td>\n",
       "      <td>...</td>\n",
       "      <td>...</td>\n",
       "      <td>...</td>\n",
       "      <td>...</td>\n",
       "      <td>...</td>\n",
       "      <td>...</td>\n",
       "      <td>...</td>\n",
       "      <td>...</td>\n",
       "    </tr>\n",
       "    <tr>\n",
       "      <th>249</th>\n",
       "      <td>12/22/2010</td>\n",
       "      <td>0.00821715</td>\n",
       "      <td>0.00152999</td>\n",
       "      <td>-0.00122339</td>\n",
       "      <td>0.00809503</td>\n",
       "      <td>0.00209690</td>\n",
       "      <td>0.00196203</td>\n",
       "      <td>0.00136289</td>\n",
       "      <td>0.00123202</td>\n",
       "      <td>0.00148218</td>\n",
       "      <td>-0.00003614</td>\n",
       "      <td>0.00003745</td>\n",
       "      <td>-0.00045862</td>\n",
       "      <td>-0.00178949</td>\n",
       "      <td>0.00036677</td>\n",
       "    </tr>\n",
       "    <tr>\n",
       "      <th>250</th>\n",
       "      <td>12/23/2010</td>\n",
       "      <td>-0.00098458</td>\n",
       "      <td>0.00098549</td>\n",
       "      <td>-0.00186715</td>\n",
       "      <td>-0.00178949</td>\n",
       "      <td>-0.00092359</td>\n",
       "      <td>-0.00085152</td>\n",
       "      <td>-0.00075958</td>\n",
       "      <td>-0.00064106</td>\n",
       "      <td>-0.00138563</td>\n",
       "      <td>-0.00221711</td>\n",
       "      <td>-0.00191800</td>\n",
       "      <td>-0.00307577</td>\n",
       "      <td>-0.00181415</td>\n",
       "      <td>0.00036677</td>\n",
       "    </tr>\n",
       "    <tr>\n",
       "      <th>251</th>\n",
       "      <td>12/27/2010</td>\n",
       "      <td>-0.00129406</td>\n",
       "      <td>-0.01292585</td>\n",
       "      <td>-0.01174382</td>\n",
       "      <td>-0.00181415</td>\n",
       "      <td>-0.01465830</td>\n",
       "      <td>-0.01419794</td>\n",
       "      <td>-0.01351557</td>\n",
       "      <td>-0.01558681</td>\n",
       "      <td>-0.01571193</td>\n",
       "      <td>-0.01570636</td>\n",
       "      <td>-0.01457448</td>\n",
       "      <td>-0.01184435</td>\n",
       "      <td>-0.01268808</td>\n",
       "      <td>0.00036677</td>\n",
       "    </tr>\n",
       "    <tr>\n",
       "      <th>252</th>\n",
       "      <td>12/28/2010</td>\n",
       "      <td>-0.01048039</td>\n",
       "      <td>0.00168465</td>\n",
       "      <td>0.00006749</td>\n",
       "      <td>-0.01268808</td>\n",
       "      <td>0.00068043</td>\n",
       "      <td>0.00030997</td>\n",
       "      <td>-0.00018343</td>\n",
       "      <td>0.00185774</td>\n",
       "      <td>0.00190163</td>\n",
       "      <td>0.00242271</td>\n",
       "      <td>0.00033656</td>\n",
       "      <td>-0.00167550</td>\n",
       "      <td>-0.00017023</td>\n",
       "      <td>0.00036677</td>\n",
       "    </tr>\n",
       "    <tr>\n",
       "      <th>253</th>\n",
       "      <td>12/29/2010</td>\n",
       "      <td>0.00049542</td>\n",
       "      <td>0.00004268</td>\n",
       "      <td>0.00267175</td>\n",
       "      <td>-0.00017023</td>\n",
       "      <td>0.00240183</td>\n",
       "      <td>0.00065338</td>\n",
       "      <td>0.00225830</td>\n",
       "      <td>0.00291459</td>\n",
       "      <td>0.00219894</td>\n",
       "      <td>0.00240205</td>\n",
       "      <td>0.00379429</td>\n",
       "      <td>0.00337797</td>\n",
       "      <td>0.00298516</td>\n",
       "      <td>0.00036677</td>\n",
       "    </tr>\n",
       "  </tbody>\n",
       "</table>\n",
       "<p>254 rows × 15 columns</p>\n",
       "</div>"
      ],
      "text/plain": [
       "           Date  Generali Investments  Allianz Adifonds  Parvest Equity  \\\n",
       "0      1/5/2010            0.01424558        0.00579033      0.00360463   \n",
       "1      1/6/2010           -0.00037323       -0.00192318     -0.00158917   \n",
       "2      1/7/2010            0.00117747       -0.00993118      0.00055943   \n",
       "3      1/8/2010           -0.00131457        0.00915214      0.00093808   \n",
       "4     1/11/2010            0.00242978        0.00702404      0.00245193   \n",
       "..          ...                   ...               ...             ...   \n",
       "249  12/22/2010            0.00821715        0.00152999     -0.00122339   \n",
       "250  12/23/2010           -0.00098458        0.00098549     -0.00186715   \n",
       "251  12/27/2010           -0.00129406       -0.01292585     -0.01174382   \n",
       "252  12/28/2010           -0.01048039        0.00168465      0.00006749   \n",
       "253  12/29/2010            0.00049542        0.00004268      0.00267175   \n",
       "\n",
       "     DAX at 9:00  DAX at 10:00  DAX at 11:00  DAX at 12:00  DAX at 13:00  \\\n",
       "0     0.00591365    0.00340470    0.00558858    0.00735319    0.00709025   \n",
       "1    -0.00291770   -0.00121384   -0.00465884   -0.00272035   -0.00156987   \n",
       "2     0.00020991   -0.00908502   -0.00808437   -0.00902633   -0.00555073   \n",
       "3    -0.00268039    0.01137671    0.01140162    0.01083718    0.00622335   \n",
       "4     0.00283230    0.00800270    0.00785545    0.00625554    0.00500034   \n",
       "..           ...           ...           ...           ...           ...   \n",
       "249   0.00809503    0.00209690    0.00196203    0.00136289    0.00123202   \n",
       "250  -0.00178949   -0.00092359   -0.00085152   -0.00075958   -0.00064106   \n",
       "251  -0.00181415   -0.01465830   -0.01419794   -0.01351557   -0.01558681   \n",
       "252  -0.01268808    0.00068043    0.00030997   -0.00018343    0.00185774   \n",
       "253  -0.00017023    0.00240183    0.00065338    0.00225830    0.00291459   \n",
       "\n",
       "     DAX at 14:00  DAX at 15:00  DAX at 16:00  DAX at 17:00  DAX at 23:00  \\\n",
       "0      0.00843193    0.00429876   -0.00066906    0.00339173   -0.00291770   \n",
       "1     -0.00392051   -0.00004047    0.00155144   -0.00250922    0.00020991   \n",
       "2     -0.00491333   -0.00418988   -0.00772824   -0.00179258   -0.00268039   \n",
       "3      0.00544670   -0.00283827    0.00507574    0.00109245    0.00283230   \n",
       "4      0.00654222    0.01338409    0.00440871    0.00197863    0.00027909   \n",
       "..            ...           ...           ...           ...           ...   \n",
       "249    0.00148218   -0.00003614    0.00003745   -0.00045862   -0.00178949   \n",
       "250   -0.00138563   -0.00221711   -0.00191800   -0.00307577   -0.00181415   \n",
       "251   -0.01571193   -0.01570636   -0.01457448   -0.01184435   -0.01268808   \n",
       "252    0.00190163    0.00242271    0.00033656   -0.00167550   -0.00017023   \n",
       "253    0.00219894    0.00240205    0.00379429    0.00337797    0.00298516   \n",
       "\n",
       "     Risk-free rate  \n",
       "0        0.00019958  \n",
       "1        0.00019958  \n",
       "2        0.00019958  \n",
       "3        0.00019958  \n",
       "4        0.00019958  \n",
       "..              ...  \n",
       "249      0.00036677  \n",
       "250      0.00036677  \n",
       "251      0.00036677  \n",
       "252      0.00036677  \n",
       "253      0.00036677  \n",
       "\n",
       "[254 rows x 15 columns]"
      ]
     },
     "metadata": {
      "tags": []
     },
     "output_type": "display_data"
    }
   ],
   "source": [
    "for fund in all_funds:\n",
    "  df_excess[fund] -= df_excess['Risk-free rate']\n",
    "for time in all_times:\n",
    "  df_excess['DAX at ' + time] -= df_excess['Risk-free rate']\n",
    "display(df_excess)"
   ]
  },
  {
   "cell_type": "markdown",
   "metadata": {
    "colab_type": "text",
    "id": "vD1SAMfsl9L6"
   },
   "source": [
    "## Fitting Using the New Data\n",
    "\n",
    "Let's do the same analysis that we did before to fit ``Generali Investments`` to ``DAX at 9:00``."
   ]
  },
  {
   "cell_type": "code",
   "execution_count": 26,
   "metadata": {
    "colab": {
     "base_uri": "https://localhost:8080/",
     "height": 376
    },
    "colab_type": "code",
    "executionInfo": {
     "elapsed": 305,
     "status": "ok",
     "timestamp": 1555369051953,
     "user": {
      "displayName": "Donatella Taurasi",
      "photoUrl": "https://lh5.googleusercontent.com/-UOjzVOt1NjU/AAAAAAAAAAI/AAAAAAAAAJU/HTVVF8KTbdM/s64/photo.jpg",
      "userId": "00673418551725000492"
     },
     "user_tz": 420
    },
    "id": "D1O4sWj-Najx",
    "outputId": "5812df34-306a-4aad-a9ed-0da776def32b"
   },
   "outputs": [
    {
     "data": {
      "text/html": [
       "<table class=\"simpletable\">\n",
       "<caption>OLS Regression Results</caption>\n",
       "<tr>\n",
       "  <th>Dep. Variable:</th>    <td>Q(\"Generali Investments\")</td> <th>  R-squared:         </th> <td>   0.947</td> \n",
       "</tr>\n",
       "<tr>\n",
       "  <th>Model:</th>                       <td>OLS</td>            <th>  Adj. R-squared:    </th> <td>   0.946</td> \n",
       "</tr>\n",
       "<tr>\n",
       "  <th>Method:</th>                 <td>Least Squares</td>       <th>  F-statistic:       </th> <td>   4473.</td> \n",
       "</tr>\n",
       "<tr>\n",
       "  <th>Date:</th>                 <td>Mon, 15 Apr 2019</td>      <th>  Prob (F-statistic):</th> <td>2.04e-162</td>\n",
       "</tr>\n",
       "<tr>\n",
       "  <th>Time:</th>                     <td>22:57:31</td>          <th>  Log-Likelihood:    </th> <td>  1162.3</td> \n",
       "</tr>\n",
       "<tr>\n",
       "  <th>No. Observations:</th>          <td>   254</td>           <th>  AIC:               </th> <td>  -2321.</td> \n",
       "</tr>\n",
       "<tr>\n",
       "  <th>Df Residuals:</th>              <td>   252</td>           <th>  BIC:               </th> <td>  -2313.</td> \n",
       "</tr>\n",
       "<tr>\n",
       "  <th>Df Model:</th>                  <td>     1</td>           <th>                     </th>     <td> </td>    \n",
       "</tr>\n",
       "<tr>\n",
       "  <th>Covariance Type:</th>          <td>nonrobust</td>         <th>                     </th>     <td> </td>    \n",
       "</tr>\n",
       "</table>\n",
       "<table class=\"simpletable\">\n",
       "<tr>\n",
       "          <td></td>            <th>coef</th>     <th>std err</th>      <th>t</th>      <th>P>|t|</th>  <th>[0.025</th>    <th>0.975]</th>  \n",
       "</tr>\n",
       "<tr>\n",
       "  <th>Intercept</th>        <td> 5.543e-05</td> <td>    0.000</td> <td>    0.353</td> <td> 0.724</td> <td>   -0.000</td> <td>    0.000</td>\n",
       "</tr>\n",
       "<tr>\n",
       "  <th>Q(\"DAX at 9:00\")</th> <td>    0.9145</td> <td>    0.014</td> <td>   66.884</td> <td> 0.000</td> <td>    0.888</td> <td>    0.941</td>\n",
       "</tr>\n",
       "</table>\n",
       "<table class=\"simpletable\">\n",
       "<tr>\n",
       "  <th>Omnibus:</th>       <td>132.925</td> <th>  Durbin-Watson:     </th> <td>   2.689</td> \n",
       "</tr>\n",
       "<tr>\n",
       "  <th>Prob(Omnibus):</th> <td> 0.000</td>  <th>  Jarque-Bera (JB):  </th> <td>31495.932</td>\n",
       "</tr>\n",
       "<tr>\n",
       "  <th>Skew:</th>          <td> 0.763</td>  <th>  Prob(JB):          </th> <td>    0.00</td> \n",
       "</tr>\n",
       "<tr>\n",
       "  <th>Kurtosis:</th>      <td>57.531</td>  <th>  Cond. No.          </th> <td>    87.1</td> \n",
       "</tr>\n",
       "</table>"
      ],
      "text/plain": [
       "<class 'statsmodels.iolib.summary.Summary'>\n",
       "\"\"\"\n",
       "                                OLS Regression Results                               \n",
       "=====================================================================================\n",
       "Dep. Variable:     Q(\"Generali Investments\")   R-squared:                       0.947\n",
       "Model:                                   OLS   Adj. R-squared:                  0.946\n",
       "Method:                        Least Squares   F-statistic:                     4473.\n",
       "Date:                       Mon, 15 Apr 2019   Prob (F-statistic):          2.04e-162\n",
       "Time:                               22:57:31   Log-Likelihood:                 1162.3\n",
       "No. Observations:                        254   AIC:                            -2321.\n",
       "Df Residuals:                            252   BIC:                            -2313.\n",
       "Df Model:                                  1                                         \n",
       "Covariance Type:                   nonrobust                                         \n",
       "====================================================================================\n",
       "                       coef    std err          t      P>|t|      [0.025      0.975]\n",
       "------------------------------------------------------------------------------------\n",
       "Intercept         5.543e-05      0.000      0.353      0.724      -0.000       0.000\n",
       "Q(\"DAX at 9:00\")     0.9145      0.014     66.884      0.000       0.888       0.941\n",
       "==============================================================================\n",
       "Omnibus:                      132.925   Durbin-Watson:                   2.689\n",
       "Prob(Omnibus):                  0.000   Jarque-Bera (JB):            31495.932\n",
       "Skew:                           0.763   Prob(JB):                         0.00\n",
       "Kurtosis:                      57.531   Cond. No.                         87.1\n",
       "==============================================================================\n",
       "\n",
       "Warnings:\n",
       "[1] Standard Errors assume that the covariance matrix of the errors is correctly specified.\n",
       "\"\"\""
      ]
     },
     "metadata": {
      "tags": []
     },
     "output_type": "display_data"
    }
   ],
   "source": [
    "riskfree_formula_0900 = 'Q(\"Generali Investments\") ~ Q(\"DAX at 9:00\")'\n",
    "riskfree_linear_fit_0900 = smf.ols(\n",
    "    formula=riskfree_formula_0900, data=df_excess).fit()\n",
    "display(riskfree_linear_fit_0900.summary())"
   ]
  },
  {
   "cell_type": "markdown",
   "metadata": {
    "colab_type": "text",
    "id": "BYd735yOttOR"
   },
   "source": [
    "Let's look at the $\\beta$ for this fit."
   ]
  },
  {
   "cell_type": "code",
   "execution_count": 27,
   "metadata": {
    "colab": {
     "base_uri": "https://localhost:8080/",
     "height": 68
    },
    "colab_type": "code",
    "executionInfo": {
     "elapsed": 287,
     "status": "ok",
     "timestamp": 1555369056254,
     "user": {
      "displayName": "Donatella Taurasi",
      "photoUrl": "https://lh5.googleusercontent.com/-UOjzVOt1NjU/AAAAAAAAAAI/AAAAAAAAAJU/HTVVF8KTbdM/s64/photo.jpg",
      "userId": "00673418551725000492"
     },
     "user_tz": 420
    },
    "id": "8-bHrY95mM9e",
    "outputId": "83eab5de-9efd-492b-d2f5-d98c35db02f9"
   },
   "outputs": [
    {
     "data": {
      "text/plain": [
       "Intercept          0.00005543\n",
       "Q(\"DAX at 9:00\")   0.91454248\n",
       "dtype: float64"
      ]
     },
     "metadata": {
      "tags": []
     },
     "output_type": "display_data"
    }
   ],
   "source": [
    "display(riskfree_linear_fit_0900.params)"
   ]
  },
  {
   "cell_type": "markdown",
   "metadata": {
    "colab_type": "text",
    "id": "5-bdfL__tzCH"
   },
   "source": [
    "And also look at the plot."
   ]
  },
  {
   "cell_type": "code",
   "execution_count": 28,
   "metadata": {
    "colab": {
     "base_uri": "https://localhost:8080/",
     "height": 295
    },
    "colab_type": "code",
    "executionInfo": {
     "elapsed": 586,
     "status": "ok",
     "timestamp": 1555369058628,
     "user": {
      "displayName": "Donatella Taurasi",
      "photoUrl": "https://lh5.googleusercontent.com/-UOjzVOt1NjU/AAAAAAAAAAI/AAAAAAAAAJU/HTVVF8KTbdM/s64/photo.jpg",
      "userId": "00673418551725000492"
     },
     "user_tz": 420
    },
    "id": "rFe6OEn5tsf2",
    "outputId": "1a63bc7b-3f39-484f-dda8-edf7443d0c0f"
   },
   "outputs": [
    {
     "data": {
      "image/png": "[encoded data removed]",
      "text/plain": [
       "<Figure size 432x288 with 1 Axes>"
      ]
     },
     "metadata": {
      "tags": []
     },
     "output_type": "display_data"
    }
   ],
   "source": [
    "sm.graphics.plot_fit(riskfree_linear_fit_0900, 'Q(\"DAX at 9:00\")')\n",
    "plt.show()"
   ]
  },
  {
   "cell_type": "markdown",
   "metadata": {
    "colab_type": "text",
    "id": "2PVmTDbWmV0a"
   },
   "source": [
    "## Exercise\n",
    "\n",
    "Let's generate the same ``DataFrames`` that we generated before (one ``DataFrame`` for each fund, with one row for each time), this time using ``df_excess`` instead of ``df``."
   ]
  }
 ],
 "metadata": {
  "colab": {
   "collapsed_sections": [],
   "name": "Closing Time.ipynb",
   "provenance": [],
   "toc_visible": true,
   "version": "0.3.2"
  },
  "kernelspec": {
   "display_name": "Python 3",
   "language": "python",
   "name": "python3"
  },
  "language_info": {
   "codemirror_mode": {
    "name": "ipython",
    "version": 3
   },
   "file_extension": ".py",
   "mimetype": "text/x-python",
   "name": "python",
   "nbconvert_exporter": "python",
   "pygments_lexer": "ipython3",
   "version": "3.6.8"
  }
 },
 "nbformat": 4,
 "nbformat_minor": 1
}
