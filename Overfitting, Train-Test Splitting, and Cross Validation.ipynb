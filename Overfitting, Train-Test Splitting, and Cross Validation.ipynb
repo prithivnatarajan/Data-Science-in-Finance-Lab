{
 "cells": [
  {
   "cell_type": "markdown",
   "metadata": {
    "colab_type": "text",
    "id": "v0hVGSvAnLva"
   },
   "source": [
    "# Overfitting, Test-Train Splitting, and Cross-Validation\n",
    "This notebook will discuss overfitting data and cross-validation using the [``numpy``](http://www.numpy.org/), [``matplotlib``](https://matplotlib.org/), and [``scikit-learn``](https://scikit-learn.org/stable/) libraries.\n",
    "\n",
    "``numpy`` is a scientific computing library for Python. It is \"lower level\" than other libraries that we'll be using later in this course (in this context \"lower level\" means \"has more nitty-gritty details\"). Most of the data science libraries for Python are built on top of ``numpy``.\n",
    "\n",
    "``matplotlib`` is a visualization library for Python. Its name comes from the fact that was originally based on the plotting functionality of Matlab. Most of the visualization libraries that one will come across in Python are built upon ``matplotlib``.\n",
    "\n",
    "``scikit-learn`` is a library that has many machine learning algorithms implemented. We will be using ``scikit-learn`` more in the next few examples, but for now we're just using it to split our data."
   ]
  },
  {
   "cell_type": "code",
   "execution_count": 1,
   "metadata": {
    "colab": {},
    "colab_type": "code",
    "collapsed": true,
    "id": "STuc-MA9oyMd"
   },
   "outputs": [],
   "source": [
    "# Most Python code uses the abbreviation np for numpy\n",
    "import numpy as np\n",
    "# Most python code uses the abbreviation plt for matplotlib's pyplot module\n",
    "import matplotlib.pyplot as plt\n",
    "# We'll be just using a couple of functions from sklearn's model_selection\n",
    "# module, so don't bother with an abbreviation.\n",
    "import sklearn.model_selection"
   ]
  },
  {
   "cell_type": "markdown",
   "metadata": {
    "colab_type": "text",
    "id": "rXchp_YHghEf"
   },
   "source": [
    "# Our goal\n",
    "\n",
    "Our goal will be to find the best model to fit our data without over-fitting.\n",
    "\n",
    "The class of models that we'll be considering is all polynomials, so, a linear fit (1st degree polynomial), a quadratic fit (2nd degree polynomial), a cubic fit (3rd degree polynomial), etc.\n",
    "\n",
    "To rephrase the above, our goal is to find the number $P$ such that a $P$th degree polynomial is the best model for fitting our data.\n",
    "\n",
    "The parameters for any given polynomial fit are the coefficients of that polynomial (so, for a line $y=\\beta x+\\alpha$, the parameters are $\\beta$ and $\\alpha$). Sometimes this parameter for the model $P$ is called a \"hyperparameter\", to distinguish it from the parameters of the model."
   ]
  },
  {
   "cell_type": "markdown",
   "metadata": {
    "colab_type": "text",
    "id": "midIpoPOpPee"
   },
   "source": [
    "# Generating our Data\n",
    "In this example, we'll generate some random data that we'll be using to work on. First, let's create a variable ``n`` for the number of data points we'll have"
   ]
  },
  {
   "cell_type": "code",
   "execution_count": 2,
   "metadata": {
    "colab": {},
    "colab_type": "code",
    "collapsed": true,
    "id": "gfl3dp2ZpdsK"
   },
   "outputs": [],
   "source": [
    "n = 30"
   ]
  },
  {
   "cell_type": "markdown",
   "metadata": {
    "colab_type": "text",
    "id": "9O2mCZW4pfOf"
   },
   "source": [
    "While we want our data to be random, for our purposes in this example we will want the data that we get to be repeatable (otherwise we could never have slides that use the same data as our notebook!). To do this, we set something called a random seed using [``np.random.seed``](https://docs.scipy.org/doc/numpy-1.10.0/reference/generated/numpy.random.seed.html). This ensures that when we generate random data using ``np.random``, we will always get the same thing. Here we use 7 as an arbitrary choice (not really, it's my favorite number)."
   ]
  },
  {
   "cell_type": "code",
   "execution_count": 3,
   "metadata": {
    "colab": {},
    "colab_type": "code",
    "collapsed": true,
    "id": "FeL1E8BWqEj_"
   },
   "outputs": [],
   "source": [
    "np.random.seed(7)"
   ]
  },
  {
   "cell_type": "markdown",
   "metadata": {
    "colab_type": "text",
    "id": "0FzXleYDpMiD"
   },
   "source": [
    "If we want to start getting truly (or, less predictable) random numbers again, then we would just call ``np.random.seed()`` with no parameters."
   ]
  },
  {
   "cell_type": "markdown",
   "metadata": {
    "colab_type": "text",
    "id": "w7qtCCpwqSIm"
   },
   "source": [
    "## The x values\n",
    "\n",
    "Let's define ``x`` to be a set of points selected uniformly at random from the interval $[0, 3.14)$, using the [``np.random.uniform``](https://docs.scipy.org/doc/numpy/reference/generated/numpy.random.uniform.html) function."
   ]
  },
  {
   "cell_type": "code",
   "execution_count": 4,
   "metadata": {
    "colab": {},
    "colab_type": "code",
    "id": "l1-3v7wPqTZL"
   },
   "outputs": [
    {
     "data": {
      "text/plain": [
       "array([ 0.23960803,  2.44894501,  1.37660499,  2.27168066,  3.07088707,\n",
       "        1.69087703,  1.57351826,  0.22624056,  0.8428984 ,  1.56963105,\n",
       "        2.13278219,  2.52374057,  1.19615516,  0.20704013,  0.90477718,\n",
       "        2.85612368,  0.67003001,  1.41966924,  2.9239869 ,  0.07818357,\n",
       "        1.8857236 ,  2.98340663,  0.72315104,  1.72225835,  2.8546631 ,\n",
       "        0.41815206,  1.6435155 ,  2.35628696,  2.10070158,  1.46874398])"
      ]
     },
     "execution_count": 4,
     "metadata": {},
     "output_type": "execute_result"
    }
   ],
   "source": [
    "x = np.random.uniform(0,3.14,n)\n",
    "x"
   ]
  },
  {
   "cell_type": "markdown",
   "metadata": {
    "colab_type": "text",
    "id": "lKHgiRIeKVSG"
   },
   "source": [
    "Note that the first number in the series should be 0.23960803."
   ]
  },
  {
   "cell_type": "markdown",
   "metadata": {
    "colab_type": "text",
    "id": "xeW7hUTzqlko"
   },
   "source": [
    "## The y values\n",
    "Let's define ``y`` using the function $y=\\sin(x)$ with some normally distributed noise added. The normally distributed noise is generated using the [``np.random.normal``](https://docs.scipy.org/doc/numpy/reference/generated/numpy.random.normal.html) function. We'll have the noise's distribution be centered at $0$ and have a standard deviation of $0.2$."
   ]
  },
  {
   "cell_type": "code",
   "execution_count": 5,
   "metadata": {
    "colab": {},
    "colab_type": "code",
    "id": "C4QE-7rHqh7K"
   },
   "outputs": [
    {
     "data": {
      "text/plain": [
       "array([ 0.39975641,  0.57740129,  0.92838686,  0.65697532,  0.15718745,\n",
       "        0.7626451 ,  1.17447747,  0.14819479,  0.77847847,  0.97506228,\n",
       "        0.99240937,  0.3732716 ,  0.89839727,  0.16715871,  0.89966445,\n",
       "        0.17161835,  0.60376669,  0.90081618,  0.22011383,  0.13638547,\n",
       "        0.84075699,  0.27199951,  0.75190944,  1.03880097,  0.37309424,\n",
       "        0.33769964,  0.9850681 ,  0.61346445,  0.83606616,  1.04783272])"
      ]
     },
     "execution_count": 5,
     "metadata": {},
     "output_type": "execute_result"
    }
   ],
   "source": [
    "np.random.seed(1)\n",
    "y = np.sin(x)+np.random.normal(0, 0.1, n)\n",
    "y"
   ]
  },
  {
   "cell_type": "markdown",
   "metadata": {
    "colab_type": "text",
    "id": "b47u2T1iLuKm"
   },
   "source": [
    "Note that the first number should be 0.39975641."
   ]
  },
  {
   "cell_type": "markdown",
   "metadata": {
    "colab_type": "text",
    "id": "Ror9-F5yrZq3"
   },
   "source": [
    "## Plotting the data\n",
    "Let's create a scatterplot of the data using the [``plt.scatter``](https://matplotlib.org/api/_as_gen/matplotlib.pyplot.scatter.html) function.\n",
    "\n",
    "One thing to note about ``matplotlib`` is that each call to ``plt`` will draw additional things on to your \"current\" plot. Only once you have drawn everything you need should you call [``plt.show``](https://matplotlib.org/api/_as_gen/matplotlib.pyplot.show.html), which will make the plot appear on-screen."
   ]
  },
  {
   "cell_type": "code",
   "execution_count": 6,
   "metadata": {
    "colab": {},
    "colab_type": "code",
    "id": "9MsrAUjDr3G-"
   },
   "outputs": [
    {
     "data": {
      "image/png": "[encoded data removed]",
      "text/plain": [
       "<Figure size 432x288 with 1 Axes>"
      ]
     },
     "metadata": {
      "needs_background": "light"
     },
     "output_type": "display_data"
    }
   ],
   "source": [
    "plt.scatter(x, y)\n",
    "plt.show()"
   ]
  },
  {
   "cell_type": "markdown",
   "metadata": {
    "colab_type": "text",
    "id": "7rSr0WgLhVGb"
   },
   "source": [
    "# Fitting Various Models to Our Data"
   ]
  },
  {
   "cell_type": "markdown",
   "metadata": {
    "colab_type": "text",
    "id": "zEr9VeEm91eL"
   },
   "source": [
    "## Linear regression\n",
    "\n",
    "In this section we will fit the data to a line. In future examples we'll use more sophisticated regressions packages from ``statsmodels``, but for now we will just use the [``np.polyfit``](https://docs.scipy.org/doc/numpy/reference/generated/numpy.polyfit.html) function."
   ]
  },
  {
   "cell_type": "markdown",
   "metadata": {
    "colab_type": "text",
    "id": "vhQO7LXBEdE6"
   },
   "source": [
    "### Computing the linear fit\n",
    "\n",
    "When we call ``np.polyfit`` with our data, it will return a ``np.array`` with the polynomial coefficients, which we convert to a [``np.poly1d``](https://docs.scipy.org/doc/numpy/reference/generated/numpy.poly1d.html), which is ``numpy``'s polynomial class."
   ]
  },
  {
   "cell_type": "code",
   "execution_count": 7,
   "metadata": {
    "colab": {},
    "colab_type": "code",
    "id": "v4zfJSR8TpgU"
   },
   "outputs": [
    {
     "name": "stdout",
     "output_type": "stream",
     "text": [
      "[-0.01810923  0.66316613]\n"
     ]
    }
   ],
   "source": [
    "linear_fit_coefficients = np.polyfit(x, y, deg=1)\n",
    "print(linear_fit_coefficients)"
   ]
  },
  {
   "cell_type": "code",
   "execution_count": 8,
   "metadata": {
    "colab": {},
    "colab_type": "code",
    "id": "pXnBGvabsEy5"
   },
   "outputs": [
    {
     "name": "stdout",
     "output_type": "stream",
     "text": [
      "y = \n",
      " \n",
      "-0.01811 x + 0.6632\n"
     ]
    }
   ],
   "source": [
    "linear_fit = np.poly1d(linear_fit_coefficients)\n",
    "print('y = ')\n",
    "print(linear_fit)"
   ]
  },
  {
   "cell_type": "markdown",
   "metadata": {
    "colab_type": "text",
    "id": "rWMkdYHbEjWe"
   },
   "source": [
    "### Computing RMSE\n",
    "\n",
    "We'll be using the function [``np.polyval``](https://docs.scipy.org/doc/numpy/reference/generated/numpy.polyfit.html) to evaluate our polynomial. Let's see what the ``y_predicted`` or $\\hat y$ value would be."
   ]
  },
  {
   "cell_type": "code",
   "execution_count": 9,
   "metadata": {
    "colab": {},
    "colab_type": "code",
    "id": "GcMyC5iZ-pyh"
   },
   "outputs": [
    {
     "data": {
      "text/plain": [
       "array([ 0.65882701,  0.61881762,  0.63823687,  0.62202774,  0.60755473,\n",
       "        0.63254565,  0.63467092,  0.65906909,  0.64790189,  0.63474132,\n",
       "        0.62454308,  0.61746313,  0.64150468,  0.65941679,  0.64678131,\n",
       "        0.61144393,  0.6510324 ,  0.63745701,  0.61021498,  0.66175029,\n",
       "        0.62901713,  0.60913893,  0.65007042,  0.63197736,  0.61147038,\n",
       "        0.65559372,  0.63340333,  0.62049558,  0.62512404,  0.63656831])"
      ]
     },
     "execution_count": 9,
     "metadata": {},
     "output_type": "execute_result"
    }
   ],
   "source": [
    "y_predicted = np.polyval(linear_fit, x)\n",
    "y_predicted"
   ]
  },
  {
   "cell_type": "markdown",
   "metadata": {
    "colab_type": "text",
    "id": "l1esbFjvFi51"
   },
   "source": [
    "We can compute the residual for each sample by just subtracting one from the other."
   ]
  },
  {
   "cell_type": "code",
   "execution_count": 10,
   "metadata": {
    "colab": {},
    "colab_type": "code",
    "id": "UBA0qMyXFnG4"
   },
   "outputs": [
    {
     "data": {
      "text/plain": [
       "array([-0.2590706 , -0.04141633,  0.29014999,  0.03494758, -0.45036728,\n",
       "        0.13009945,  0.53980655, -0.5108743 ,  0.13057658,  0.34032097,\n",
       "        0.36786629, -0.24419152,  0.25689259, -0.49225808,  0.25288314,\n",
       "       -0.43982557, -0.04726571,  0.26335917, -0.39010114, -0.52536482,\n",
       "        0.21173986, -0.33713942,  0.10183902,  0.40682362, -0.23837613,\n",
       "       -0.31789408,  0.35166478, -0.00703113,  0.21094212,  0.41126442])"
      ]
     },
     "execution_count": 10,
     "metadata": {},
     "output_type": "execute_result"
    }
   ],
   "source": [
    "linear_fit_residual = y - y_predicted\n",
    "linear_fit_residual"
   ]
  },
  {
   "cell_type": "markdown",
   "metadata": {
    "colab_type": "text",
    "id": "XQ5mHlJRFUo3"
   },
   "source": [
    "Let's compute the RMSE, since that will give us a single value for our fit.\n",
    "\n",
    "We'll compute the \"root\" part of RMSE using ``np.sqrt``, the \"mean\" part of RMSE using ``np.mean``, and the \"square\" part of RMSE using ``np.square`` as follows."
   ]
  },
  {
   "cell_type": "code",
   "execution_count": 11,
   "metadata": {
    "colab": {},
    "colab_type": "code",
    "id": "9LDIS9InFQxA"
   },
   "outputs": [
    {
     "name": "stdout",
     "output_type": "stream",
     "text": [
      "Linear fit RMSE = 0.324000944852\n"
     ]
    }
   ],
   "source": [
    "linear_fit_rmse = np.sqrt(np.mean(np.square(linear_fit_residual)))\n",
    "print(\"Linear fit RMSE = \" + str(linear_fit_rmse))"
   ]
  },
  {
   "cell_type": "markdown",
   "metadata": {
    "colab_type": "text",
    "id": "BcIfCfWbGirO"
   },
   "source": [
    "### Plotting the fit\n",
    "\n",
    "A more intuitive way to look at a fit would be to plot it next to the data that we want to view.\n",
    "\n",
    "To do this, we will need to create data for the $x$ values line. Let's call this ``x_line``, and use [``np.arange``](https://docs.scipy.org/doc/numpy/reference/generated/numpy.arange.html) to set it to be taking 200 samples from ``x.min()`` to ``x.max()``."
   ]
  },
  {
   "cell_type": "code",
   "execution_count": 12,
   "metadata": {
    "colab": {},
    "colab_type": "code",
    "id": "XmFZdlaIF12W"
   },
   "outputs": [
    {
     "name": "stdout",
     "output_type": "stream",
     "text": [
      "[ 0.07818357  0.09314709  0.10811061  0.12307413  0.13803764  0.15300116\n",
      "  0.16796468  0.1829282   0.19789171  0.21285523  0.22781875  0.24278227\n",
      "  0.25774578  0.2727093   0.28767282  0.30263634  0.31759985  0.33256337\n",
      "  0.34752689  0.36249041  0.37745392  0.39241744  0.40738096  0.42234448\n",
      "  0.43730799  0.45227151  0.46723503  0.48219855  0.49716206  0.51212558\n",
      "  0.5270891   0.54205262  0.55701613  0.57197965  0.58694317  0.60190669\n",
      "  0.6168702   0.63183372  0.64679724  0.66176076  0.67672427  0.69168779\n",
      "  0.70665131  0.72161483  0.73657834  0.75154186  0.76650538  0.7814689\n",
      "  0.79643241  0.81139593  0.82635945  0.84132297  0.85628648  0.87125\n",
      "  0.88621352  0.90117704  0.91614055  0.93110407  0.94606759  0.9610311\n",
      "  0.97599462  0.99095814  1.00592166  1.02088517  1.03584869  1.05081221\n",
      "  1.06577573  1.08073924  1.09570276  1.11066628  1.1256298   1.14059331\n",
      "  1.15555683  1.17052035  1.18548387  1.20044738  1.2154109   1.23037442\n",
      "  1.24533794  1.26030145  1.27526497  1.29022849  1.30519201  1.32015552\n",
      "  1.33511904  1.35008256  1.36504608  1.38000959  1.39497311  1.40993663\n",
      "  1.42490015  1.43986366  1.45482718  1.4697907   1.48475422  1.49971773\n",
      "  1.51468125  1.52964477  1.54460829  1.5595718   1.57453532  1.58949884\n",
      "  1.60446236  1.61942587  1.63438939  1.64935291  1.66431643  1.67927994\n",
      "  1.69424346  1.70920698  1.7241705   1.73913401  1.75409753  1.76906105\n",
      "  1.78402457  1.79898808  1.8139516   1.82891512  1.84387864  1.85884215\n",
      "  1.87380567  1.88876919  1.90373271  1.91869622  1.93365974  1.94862326\n",
      "  1.96358678  1.97855029  1.99351381  2.00847733  2.02344085  2.03840436\n",
      "  2.05336788  2.0683314   2.08329491  2.09825843  2.11322195  2.12818547\n",
      "  2.14314898  2.1581125   2.17307602  2.18803954  2.20300305  2.21796657\n",
      "  2.23293009  2.24789361  2.26285712  2.27782064  2.29278416  2.30774768\n",
      "  2.32271119  2.33767471  2.35263823  2.36760175  2.38256526  2.39752878\n",
      "  2.4124923   2.42745582  2.44241933  2.45738285  2.47234637  2.48730989\n",
      "  2.5022734   2.51723692  2.53220044  2.54716396  2.56212747  2.57709099\n",
      "  2.59205451  2.60701803  2.62198154  2.63694506  2.65190858  2.6668721\n",
      "  2.68183561  2.69679913  2.71176265  2.72672617  2.74168968  2.7566532\n",
      "  2.77161672  2.78658024  2.80154375  2.81650727  2.83147079  2.84643431\n",
      "  2.86139782  2.87636134  2.89132486  2.90628838  2.92125189  2.93621541\n",
      "  2.95117893  2.96614245  2.98110596  2.99606948  3.011033    3.02599652\n",
      "  3.04096003  3.05592355]\n"
     ]
    }
   ],
   "source": [
    "x_line_step = (x.max() - x.min()) / 200\n",
    "x_line = np.arange(x.min(), x.max(), x_line_step)\n",
    "print(x_line)"
   ]
  },
  {
   "cell_type": "markdown",
   "metadata": {
    "colab_type": "text",
    "id": "VbPFOeDsH-67"
   },
   "source": [
    "Now we can plot the our data and the prediction together. We'll use ``np.polyval`` to evaluate ``linear_fit`` at ``x_line``."
   ]
  },
  {
   "cell_type": "code",
   "execution_count": 13,
   "metadata": {
    "colab": {},
    "colab_type": "code",
    "id": "BimG4K5xHSWG"
   },
   "outputs": [
    {
     "data": {
      "image/png": "[encoded data removed]",
      "text/plain": [
       "<Figure size 432x288 with 1 Axes>"
      ]
     },
     "metadata": {
      "needs_background": "light"
     },
     "output_type": "display_data"
    }
   ],
   "source": [
    "plt.scatter(x, y, label='Data')\n",
    "plt.plot(x_line, np.polyval(linear_fit, x_line), label='Linear Fit')\n",
    "plt.legend()\n",
    "plt.show()"
   ]
  },
  {
   "cell_type": "markdown",
   "metadata": {
    "colab_type": "text",
    "id": "6AiXXQ-9QvSe"
   },
   "source": [
    "Do you feel like this fit captures the underlying trend of the data? "
   ]
  },
  {
   "cell_type": "markdown",
   "metadata": {
    "colab_type": "text",
    "id": "rWem_b8DIYGp"
   },
   "source": [
    "## Quadratic fit\n",
    "\n",
    "The linear fit doesn't fit our data very well. So maybe we can do better if we try to fit a slightly more complicated model -- a quadratic polynomial. We can do this again with ``np.polyfit``, with the only difference being that we'll use ``deg=2``."
   ]
  },
  {
   "cell_type": "code",
   "execution_count": 14,
   "metadata": {
    "colab": {},
    "colab_type": "code",
    "id": "NJQXAKgJIPVY"
   },
   "outputs": [
    {
     "name": "stdout",
     "output_type": "stream",
     "text": [
      "y = \n",
      "         2\n",
      "-0.3951 x + 1.229 x + 0.003469\n"
     ]
    }
   ],
   "source": [
    "quadratic_fit = np.poly1d(np.polyfit(x, y, deg=2))\n",
    "print('y = ')\n",
    "print(quadratic_fit)"
   ]
  },
  {
   "cell_type": "markdown",
   "metadata": {
    "colab_type": "text",
    "id": "v-dNGGF2IzRS"
   },
   "source": [
    "This is a not-very-pretty display of our polynomial's equation. Let's see what the RMSE looks like.\n",
    "\n",
    "\n"
   ]
  },
  {
   "cell_type": "code",
   "execution_count": 15,
   "metadata": {
    "colab": {},
    "colab_type": "code",
    "id": "Z6Xdj183IwCV"
   },
   "outputs": [
    {
     "name": "stdout",
     "output_type": "stream",
     "text": [
      "Quadratic fit RMSE = 0.102788774203\n"
     ]
    }
   ],
   "source": [
    "quadratic_fit_residual = y - np.polyval(quadratic_fit, x)\n",
    "quadratic_fit_rmse = np.sqrt(np.mean(np.square(quadratic_fit_residual)))\n",
    "print(\"Quadratic fit RMSE = \" + str(quadratic_fit_rmse))"
   ]
  },
  {
   "cell_type": "markdown",
   "metadata": {
    "colab_type": "text",
    "id": "Uz-5OwOQJOg5"
   },
   "source": [
    "And let's remember our linear error from before."
   ]
  },
  {
   "cell_type": "code",
   "execution_count": 16,
   "metadata": {
    "colab": {},
    "colab_type": "code",
    "id": "aXBTmDeOJRjp"
   },
   "outputs": [
    {
     "name": "stdout",
     "output_type": "stream",
     "text": [
      "Linear fit RMSE = 0.324000944852\n"
     ]
    }
   ],
   "source": [
    "print(\"Linear fit RMSE = \" + str(linear_fit_rmse))"
   ]
  },
  {
   "cell_type": "markdown",
   "metadata": {
    "colab_type": "text",
    "id": "UDNerGRKJfCB"
   },
   "source": [
    "And let's take a look at the graph."
   ]
  },
  {
   "cell_type": "code",
   "execution_count": 17,
   "metadata": {
    "colab": {},
    "colab_type": "code",
    "id": "ettAXWHqJbdC"
   },
   "outputs": [
    {
     "data": {
      "image/png": "[encoded data removed]",
      "text/plain": [
       "<Figure size 432x288 with 1 Axes>"
      ]
     },
     "metadata": {
      "needs_background": "light"
     },
     "output_type": "display_data"
    }
   ],
   "source": [
    "plt.plot(x_line, np.polyval(quadratic_fit, x_line), label='Quadratic Fit')\n",
    "plt.scatter(x, y, label='Data')\n",
    "plt.legend()\n",
    "plt.show()"
   ]
  },
  {
   "cell_type": "markdown",
   "metadata": {
    "colab_type": "text",
    "id": "K0QBQvSGJwgt"
   },
   "source": [
    "That's great! If going from $x$ to $x^2$ was good, then maybe $x^3$ is better! Maybe $x^4$ is better!"
   ]
  },
  {
   "cell_type": "markdown",
   "metadata": {
    "colab_type": "text",
    "id": "W9ng3sx0LSKG"
   },
   "source": [
    "### Creating a function\n",
    "\n",
    "We'll be running the same code over and over and over again, so it'll be convenient to write a function to do it for us. Let's write the function ``FitPolynomial``, which will have ``P`` be the degree of our polynomial to fit."
   ]
  },
  {
   "cell_type": "code",
   "execution_count": 18,
   "metadata": {
    "colab": {},
    "colab_type": "code",
    "collapsed": true,
    "id": "NSM-JY9vLfHE"
   },
   "outputs": [],
   "source": [
    "def FitPolynomial(P):\n",
    "  # Compute and print the polynomial fit!\n",
    "  degree_P_fit = np.poly1d(np.polyfit(x, y, deg=P))\n",
    "  print('y = ')\n",
    "  print(degree_P_fit)\n",
    "  # Compute and print the RMSE\n",
    "  degree_P_fit_residual = y - np.polyval(degree_P_fit, x)\n",
    "  degree_P_fit_rmse = np.sqrt(np.mean(np.square(degree_P_fit_residual)))\n",
    "  print(str(P) + 'th degree fit RMSE = ' + str(degree_P_fit_rmse))\n",
    "  # Plot the fit\n",
    "  plt.plot(x_line, np.polyval(degree_P_fit, x_line), label=str(P) + 'th Degree Fit')\n",
    "  plt.scatter(x, y, label='Data')\n",
    "  # Use the function plt.ylim to ensure that we see the same y axis for every\n",
    "  # (we'll see why shortly)\n",
    "  plt.ylim([y.min(), y.max()])\n",
    "  plt.legend()\n",
    "  plt.show()"
   ]
  },
  {
   "cell_type": "markdown",
   "metadata": {
    "colab_type": "text",
    "id": "RO2Xk-wsL7uU"
   },
   "source": [
    "## Cubic fit"
   ]
  },
  {
   "cell_type": "code",
   "execution_count": 19,
   "metadata": {
    "colab": {},
    "colab_type": "code",
    "id": "b2JvoVuQJtlI"
   },
   "outputs": [
    {
     "name": "stdout",
     "output_type": "stream",
     "text": [
      "y = \n",
      "         3          2\n",
      "0.05719 x - 0.6673 x + 1.571 x - 0.08152\n",
      "3th degree fit RMSE = 0.0980390575095\n"
     ]
    },
    {
     "data": {
      "image/png": "[encoded data removed]",
      "text/plain": [
       "<Figure size 432x288 with 1 Axes>"
      ]
     },
     "metadata": {
      "needs_background": "light"
     },
     "output_type": "display_data"
    }
   ],
   "source": [
    "FitPolynomial(3)"
   ]
  },
  {
   "cell_type": "markdown",
   "metadata": {
    "colab_type": "text",
    "id": "crSLhXSPLP1M"
   },
   "source": [
    "## 4th degree fit"
   ]
  },
  {
   "cell_type": "code",
   "execution_count": 20,
   "metadata": {
    "colab": {},
    "colab_type": "code",
    "id": "ZlFXtuyNKLl-"
   },
   "outputs": [
    {
     "name": "stdout",
     "output_type": "stream",
     "text": [
      "y = \n",
      "         4          3          2\n",
      "0.08514 x - 0.4812 x + 0.4359 x + 0.7761 x + 0.04794\n",
      "4th degree fit RMSE = 0.0914895931649\n"
     ]
    },
    {
     "data": {
      "image/png": "[encoded data removed]",
      "text/plain": [
       "<Figure size 432x288 with 1 Axes>"
      ]
     },
     "metadata": {
      "needs_background": "light"
     },
     "output_type": "display_data"
    }
   ],
   "source": [
    "FitPolynomial(4)"
   ]
  },
  {
   "cell_type": "markdown",
   "metadata": {
    "colab_type": "text",
    "id": "pq05AEiXMO1C"
   },
   "source": [
    "## 6th degree fit"
   ]
  },
  {
   "cell_type": "code",
   "execution_count": 21,
   "metadata": {
    "colab": {},
    "colab_type": "code",
    "id": "-Pm-ppdFMEhT"
   },
   "outputs": [
    {
     "name": "stdout",
     "output_type": "stream",
     "text": [
      "y = \n",
      "         6          5         4         3         2\n",
      "0.04937 x - 0.4542 x + 1.672 x - 3.099 x + 2.492 x + 0.1052 x + 0.1093\n",
      "6th degree fit RMSE = 0.0904226204391\n"
     ]
    },
    {
     "data": {
      "image/png": "[encoded data removed]",
      "text/plain": [
       "<Figure size 432x288 with 1 Axes>"
      ]
     },
     "metadata": {
      "needs_background": "light"
     },
     "output_type": "display_data"
    }
   ],
   "source": [
    "FitPolynomial(6)"
   ]
  },
  {
   "cell_type": "markdown",
   "metadata": {
    "colab_type": "text",
    "id": "MH0DVFIlMTje"
   },
   "source": [
    "## 9th degree fit"
   ]
  },
  {
   "cell_type": "code",
   "execution_count": 22,
   "metadata": {
    "colab": {},
    "colab_type": "code",
    "id": "kHJeJYmxMGEK"
   },
   "outputs": [
    {
     "name": "stdout",
     "output_type": "stream",
     "text": [
      "y = \n",
      "          9          8          7          6         5         4\n",
      "-0.03745 x + 0.3441 x - 0.8893 x - 0.9164 x + 8.778 x - 17.13 x\n",
      "          3         2\n",
      " + 14.38 x - 5.058 x + 1.381 x + 0.05088\n",
      "9th degree fit RMSE = 0.0856187231447\n"
     ]
    },
    {
     "data": {
      "image/png": "[encoded data removed]",
      "text/plain": [
       "<Figure size 432x288 with 1 Axes>"
      ]
     },
     "metadata": {
      "needs_background": "light"
     },
     "output_type": "display_data"
    }
   ],
   "source": [
    "FitPolynomial(9)"
   ]
  },
  {
   "cell_type": "markdown",
   "metadata": {
    "colab_type": "text",
    "id": "Qk70jYjVMhp3"
   },
   "source": [
    "## 12th degree fit"
   ]
  },
  {
   "cell_type": "code",
   "execution_count": 23,
   "metadata": {
    "colab": {},
    "colab_type": "code",
    "id": "0T85SdGkMGqp"
   },
   "outputs": [
    {
     "name": "stdout",
     "output_type": "stream",
     "text": [
      "y = \n",
      "        12         11         10       9        8        7        6\n",
      "0.8077 x  - 15.31 x  + 127.5 x  - 614 x + 1891 x - 3894 x + 5437 x\n",
      "         5        4        3         2\n",
      " - 5116 x + 3165 x - 1226 x + 274.7 x - 29.98 x + 1.279\n",
      "12th degree fit RMSE = 0.0817045583697\n"
     ]
    },
    {
     "data": {
      "image/png": "[encoded data removed]",
      "text/plain": [
       "<Figure size 432x288 with 1 Axes>"
      ]
     },
     "metadata": {
      "needs_background": "light"
     },
     "output_type": "display_data"
    }
   ],
   "source": [
    "FitPolynomial(12)"
   ]
  },
  {
   "cell_type": "markdown",
   "metadata": {
    "colab_type": "text",
    "id": "LDCohvBnMqYM"
   },
   "source": [
    "What about this fit? Does it still look good to you?"
   ]
  },
  {
   "cell_type": "markdown",
   "metadata": {
    "colab_type": "text",
    "id": "hxkAGf05Mqe7"
   },
   "source": [
    "## 16th degree fit"
   ]
  },
  {
   "cell_type": "code",
   "execution_count": 24,
   "metadata": {
    "colab": {},
    "colab_type": "code",
    "id": "ubAziVL2MnYe"
   },
   "outputs": [
    {
     "name": "stdout",
     "output_type": "stream",
     "text": [
      "y = \n",
      "       16         15         14        13             12             11\n",
      "2.016 x  - 51.97 x  + 610.1 x  - 4321 x  + 2.061e+04 x  - 6.997e+04 x \n",
      "              10             9             8             7\n",
      " + 1.745e+05 x  - 3.247e+05 x + 4.543e+05 x - 4.772e+05 x\n",
      "              6             5             4             3        2\n",
      " + 3.732e+05 x - 2.134e+05 x + 8.667e+04 x - 2.382e+04 x + 4083 x - 375.6 x + 13.24\n",
      "16th degree fit RMSE = 0.0747945336178\n"
     ]
    },
    {
     "data": {
      "image/png": "[encoded data removed]",
      "text/plain": [
       "<Figure size 432x288 with 1 Axes>"
      ]
     },
     "metadata": {
      "needs_background": "light"
     },
     "output_type": "display_data"
    }
   ],
   "source": [
    "FitPolynomial(16)"
   ]
  },
  {
   "cell_type": "markdown",
   "metadata": {
    "colab_type": "text",
    "id": "ZC0jitNbMppg"
   },
   "source": [
    "## Finding the Best Hyperparameter\n",
    "\n",
    "But our RMSE has kept going down!\n",
    "\n",
    "Let's plot polynomial degree on the X axis versus RMSE on the Y axis all the way through from degree 0 (a constant) through a degree 16 polynomial."
   ]
  },
  {
   "cell_type": "code",
   "execution_count": 25,
   "metadata": {
    "colab": {},
    "colab_type": "code",
    "id": "wRhaItNfPEs5"
   },
   "outputs": [
    {
     "data": {
      "image/png": "[encoded data removed]",
      "text/plain": [
       "<Figure size 432x288 with 1 Axes>"
      ]
     },
     "metadata": {
      "needs_background": "light"
     },
     "output_type": "display_data"
    }
   ],
   "source": [
    "# This is going to be our X data. Let's call it degrees and set it to all of\n",
    "# the degrees we will check, from 0 through 16.\n",
    "degrees = np.arange(17)\n",
    "\n",
    "# This is going to be our Y data. It will be the RMSE for each degree. We don't\n",
    "# know the values yet (we will compute them), so let's initialize it to zero.\n",
    "rmse_for_degree = np.zeros(17)\n",
    "\n",
    "# And for each degree, let's compute the RMSE\n",
    "for P in degrees:\n",
    "  degree_P_fit = np.poly1d(np.polyfit(x, y, deg=P))\n",
    "  residual = y - np.polyval(degree_P_fit, x)\n",
    "  rmse = np.sqrt(np.mean(np.square(residual)))\n",
    "  # Save the RMSE in our Y data\n",
    "  rmse_for_degree[P] = rmse\n",
    "\n",
    "# And let's plot the results.\n",
    "plt.plot(degrees, rmse_for_degree)\n",
    "plt.xlabel('Polynomial degree')\n",
    "plt.ylabel('RMSE')\n",
    "plt.show()"
   ]
  },
  {
   "cell_type": "markdown",
   "metadata": {
    "colab_type": "text",
    "id": "dfpo5tpPRPwf"
   },
   "source": [
    "Our original goal was to find the best hyperparameter (the polynomial degree that is the best fit for our data), but it's not clear from this graph what that is!"
   ]
  },
  {
   "cell_type": "markdown",
   "metadata": {
    "colab_type": "text",
    "id": "SZJjQOIXRm9h"
   },
   "source": [
    "# Training/Test Split\n",
    "\n",
    "In this section, we'll split our data into two sets -- one for testing and one for training. We'll tune our hyperparameter by evaluating how a model trained on the training set performs on the testing set."
   ]
  },
  {
   "cell_type": "markdown",
   "metadata": {
    "colab_type": "text",
    "id": "F4tcY8I1ZCEh"
   },
   "source": [
    "## Splitting the data\n",
    "\n",
    "Here we produce a set of indices for training and testing. We do this by using the [``sklearn.model_selection.train_test_split``](https://scikit-learn.org/stable/modules/generated/sklearn.model_selection.train_test_split.html) function.\n",
    "\n",
    "We'll split the indices evently using the ``test_size`` parameter. The ``random_state`` parameter sets the random seed for the operation."
   ]
  },
  {
   "cell_type": "code",
   "execution_count": 26,
   "metadata": {
    "colab": {},
    "colab_type": "code",
    "id": "7P9--_uaQJB8"
   },
   "outputs": [
    {
     "name": "stdout",
     "output_type": "stream",
     "text": [
      "Training set indices:\n",
      "[18 13  7 27  1 16  0 15 29 28  9  8 12 11  5]\n",
      "Test set indices:\n",
      "[17 21 10 19 14 20 26  3 24 22 23  4  2 25  6]\n"
     ]
    }
   ],
   "source": [
    "train, test = sklearn.model_selection.train_test_split(\n",
    "    np.arange(n), test_size=0.5, random_state=1)\n",
    "print('Training set indices:')\n",
    "print(train)\n",
    "print('Test set indices:')\n",
    "print(test)"
   ]
  },
  {
   "cell_type": "markdown",
   "metadata": {
    "colab_type": "text",
    "id": "SWsSM-zSZyFm"
   },
   "source": [
    "Let's visualize the split by plotting the training and the testing data in different colors."
   ]
  },
  {
   "cell_type": "code",
   "execution_count": 27,
   "metadata": {
    "colab": {},
    "colab_type": "code",
    "id": "yQ0UbjW2SUD3"
   },
   "outputs": [
    {
     "data": {
      "image/png": "[encoded data removed]",
      "text/plain": [
       "<Figure size 432x288 with 1 Axes>"
      ]
     },
     "metadata": {
      "needs_background": "light"
     },
     "output_type": "display_data"
    }
   ],
   "source": [
    "plt.scatter(x[train], y[train], label='Train', c='b')\n",
    "plt.scatter(x[test], y[test], label='Test', c='r')\n",
    "plt.legend()\n",
    "plt.show()"
   ]
  },
  {
   "cell_type": "markdown",
   "metadata": {
    "colab_type": "text",
    "id": "x7GGbGDaZ-o0"
   },
   "source": [
    "## Linear fit\n",
    "\n",
    "Now let's compute a linear (``deg=1``) fit on the training data, and look at its plot."
   ]
  },
  {
   "cell_type": "code",
   "execution_count": 28,
   "metadata": {
    "colab": {},
    "colab_type": "code",
    "id": "rgewKKK4Sqwd"
   },
   "outputs": [
    {
     "data": {
      "image/png": "[encoded data removed]",
      "text/plain": [
       "<Figure size 432x288 with 1 Axes>"
      ]
     },
     "metadata": {
      "needs_background": "light"
     },
     "output_type": "display_data"
    }
   ],
   "source": [
    "# Compute our linear fit (using p as our variable, for brevity)\n",
    "p = np.poly1d(np.polyfit(x[train], y[train], deg=1))\n",
    "# Plot the fit\n",
    "plt.scatter(x[train], y[train], label='Train', c='b')\n",
    "plt.scatter(x[test], y[test], label='Test', c='r')\n",
    "plt.plot(x_line, np.polyval(p, x_line), label='Linear Fit', c='b')\n",
    "plt.legend()\n",
    "plt.show()"
   ]
  },
  {
   "cell_type": "markdown",
   "metadata": {
    "colab_type": "text",
    "id": "djn4uBS2aWbE"
   },
   "source": [
    "Let's compute the RMSE for this model on the training data and the testing data."
   ]
  },
  {
   "cell_type": "code",
   "execution_count": 29,
   "metadata": {
    "colab": {},
    "colab_type": "code",
    "id": "IXguD7oNVaYF"
   },
   "outputs": [
    {
     "name": "stdout",
     "output_type": "stream",
     "text": [
      "RMSE training data = 0.299292451915\n",
      "RMSE testing data = 0.358861105553\n"
     ]
    }
   ],
   "source": [
    "train_residual = y[train] - np.polyval(p, x[train])\n",
    "train_rmse = np.sqrt(np.mean(np.square(train_residual)))\n",
    "print(\"RMSE training data = \" + str(train_rmse))\n",
    "test_residual = y[test] - np.polyval(p, x[test])\n",
    "test_rmse = np.sqrt(np.mean(np.square(test_residual)))\n",
    "print(\"RMSE testing data = \" + str(test_rmse))"
   ]
  },
  {
   "cell_type": "markdown",
   "metadata": {
    "colab_type": "text",
    "id": "rP-4wrLUDlal"
   },
   "source": [
    "## Creating a function\n",
    "\n",
    "As before, we're going to take a look at how this performs for many different polynomial degrees. Let's create a function to do the repetetive work for us."
   ]
  },
  {
   "cell_type": "code",
   "execution_count": 30,
   "metadata": {
    "colab": {},
    "colab_type": "code",
    "collapsed": true,
    "id": "Z45bq7HnD25U"
   },
   "outputs": [],
   "source": [
    "def FitPolynomailToTrainTestSplit(P):\n",
    "  # Compute our polynomial fit\n",
    "  degree_P_fit = np.poly1d(np.polyfit(x[train], y[train], deg=P))\n",
    "  \n",
    "  # Plot the fit\n",
    "  plt.scatter(x[train], y[train], label='Train', c='b')\n",
    "  plt.scatter(x[test], y[test], label='Test', c='r')\n",
    "  plt.plot(x_line, np.polyval(degree_P_fit, x_line),\n",
    "           label='Degree ' + str(P) + ' Fit', c='b')\n",
    "  plt.legend()\n",
    "  plt.show()\n",
    "  \n",
    "  # Compute and print the RMSE\n",
    "  train_residual = y[train] - np.polyval(degree_P_fit, x[train])\n",
    "  train_rmse = np.sqrt(np.mean(np.square(train_residual)))\n",
    "  print(\"RMSE training data = \" + str(train_rmse))\n",
    "  test_residual = y[test] - np.polyval(degree_P_fit, x[test])\n",
    "  test_rmse = np.sqrt(np.mean(np.square(test_residual)))\n",
    "  print(\"RMSE testing data = \" + str(test_rmse))"
   ]
  },
  {
   "cell_type": "markdown",
   "metadata": {
    "colab_type": "text",
    "id": "ce7szo3val3J"
   },
   "source": [
    "## Quadratic fit\n",
    "\n",
    "Let's run the same code as before, now with ``deg=2``."
   ]
  },
  {
   "cell_type": "code",
   "execution_count": 31,
   "metadata": {
    "colab": {},
    "colab_type": "code",
    "id": "lKVuUNE5X5Wf"
   },
   "outputs": [
    {
     "data": {
      "image/png": "[encoded data removed]",
      "text/plain": [
       "<Figure size 432x288 with 1 Axes>"
      ]
     },
     "metadata": {
      "needs_background": "light"
     },
     "output_type": "display_data"
    },
    {
     "name": "stdout",
     "output_type": "stream",
     "text": [
      "RMSE training data = 0.085122865579\n",
      "RMSE testing data = 0.142292234797\n"
     ]
    }
   ],
   "source": [
    "FitPolynomailToTrainTestSplit(2)"
   ]
  },
  {
   "cell_type": "markdown",
   "metadata": {
    "colab_type": "text",
    "id": "mNjGP2S1bgKs"
   },
   "source": [
    "Indeed the RMSE is going down like before, for both the training and testing sets."
   ]
  },
  {
   "cell_type": "markdown",
   "metadata": {
    "colab_type": "text",
    "id": "EKD5xflYbWyS"
   },
   "source": [
    "## 8th degree fit\n",
    "\n",
    "Let's do the same thing, now with a 8th degree polynomial."
   ]
  },
  {
   "cell_type": "code",
   "execution_count": 32,
   "metadata": {
    "colab": {},
    "colab_type": "code",
    "id": "Ht68napdbxbd"
   },
   "outputs": [
    {
     "data": {
      "image/png": "[encoded data removed]",
      "text/plain": [
       "<Figure size 432x288 with 1 Axes>"
      ]
     },
     "metadata": {
      "needs_background": "light"
     },
     "output_type": "display_data"
    },
    {
     "name": "stdout",
     "output_type": "stream",
     "text": [
      "RMSE training data = 0.0629294062077\n",
      "RMSE testing data = 0.484638990204\n"
     ]
    }
   ],
   "source": [
    "FitPolynomailToTrainTestSplit(8)"
   ]
  },
  {
   "cell_type": "markdown",
   "metadata": {
    "colab_type": "text",
    "id": "9ABBI7QuciUr"
   },
   "source": [
    "Something interesting has happened here! Our training data's error is going down, but our testing data has spiked up!\n",
    "\n",
    "And if we look at our plot, the line fits the blue dots well, but is missing the red dots by a lot!"
   ]
  },
  {
   "cell_type": "markdown",
   "metadata": {
    "colab_type": "text",
    "id": "GCAMHwTlcwoC"
   },
   "source": [
    "## Finding the Best Hyperparameter (again!)\n",
    "\n",
    "Let's plot the training and testing RMSE as a function of the degree of our fit, just like we did before"
   ]
  },
  {
   "cell_type": "code",
   "execution_count": 33,
   "metadata": {
    "colab": {},
    "colab_type": "code",
    "id": "mlUyII6nb1fI"
   },
   "outputs": [
    {
     "data": {
      "image/png": "[encoded data removed]",
      "text/plain": [
       "<Figure size 432x288 with 1 Axes>"
      ]
     },
     "metadata": {
      "needs_background": "light"
     },
     "output_type": "display_data"
    }
   ],
   "source": [
    "# This is going to be our X data. Like last time, it's the degrees we'll test,\n",
    "# this time 0 through 12.\n",
    "degrees = np.arange(13)\n",
    "\n",
    "# This is going to be our Y data. We have two plots now, the RMSE for training\n",
    "# data and RMSE for test data.\n",
    "train_rmse_for_degree = np.zeros(len(degrees))\n",
    "test_rmse_for_degree = np.zeros(len(degrees))\n",
    "\n",
    "# And for each degree, let's compute the RMSE\n",
    "for P in degrees:\n",
    "  # Compute our fit\n",
    "  degree_P_fit = np.poly1d(np.polyfit(x[train], y[train], deg=P))\n",
    "\n",
    "  # Compute our residual and RMSE for training and testing\n",
    "  train_residual = y[train] - np.polyval(degree_P_fit, x[train])\n",
    "  train_rmse = np.sqrt(np.mean(np.square(train_residual)))\n",
    "  test_residual = y[test] - np.polyval(degree_P_fit, x[test])\n",
    "  test_rmse = np.sqrt(np.mean(np.square(test_residual)))\n",
    "  \n",
    "  # Save the RMSE in our Y axis data\n",
    "  train_rmse_for_degree[P] = train_rmse\n",
    "  test_rmse_for_degree[P] = test_rmse\n",
    "\n",
    "  # And let's plot the results.\n",
    "plt.plot(degrees, train_rmse_for_degree, c='b', label='Train')\n",
    "plt.plot(degrees, test_rmse_for_degree, c='r', label='Test')\n",
    "plt.xlabel('Polynomial degree')\n",
    "plt.ylabel('RMSE')\n",
    "plt.ylim([0, 1])\n",
    "plt.legend()\n",
    "plt.show()"
   ]
  },
  {
   "cell_type": "markdown",
   "metadata": {
    "colab_type": "text",
    "id": "dVaai6-OdwdA"
   },
   "source": [
    "This gives us a clearer picture of what range of hyperparameters may be best for this data."
   ]
  },
  {
   "cell_type": "markdown",
   "metadata": {
    "colab_type": "text",
    "id": "PVn-akRgjznn"
   },
   "source": [
    "# k-Fold Cross-Validation\n",
    "\n",
    "In the above example, we dividied our data at random into 2 sets -- one for training and one for testing.\n",
    "\n",
    "For cross-validation, the training data is divided into folds, each of which is treated as its own validation data set, using all of the other training data as its training data set.\n",
    "\n",
    "We can use the [``sklearn.model_selection.KFold``](https://scikit-learn.org/stable/modules/generated/sklearn.model_selection.KFold.html) function to generate mutliple folds for testing.\n",
    "\n",
    "In this example, let's do 4-Fold Cross-Validation"
   ]
  },
  {
   "cell_type": "markdown",
   "metadata": {
    "colab_type": "text",
    "id": "6fNJYciOsST0"
   },
   "source": [
    "## Visualizing the split\n",
    "\n",
    "Let's print out the 4 different sets of test and training indices that we'll use. For each fold, the training indices are everything not being used for testing."
   ]
  },
  {
   "cell_type": "code",
   "execution_count": 34,
   "metadata": {
    "colab": {},
    "colab_type": "code",
    "id": "4A3fqUbaqjzv"
   },
   "outputs": [
    {
     "name": "stdout",
     "output_type": "stream",
     "text": [
      "Fold 0 validation indices: \n",
      "[ 7 16 29  9]\n",
      "Fold 0 training indices: \n",
      "[18 13 27  1  0 15 28  8 12 11  5]\n",
      "\n",
      "Fold 1 validation indices: \n",
      "[18 13 12  5]\n",
      "Fold 1 training indices: \n",
      "[ 7 27  1 16  0 15 29 28  9  8 11]\n",
      "\n",
      "Fold 2 validation indices: \n",
      "[27 15  8 11]\n",
      "Fold 2 training indices: \n",
      "[18 13  7  1 16  0 29 28  9 12  5]\n",
      "\n",
      "Fold 3 validation indices: \n",
      "[ 1  0 28]\n",
      "Fold 3 training indices: \n",
      "[18 13  7 27 16 15 29  9  8 12 11  5]\n",
      "\n"
     ]
    },
    {
     "data": {
      "image/png": "[encoded data removed]",
      "text/plain": [
       "<Figure size 432x288 with 1 Axes>"
      ]
     },
     "metadata": {
      "needs_background": "light"
     },
     "output_type": "display_data"
    }
   ],
   "source": [
    "# kf is what we will use to iterate over our splits\n",
    "n_folds = 4\n",
    "kf_xval = sklearn.model_selection.KFold(n_splits=n_folds, shuffle=True, random_state=7)\n",
    "\n",
    "# We'll want to label each fold as 0, 1, 2, 3 while we print the data, so use\n",
    "# fold_index for that\n",
    "fold_index = 0\n",
    "for fold_train_index, fold_valid_index in kf_xval.split(train):\n",
    "  # fold_train_index, fold_valid_index are the indices from 0 through 15.\n",
    "  # Convert them to indices in our training data.\n",
    "  fold_train = train[fold_train_index]\n",
    "  fold_valid = train[fold_valid_index]\n",
    "\n",
    "  # Plot the fold's valiation data points\n",
    "  plt.scatter(x[fold_valid], y[fold_valid], label='Fold ' + str(fold_index))\n",
    "\n",
    "  # Print the indices that we'll use for training and validation for this\n",
    "  # fold.\n",
    "  print('Fold ' + str(fold_index) + ' validation indices: ')\n",
    "  print(fold_valid)\n",
    "  print('Fold ' + str(fold_index) + ' training indices: ')\n",
    "  print(fold_train)\n",
    "  print('')\n",
    "\n",
    "  # Increment our fold index.\n",
    "  fold_index += 1\n",
    "\n",
    "# Show the plot\n",
    "plt.legend()\n",
    "plt.show()"
   ]
  },
  {
   "cell_type": "markdown",
   "metadata": {
    "colab_type": "text",
    "id": "TegLJl9bsjWI"
   },
   "source": [
    "## Finding the best Hyperparameter (again again!)\n",
    "\n",
    "In the code below, we try all of our different degree fits on the above sets, and we plot the resulting error for each.\n",
    "\n",
    "Our X axis is polynomial degree. On the Y axis we'll have the mean training fit and the mean validation fit."
   ]
  },
  {
   "cell_type": "code",
   "execution_count": 35,
   "metadata": {
    "colab": {},
    "colab_type": "code",
    "id": "Vx5u0KnWdaD3"
   },
   "outputs": [
    {
     "data": {
      "image/png": "[encoded data removed]",
      "text/plain": [
       "<Figure size 432x288 with 1 Axes>"
      ]
     },
     "metadata": {
      "needs_background": "light"
     },
     "output_type": "display_data"
    }
   ],
   "source": [
    "# This is going to be our X data. Like last time, it's the degrees we'll test.\n",
    "degrees = np.arange(11)\n",
    "\n",
    "# This is going to be our Y data. We have two plots now, the RMSE for training\n",
    "# data and RMSE for test data. Because we need to take the mean of the RMSE for\n",
    "# all folds, we'll create a matrix with entries for each degree and each fold.\n",
    "train_rmse_for_degree = np.zeros([len(degrees), n_folds])\n",
    "valid_rmse_for_degree = np.zeros([len(degrees), n_folds])\n",
    "\n",
    "# We'll use fold_index to keep track of which fold we're on, so we know which\n",
    "# entry to save it in.\n",
    "fold_index = 0\n",
    "\n",
    "# Iterate over every training/validation split\n",
    "for fold_train_index, fold_valid_index in kf_xval.split(train):\n",
    "  # Get the indices for this fold's training and validation from the\n",
    "  # larger training set.\n",
    "  fold_train = train[fold_train_index]\n",
    "  fold_valid = train[fold_valid_index]\n",
    "\n",
    "  # Iterate over every polynomial degree P (this is now exactly like before)\n",
    "  for P in degrees:\n",
    "    # Fit the degree P polynomial using the fold's training data\n",
    "    degree_P_fit = np.poly1d(np.polyfit(x[fold_train], y[fold_train], deg=P))\n",
    "\n",
    "    # Compute the residual and RMSE for training and validation\n",
    "    train_residual = y[fold_train] - np.polyval(degree_P_fit, x[fold_train])\n",
    "    valid_residual = y[fold_valid] - np.polyval(degree_P_fit, x[fold_valid])\n",
    "    train_rmse = np.sqrt(np.mean(np.square(train_residual)))\n",
    "    valid_rmse = np.sqrt(np.mean(np.square(valid_residual)))\n",
    "    \n",
    "    # Save the RMSE\n",
    "    train_rmse_for_degree[P, fold_index] = train_rmse\n",
    "    valid_rmse_for_degree[P, fold_index] = valid_rmse\n",
    "\n",
    "  # Increment the index for the fold we're on.\n",
    "  fold_index += 1\n",
    "\n",
    "# Now let's get the mean training and validation RMSE across all folds\n",
    "mean_train_rmse_for_degree = np.mean(train_rmse_for_degree,1)\n",
    "mean_valid_rmse_for_degree = np.mean(valid_rmse_for_degree,1)\n",
    "  \n",
    "# And let's plot them!\n",
    "plt.plot(degrees, mean_train_rmse_for_degree, label='Mean Training RMSE')\n",
    "plt.plot(degrees, mean_valid_rmse_for_degree, label='Mean Validation RMSE')\n",
    "plt.xlabel('Polynomial degree')\n",
    "plt.ylabel('RMSE')\n",
    "plt.ylim([0, 0.5])\n",
    "plt.legend()\n",
    "plt.show()"
   ]
  },
  {
   "cell_type": "markdown",
   "metadata": {
    "colab_type": "text",
    "id": "NcZeDBFpQeo7"
   },
   "source": [
    "## Evaluating the model on the test data\n",
    "\n",
    "From the above plot, a degree $P=2$ fit is the best hyperparameter selection. Let's now train our model on all training data using that hyperparameter, and evaluate it on the test set.\n",
    "\n"
   ]
  },
  {
   "cell_type": "code",
   "execution_count": 36,
   "metadata": {
    "colab": {},
    "colab_type": "code",
    "id": "2ARLN-peQx_2"
   },
   "outputs": [
    {
     "name": "stdout",
     "output_type": "stream",
     "text": [
      "P=2 Test RMSE = 0.142292234797\n"
     ]
    }
   ],
   "source": [
    "best_P = 2\n",
    "best_P_fit = np.poly1d(np.polyfit(x[train], y[train], deg=best_P))\n",
    "\n",
    "best_P_test_residual = y[test] - np.polyval(best_P_fit, x[test])\n",
    "best_P_test_rmse = np.sqrt(np.mean(np.square(best_P_test_residual)))\n",
    "\n",
    "print('P=2 Test RMSE = ' + str(best_P_test_rmse))"
   ]
  },
  {
   "cell_type": "code",
   "execution_count": 37,
   "metadata": {
    "colab": {},
    "colab_type": "code",
    "id": "aDZCrLJdROdh"
   },
   "outputs": [
    {
     "data": {
      "image/png": "[encoded data removed]",
      "text/plain": [
       "<Figure size 432x288 with 1 Axes>"
      ]
     },
     "metadata": {
      "needs_background": "light"
     },
     "output_type": "display_data"
    }
   ],
   "source": [
    "# And let's everything together!\n",
    "plt.plot(degrees, mean_train_rmse_for_degree, label='Mean Training RMSE')\n",
    "plt.plot(degrees, mean_valid_rmse_for_degree, label='Mean Validation RMSE')\n",
    "plt.scatter([best_P], [best_P_test_rmse], label='Test RMSE', c='r')\n",
    "plt.xlabel('Polynomial degree')\n",
    "plt.ylabel('RMSE')\n",
    "plt.ylim([0, 0.5])\n",
    "plt.legend()\n",
    "plt.show()"
   ]
  },
  {
   "cell_type": "markdown",
   "metadata": {
    "colab_type": "text",
    "id": "hFqV286s_DOa"
   },
   "source": [
    "# Leave-one-out cross validation\n",
    "\n",
    "Try modifying the $k-$fold cross validation example above to use a [``LeaveOneOut``](https://scikit-learn.org/stable/modules/generated/sklearn.model_selection.LeaveOneOut.html) cross-validator instead."
   ]
  },
  {
   "cell_type": "code",
   "execution_count": 38,
   "metadata": {
    "colab": {},
    "colab_type": "code",
    "collapsed": true,
    "id": "tTj6395x_GKH"
   },
   "outputs": [],
   "source": [
    "# We used kf_xval before. Let's use xf_loocv\n",
    "loo_xval = sklearn.model_selection.LeaveOneOut()\n",
    "\n",
    "# the number of folds we'll have now is the length of the training data.\n",
    "n_folds = len(train)\n",
    "\n",
    "# Copy-pase what we did for k-fold cross validation here, now using loo_xval\n",
    "# instead of kf_xval. How does it compare?"
   ]
  },
  {
   "cell_type": "code",
   "execution_count": 39,
   "metadata": {},
   "outputs": [
    {
     "data": {
      "image/png": "[encoded data removed]",
      "text/plain": [
       "<Figure size 432x288 with 1 Axes>"
      ]
     },
     "metadata": {
      "needs_background": "light"
     },
     "output_type": "display_data"
    }
   ],
   "source": [
    "# This is going to be our X data. Like last time, it's the degrees we'll test.\n",
    "degrees = np.arange(11)\n",
    "\n",
    "# This is going to be our Y data. We have two plots now, the RMSE for training\n",
    "# data and RMSE for test data. Because we need to take the mean of the RMSE for\n",
    "# all folds, we'll create a matrix with entries for each degree and each fold.\n",
    "train_rmse_for_degree = np.zeros([len(degrees), n_folds])\n",
    "valid_rmse_for_degree = np.zeros([len(degrees), n_folds])\n",
    "\n",
    "# We'll use fold_index to keep track of which fold we're on, so we know which\n",
    "# entry to save it in.\n",
    "fold_index = 0\n",
    "\n",
    "# Iterate over every training/validation split\n",
    "for fold_train_index, fold_valid_index in loo_xval.split(train):\n",
    "  # Get the indices for this fold's training and validation from the\n",
    "  # larger training set.\n",
    "  fold_train = train[fold_train_index]\n",
    "  fold_valid = train[fold_valid_index]\n",
    "\n",
    "  # Iterate over every polynomial degree P (this is now exactly like before)\n",
    "  for P in degrees:\n",
    "    # Fit the degree P polynomial using the fold's training data\n",
    "    degree_P_fit = np.poly1d(np.polyfit(x[fold_train], y[fold_train], deg=P))\n",
    "\n",
    "    # Compute the residual and RMSE for training and validation\n",
    "    train_residual = y[fold_train] - np.polyval(degree_P_fit, x[fold_train])\n",
    "    valid_residual = y[fold_valid] - np.polyval(degree_P_fit, x[fold_valid])\n",
    "    train_rmse = np.sqrt(np.mean(np.square(train_residual)))\n",
    "    valid_rmse = np.sqrt(np.mean(np.square(valid_residual)))\n",
    "    \n",
    "    # Save the RMSE\n",
    "    train_rmse_for_degree[P, fold_index] = train_rmse\n",
    "    valid_rmse_for_degree[P, fold_index] = valid_rmse\n",
    "\n",
    "  # Increment the index for the fold we're on.\n",
    "  fold_index += 1\n",
    "\n",
    "# Now let's get the mean training and validation RMSE across all folds\n",
    "mean_train_rmse_for_degree = np.mean(train_rmse_for_degree,1)\n",
    "mean_valid_rmse_for_degree = np.mean(valid_rmse_for_degree,1)\n",
    "  \n",
    "# And let's plot them!\n",
    "plt.plot(degrees, mean_train_rmse_for_degree, label='Mean Training RMSE')\n",
    "plt.plot(degrees, mean_valid_rmse_for_degree, label='Mean Validation RMSE')\n",
    "plt.xlabel('Polynomial degree')\n",
    "plt.ylabel('RMSE')\n",
    "plt.ylim([0, 0.5])\n",
    "plt.legend()\n",
    "plt.show()"
   ]
  },
  {
   "cell_type": "code",
   "execution_count": null,
   "metadata": {
    "collapsed": true
   },
   "outputs": [],
   "source": []
  }
 ],
 "metadata": {
  "colab": {
   "collapsed_sections": [],
   "name": "Overfitting, Train-Test Splitting, and Cross Validation.ipynb",
   "provenance": [
    {
     "file_id": "1zlvTnF92gXVv8Yonu_hcJm_85PYSSYtA",
     "timestamp": 1554749785373
    }
   ],
   "toc_visible": true,
   "version": "0.3.2"
  },
  "kernelspec": {
   "display_name": "Python 3",
   "language": "python",
   "name": "python3"
  },
  "language_info": {
   "codemirror_mode": {
    "name": "ipython",
    "version": 3
   },
   "file_extension": ".py",
   "mimetype": "text/x-python",
   "name": "python",
   "nbconvert_exporter": "python",
   "pygments_lexer": "ipython3",
   "version": "3.6.8"
  }
 },
 "nbformat": 4,
 "nbformat_minor": 1
}
