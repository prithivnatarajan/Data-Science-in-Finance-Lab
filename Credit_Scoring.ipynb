{
 "cells": [
  {
   "cell_type": "markdown",
   "metadata": {
    "colab_type": "text",
    "id": "X8nJSCu45-wh"
   },
   "source": [
    "# Credit Scoring\n",
    "\n",
    "In this example we will be constructing statistical models to predict credit scores and credit approval.\n",
    "\n",
    "We will be using the following libraries.\n",
    "* ``pandas`` will load and represent our data.\n",
    "* ``statsmodels`` will do the actual computation for us (ordinary least squares and linear regression).\n",
    "* ``sklearn`` will do some analysis of results (confusion matrices).\n",
    "* ``numpy`` is used by all of the above libraries, and we will use some functionality from it\n",
    "* ``matplotlib`` will be used for visualization."
   ]
  },
  {
   "cell_type": "code",
   "execution_count": 0,
   "metadata": {
    "colab": {},
    "colab_type": "code",
    "collapsed": true,
    "id": "heH8LsPG6IHP"
   },
   "outputs": [],
   "source": [
    "import pandas as pd\n",
    "import statsmodels.api as sm\n",
    "import statsmodels.formula.api as smf\n",
    "import sklearn.metrics\n",
    "import sklearn.model_selection\n",
    "import numpy as np\n",
    "import matplotlib.pyplot as plt"
   ]
  },
  {
   "cell_type": "markdown",
   "metadata": {
    "colab_type": "text",
    "id": "APrGxasy7n6N"
   },
   "source": [
    "# Loading and Introducing our Data\n",
    "\n",
    "Our data for this example will be loaded from a CSV file that is shared via Google Drive. The CSV file consists of records about individuals' financial data, their credit rating, and whether or not they defaulted on the loan.\n",
    "\n",
    "Let's load this into ``df`` and take a look at it."
   ]
  },
  {
   "cell_type": "code",
   "execution_count": 0,
   "metadata": {
    "colab": {},
    "colab_type": "code",
    "collapsed": true,
    "id": "Vu19upWO9hnC"
   },
   "outputs": [],
   "source": [
    "df = pd.read_csv('https://drive.google.com/uc?export=download&id=1AxfGhxDITcAVBDycjhhWajRk8u0gsIoa')"
   ]
  },
  {
   "cell_type": "markdown",
   "metadata": {
    "colab_type": "text",
    "id": "PancF-8k9jhE"
   },
   "source": [
    "## Examining the Data and Updating Data Types\n",
    "\n",
    "Let's take a look at the data that we have loaded."
   ]
  },
  {
   "cell_type": "code",
   "execution_count": 4,
   "metadata": {
    "colab": {
     "base_uri": "https://localhost:8080/",
     "height": 204
    },
    "colab_type": "code",
    "id": "2DSME6aM7FGT",
    "outputId": "0569a3b9-fc16-40b3-f520-ced18d0e2834"
   },
   "outputs": [
    {
     "data": {
      "text/html": [
       "<div>\n",
       "<style scoped>\n",
       "    .dataframe tbody tr th:only-of-type {\n",
       "        vertical-align: middle;\n",
       "    }\n",
       "\n",
       "    .dataframe tbody tr th {\n",
       "        vertical-align: top;\n",
       "    }\n",
       "\n",
       "    .dataframe thead th {\n",
       "        text-align: right;\n",
       "    }\n",
       "</style>\n",
       "<table border=\"1\" class=\"dataframe\">\n",
       "  <thead>\n",
       "    <tr style=\"text-align: right;\">\n",
       "      <th></th>\n",
       "      <th>Income</th>\n",
       "      <th>Rating</th>\n",
       "      <th>Cards</th>\n",
       "      <th>Age</th>\n",
       "      <th>Education</th>\n",
       "      <th>Gender</th>\n",
       "      <th>Student</th>\n",
       "      <th>Married</th>\n",
       "      <th>Balance</th>\n",
       "      <th>Defaulted</th>\n",
       "    </tr>\n",
       "  </thead>\n",
       "  <tbody>\n",
       "    <tr>\n",
       "      <th>0</th>\n",
       "      <td>27.349</td>\n",
       "      <td>169</td>\n",
       "      <td>4</td>\n",
       "      <td>51</td>\n",
       "      <td>16</td>\n",
       "      <td>Female</td>\n",
       "      <td>No</td>\n",
       "      <td>Yes</td>\n",
       "      <td>0</td>\n",
       "      <td>Yes</td>\n",
       "    </tr>\n",
       "    <tr>\n",
       "      <th>1</th>\n",
       "      <td>10.403</td>\n",
       "      <td>310</td>\n",
       "      <td>3</td>\n",
       "      <td>43</td>\n",
       "      <td>7</td>\n",
       "      <td>Male</td>\n",
       "      <td>No</td>\n",
       "      <td>Yes</td>\n",
       "      <td>571</td>\n",
       "      <td>Yes</td>\n",
       "    </tr>\n",
       "    <tr>\n",
       "      <th>2</th>\n",
       "      <td>23.949</td>\n",
       "      <td>383</td>\n",
       "      <td>2</td>\n",
       "      <td>40</td>\n",
       "      <td>18</td>\n",
       "      <td>Male</td>\n",
       "      <td>No</td>\n",
       "      <td>Yes</td>\n",
       "      <td>829</td>\n",
       "      <td>No</td>\n",
       "    </tr>\n",
       "    <tr>\n",
       "      <th>3</th>\n",
       "      <td>73.914</td>\n",
       "      <td>529</td>\n",
       "      <td>6</td>\n",
       "      <td>67</td>\n",
       "      <td>15</td>\n",
       "      <td>Female</td>\n",
       "      <td>No</td>\n",
       "      <td>Yes</td>\n",
       "      <td>1048</td>\n",
       "      <td>No</td>\n",
       "    </tr>\n",
       "    <tr>\n",
       "      <th>4</th>\n",
       "      <td>21.038</td>\n",
       "      <td>145</td>\n",
       "      <td>2</td>\n",
       "      <td>58</td>\n",
       "      <td>13</td>\n",
       "      <td>Female</td>\n",
       "      <td>No</td>\n",
       "      <td>Yes</td>\n",
       "      <td>0</td>\n",
       "      <td>Yes</td>\n",
       "    </tr>\n",
       "  </tbody>\n",
       "</table>\n",
       "</div>"
      ],
      "text/plain": [
       "   Income  Rating  Cards  Age  Education  Gender Student Married  Balance  \\\n",
       "0  27.349     169      4   51         16  Female      No     Yes        0   \n",
       "1  10.403     310      3   43          7    Male      No     Yes      571   \n",
       "2  23.949     383      2   40         18    Male      No     Yes      829   \n",
       "3  73.914     529      6   67         15  Female      No     Yes     1048   \n",
       "4  21.038     145      2   58         13  Female      No     Yes        0   \n",
       "\n",
       "  Defaulted  \n",
       "0       Yes  \n",
       "1       Yes  \n",
       "2        No  \n",
       "3        No  \n",
       "4       Yes  "
      ]
     },
     "execution_count": 4,
     "metadata": {
      "tags": []
     },
     "output_type": "execute_result"
    }
   ],
   "source": [
    "df.head()"
   ]
  },
  {
   "cell_type": "markdown",
   "metadata": {
    "colab_type": "text",
    "id": "w9H3gs78CnMx"
   },
   "source": [
    "Each of the columns is implicilty given a data type, or [``numpy.dtype``](https://docs.scipy.org/doc/numpy/reference/generated/numpy.dtype.html). Let's look at the types of each of the columns by examining [``DataFrame.dtypes``](https://pandas.pydata.org/pandas-docs/stable/reference/api/pandas.DataFrame.dtypes.html)."
   ]
  },
  {
   "cell_type": "code",
   "execution_count": 5,
   "metadata": {
    "colab": {
     "base_uri": "https://localhost:8080/",
     "height": 204
    },
    "colab_type": "code",
    "id": "yQmE3GI0CwIx",
    "outputId": "506a0551-ea1d-4691-e611-a76a9f20ed54"
   },
   "outputs": [
    {
     "data": {
      "text/plain": [
       "Income       float64\n",
       "Rating         int64\n",
       "Cards          int64\n",
       "Age            int64\n",
       "Education      int64\n",
       "Gender        object\n",
       "Student       object\n",
       "Married       object\n",
       "Balance        int64\n",
       "Defaulted     object\n",
       "dtype: object"
      ]
     },
     "execution_count": 5,
     "metadata": {
      "tags": []
     },
     "output_type": "execute_result"
    }
   ],
   "source": [
    "df.dtypes"
   ]
  },
  {
   "cell_type": "markdown",
   "metadata": {
    "colab_type": "text",
    "id": "K_gh6U8qAfBj"
   },
   "source": [
    "The ``float64`` and ``int64`` types make sense (real numbers or integers), but the ``object`` types aren't as precise as we would like them to be.\n",
    "\n",
    "For the ``Gender`` columns, these are categorical variables. We can convert the columns to being categories using the [``Series.astype``](https://pandas.pydata.org/pandas-docs/stable/reference/api/pandas.Series.astype.html) function."
   ]
  },
  {
   "cell_type": "code",
   "execution_count": 6,
   "metadata": {
    "colab": {
     "base_uri": "https://localhost:8080/",
     "height": 204
    },
    "colab_type": "code",
    "id": "y4imvY7rD1uo",
    "outputId": "5754873f-5f1a-415d-e480-45216dc0c210"
   },
   "outputs": [
    {
     "data": {
      "text/plain": [
       "Income        float64\n",
       "Rating          int64\n",
       "Cards           int64\n",
       "Age             int64\n",
       "Education       int64\n",
       "Gender       category\n",
       "Student        object\n",
       "Married        object\n",
       "Balance         int64\n",
       "Defaulted      object\n",
       "dtype: object"
      ]
     },
     "metadata": {
      "tags": []
     },
     "output_type": "display_data"
    }
   ],
   "source": [
    "df['Gender'] = df['Gender'].astype('category')\n",
    "display(df.dtypes)"
   ]
  },
  {
   "cell_type": "markdown",
   "metadata": {
    "colab_type": "text",
    "id": "mTU_lNY0EQlY"
   },
   "source": [
    "For the columns that are either ``Yes`` or ``No``, let's change them to be ``boolean`` variables."
   ]
  },
  {
   "cell_type": "code",
   "execution_count": 7,
   "metadata": {
    "colab": {
     "base_uri": "https://localhost:8080/",
     "height": 204
    },
    "colab_type": "code",
    "id": "JAnlL2eeAoWi",
    "outputId": "baaf29fe-feb3-4090-c00f-4f27033980d5"
   },
   "outputs": [
    {
     "data": {
      "text/plain": [
       "Income        float64\n",
       "Rating          int64\n",
       "Cards           int64\n",
       "Age             int64\n",
       "Education       int64\n",
       "Gender       category\n",
       "Student          bool\n",
       "Married          bool\n",
       "Balance         int64\n",
       "Defaulted        bool\n",
       "dtype: object"
      ]
     },
     "metadata": {
      "tags": []
     },
     "output_type": "display_data"
    }
   ],
   "source": [
    "df['Student'] = df['Student'] == 'Yes'\n",
    "df['Married'] = df['Married'] == 'Yes'\n",
    "df['Defaulted'] = df['Defaulted'] == 'Yes'\n",
    "display(df.dtypes)"
   ]
  },
  {
   "cell_type": "markdown",
   "metadata": {
    "colab_type": "text",
    "id": "JLytyiEU-h26"
   },
   "source": [
    "We can also get some basic statistics by calling [``DataFrame.describe``](https://pandas.pydata.org/pandas-docs/stable/reference/api/pandas.DataFrame.describe.html). Note that by default this will only include the numerical columns."
   ]
  },
  {
   "cell_type": "code",
   "execution_count": 8,
   "metadata": {
    "colab": {
     "base_uri": "https://localhost:8080/",
     "height": 297
    },
    "colab_type": "code",
    "id": "aOZfaj0Q_aEy",
    "outputId": "4263e7c5-732f-449a-c41a-8d7a863e42cf"
   },
   "outputs": [
    {
     "data": {
      "text/html": [
       "<div>\n",
       "<style scoped>\n",
       "    .dataframe tbody tr th:only-of-type {\n",
       "        vertical-align: middle;\n",
       "    }\n",
       "\n",
       "    .dataframe tbody tr th {\n",
       "        vertical-align: top;\n",
       "    }\n",
       "\n",
       "    .dataframe thead th {\n",
       "        text-align: right;\n",
       "    }\n",
       "</style>\n",
       "<table border=\"1\" class=\"dataframe\">\n",
       "  <thead>\n",
       "    <tr style=\"text-align: right;\">\n",
       "      <th></th>\n",
       "      <th>Income</th>\n",
       "      <th>Rating</th>\n",
       "      <th>Cards</th>\n",
       "      <th>Age</th>\n",
       "      <th>Education</th>\n",
       "      <th>Balance</th>\n",
       "    </tr>\n",
       "  </thead>\n",
       "  <tbody>\n",
       "    <tr>\n",
       "      <th>count</th>\n",
       "      <td>300.000000</td>\n",
       "      <td>300.000000</td>\n",
       "      <td>300.000000</td>\n",
       "      <td>300.000000</td>\n",
       "      <td>300.000000</td>\n",
       "      <td>300.000000</td>\n",
       "    </tr>\n",
       "    <tr>\n",
       "      <th>mean</th>\n",
       "      <td>44.054393</td>\n",
       "      <td>348.116667</td>\n",
       "      <td>3.026667</td>\n",
       "      <td>54.983333</td>\n",
       "      <td>13.393333</td>\n",
       "      <td>502.686667</td>\n",
       "    </tr>\n",
       "    <tr>\n",
       "      <th>std</th>\n",
       "      <td>33.863066</td>\n",
       "      <td>150.871547</td>\n",
       "      <td>1.351064</td>\n",
       "      <td>17.216982</td>\n",
       "      <td>3.075193</td>\n",
       "      <td>466.991447</td>\n",
       "    </tr>\n",
       "    <tr>\n",
       "      <th>min</th>\n",
       "      <td>10.354000</td>\n",
       "      <td>93.000000</td>\n",
       "      <td>1.000000</td>\n",
       "      <td>24.000000</td>\n",
       "      <td>5.000000</td>\n",
       "      <td>0.000000</td>\n",
       "    </tr>\n",
       "    <tr>\n",
       "      <th>25%</th>\n",
       "      <td>21.027500</td>\n",
       "      <td>235.000000</td>\n",
       "      <td>2.000000</td>\n",
       "      <td>41.000000</td>\n",
       "      <td>11.000000</td>\n",
       "      <td>15.750000</td>\n",
       "    </tr>\n",
       "    <tr>\n",
       "      <th>50%</th>\n",
       "      <td>33.115500</td>\n",
       "      <td>339.000000</td>\n",
       "      <td>3.000000</td>\n",
       "      <td>55.000000</td>\n",
       "      <td>14.000000</td>\n",
       "      <td>433.500000</td>\n",
       "    </tr>\n",
       "    <tr>\n",
       "      <th>75%</th>\n",
       "      <td>55.975500</td>\n",
       "      <td>433.000000</td>\n",
       "      <td>4.000000</td>\n",
       "      <td>69.000000</td>\n",
       "      <td>16.000000</td>\n",
       "      <td>857.750000</td>\n",
       "    </tr>\n",
       "    <tr>\n",
       "      <th>max</th>\n",
       "      <td>186.634000</td>\n",
       "      <td>949.000000</td>\n",
       "      <td>8.000000</td>\n",
       "      <td>91.000000</td>\n",
       "      <td>20.000000</td>\n",
       "      <td>1809.000000</td>\n",
       "    </tr>\n",
       "  </tbody>\n",
       "</table>\n",
       "</div>"
      ],
      "text/plain": [
       "           Income      Rating       Cards         Age   Education      Balance\n",
       "count  300.000000  300.000000  300.000000  300.000000  300.000000   300.000000\n",
       "mean    44.054393  348.116667    3.026667   54.983333   13.393333   502.686667\n",
       "std     33.863066  150.871547    1.351064   17.216982    3.075193   466.991447\n",
       "min     10.354000   93.000000    1.000000   24.000000    5.000000     0.000000\n",
       "25%     21.027500  235.000000    2.000000   41.000000   11.000000    15.750000\n",
       "50%     33.115500  339.000000    3.000000   55.000000   14.000000   433.500000\n",
       "75%     55.975500  433.000000    4.000000   69.000000   16.000000   857.750000\n",
       "max    186.634000  949.000000    8.000000   91.000000   20.000000  1809.000000"
      ]
     },
     "execution_count": 8,
     "metadata": {
      "tags": []
     },
     "output_type": "execute_result"
    }
   ],
   "source": [
    "df.describe()"
   ]
  },
  {
   "cell_type": "markdown",
   "metadata": {
    "colab_type": "text",
    "id": "8Nqul3xb_DlD"
   },
   "source": [
    "From this we can see a bit about each of our categories.\n",
    "*  ``Income`` is in thousands of dollars\n",
    "*  ``Rating`` is the standard credit rating\n",
    "*  ``Cards`` is the number of credit cards\n",
    "*  ``Age`` is in years\n",
    "*  ``Education`` is also in years (clearly no humanities PhDs are in the mix)\n",
    "* ``Balance`` is the amount of money in the bank.\n",
    "\n",
    "\n",
    "We can use the parameter ``exclude=np.number`` to display only the categorical and boolean data."
   ]
  },
  {
   "cell_type": "code",
   "execution_count": 9,
   "metadata": {
    "colab": {
     "base_uri": "https://localhost:8080/",
     "height": 173
    },
    "colab_type": "code",
    "id": "U2lApyio-k01",
    "outputId": "a41cef45-d0ca-47db-c35e-f4e6fdfd5a5a"
   },
   "outputs": [
    {
     "data": {
      "text/html": [
       "<div>\n",
       "<style scoped>\n",
       "    .dataframe tbody tr th:only-of-type {\n",
       "        vertical-align: middle;\n",
       "    }\n",
       "\n",
       "    .dataframe tbody tr th {\n",
       "        vertical-align: top;\n",
       "    }\n",
       "\n",
       "    .dataframe thead th {\n",
       "        text-align: right;\n",
       "    }\n",
       "</style>\n",
       "<table border=\"1\" class=\"dataframe\">\n",
       "  <thead>\n",
       "    <tr style=\"text-align: right;\">\n",
       "      <th></th>\n",
       "      <th>Gender</th>\n",
       "      <th>Student</th>\n",
       "      <th>Married</th>\n",
       "      <th>Defaulted</th>\n",
       "    </tr>\n",
       "  </thead>\n",
       "  <tbody>\n",
       "    <tr>\n",
       "      <th>count</th>\n",
       "      <td>300</td>\n",
       "      <td>300</td>\n",
       "      <td>300</td>\n",
       "      <td>300</td>\n",
       "    </tr>\n",
       "    <tr>\n",
       "      <th>unique</th>\n",
       "      <td>2</td>\n",
       "      <td>2</td>\n",
       "      <td>2</td>\n",
       "      <td>2</td>\n",
       "    </tr>\n",
       "    <tr>\n",
       "      <th>top</th>\n",
       "      <td>Female</td>\n",
       "      <td>False</td>\n",
       "      <td>True</td>\n",
       "      <td>True</td>\n",
       "    </tr>\n",
       "    <tr>\n",
       "      <th>freq</th>\n",
       "      <td>168</td>\n",
       "      <td>268</td>\n",
       "      <td>183</td>\n",
       "      <td>157</td>\n",
       "    </tr>\n",
       "  </tbody>\n",
       "</table>\n",
       "</div>"
      ],
      "text/plain": [
       "        Gender Student Married Defaulted\n",
       "count      300     300     300       300\n",
       "unique       2       2       2         2\n",
       "top     Female   False    True      True\n",
       "freq       168     268     183       157"
      ]
     },
     "execution_count": 9,
     "metadata": {
      "tags": []
     },
     "output_type": "execute_result"
    }
   ],
   "source": [
    "df.describe(exclude=np.number)"
   ]
  },
  {
   "cell_type": "markdown",
   "metadata": {
    "colab_type": "text",
    "id": "mEjenSKpA2Er"
   },
   "source": [
    "Here the ``top`` row indicates what value was the most frequent, and the ``freq`` row indicates how many records had that value for their row.\n",
    "\n",
    "The ``Defaulted`` variable indicates whether or not this individual defaulted on the loan."
   ]
  },
  {
   "cell_type": "markdown",
   "metadata": {
    "colab_type": "text",
    "id": "BfHqA9YFBsjy"
   },
   "source": [
    "## Our Goal with this Data\n",
    "\n",
    "We will be interested in predicting two of these columns from the other columns.\n",
    "\n",
    "*   ``Rating`` is an individual's credit rating. This is a continuous variable, and we will be using ordinary least squares to fit it.\n",
    "*   ``Defaulted`` is whether or not an individual defaulted on the loan. This is a binary variable (Yes or No), and we will be using logistic regression to fit it.\n",
    "\n"
   ]
  },
  {
   "cell_type": "markdown",
   "metadata": {
    "colab_type": "text",
    "id": "GMMu-gPm9eTZ"
   },
   "source": [
    "## Splitting into Test and Training Data\n",
    "\n",
    "We will be fitting a model to this data, and we will want to know how good a fit that model is, so let's split the data into test and training data.\n",
    "\n",
    "To do this, we'll use our friend from the previous notebook, the [``sklearn.model_selection.train_test_split``](https://scikit-learn.org/stable/modules/generated/sklearn.model_selection.train_test_split.html) function."
   ]
  },
  {
   "cell_type": "code",
   "execution_count": 10,
   "metadata": {
    "colab": {
     "base_uri": "https://localhost:8080/",
     "height": 442
    },
    "colab_type": "code",
    "id": "03idelcw7waB",
    "outputId": "a8ef74e9-a902-4c2e-9d3d-d0da4e61af8d"
   },
   "outputs": [
    {
     "name": "stdout",
     "output_type": "stream",
     "text": [
      "Training Data:\n"
     ]
    },
    {
     "data": {
      "text/html": [
       "<div>\n",
       "<style scoped>\n",
       "    .dataframe tbody tr th:only-of-type {\n",
       "        vertical-align: middle;\n",
       "    }\n",
       "\n",
       "    .dataframe tbody tr th {\n",
       "        vertical-align: top;\n",
       "    }\n",
       "\n",
       "    .dataframe thead th {\n",
       "        text-align: right;\n",
       "    }\n",
       "</style>\n",
       "<table border=\"1\" class=\"dataframe\">\n",
       "  <thead>\n",
       "    <tr style=\"text-align: right;\">\n",
       "      <th></th>\n",
       "      <th>Income</th>\n",
       "      <th>Rating</th>\n",
       "      <th>Cards</th>\n",
       "      <th>Age</th>\n",
       "      <th>Education</th>\n",
       "      <th>Gender</th>\n",
       "      <th>Student</th>\n",
       "      <th>Married</th>\n",
       "      <th>Balance</th>\n",
       "      <th>Defaulted</th>\n",
       "    </tr>\n",
       "  </thead>\n",
       "  <tbody>\n",
       "    <tr>\n",
       "      <th>63</th>\n",
       "      <td>180.379</td>\n",
       "      <td>665</td>\n",
       "      <td>3</td>\n",
       "      <td>67</td>\n",
       "      <td>8</td>\n",
       "      <td>Female</td>\n",
       "      <td>True</td>\n",
       "      <td>True</td>\n",
       "      <td>1050</td>\n",
       "      <td>False</td>\n",
       "    </tr>\n",
       "    <tr>\n",
       "      <th>82</th>\n",
       "      <td>53.401</td>\n",
       "      <td>377</td>\n",
       "      <td>3</td>\n",
       "      <td>35</td>\n",
       "      <td>12</td>\n",
       "      <td>Female</td>\n",
       "      <td>False</td>\n",
       "      <td>False</td>\n",
       "      <td>541</td>\n",
       "      <td>False</td>\n",
       "    </tr>\n",
       "    <tr>\n",
       "      <th>215</th>\n",
       "      <td>40.442</td>\n",
       "      <td>369</td>\n",
       "      <td>5</td>\n",
       "      <td>81</td>\n",
       "      <td>8</td>\n",
       "      <td>Female</td>\n",
       "      <td>False</td>\n",
       "      <td>False</td>\n",
       "      <td>510</td>\n",
       "      <td>False</td>\n",
       "    </tr>\n",
       "    <tr>\n",
       "      <th>208</th>\n",
       "      <td>107.986</td>\n",
       "      <td>449</td>\n",
       "      <td>4</td>\n",
       "      <td>64</td>\n",
       "      <td>14</td>\n",
       "      <td>Male</td>\n",
       "      <td>False</td>\n",
       "      <td>True</td>\n",
       "      <td>227</td>\n",
       "      <td>False</td>\n",
       "    </tr>\n",
       "    <tr>\n",
       "      <th>216</th>\n",
       "      <td>35.177</td>\n",
       "      <td>186</td>\n",
       "      <td>3</td>\n",
       "      <td>62</td>\n",
       "      <td>16</td>\n",
       "      <td>Female</td>\n",
       "      <td>False</td>\n",
       "      <td>False</td>\n",
       "      <td>0</td>\n",
       "      <td>True</td>\n",
       "    </tr>\n",
       "  </tbody>\n",
       "</table>\n",
       "</div>"
      ],
      "text/plain": [
       "      Income  Rating  Cards  Age  Education  Gender  Student  Married  \\\n",
       "63   180.379     665      3   67          8  Female     True     True   \n",
       "82    53.401     377      3   35         12  Female    False    False   \n",
       "215   40.442     369      5   81          8  Female    False    False   \n",
       "208  107.986     449      4   64         14    Male    False     True   \n",
       "216   35.177     186      3   62         16  Female    False    False   \n",
       "\n",
       "     Balance  Defaulted  \n",
       "63      1050      False  \n",
       "82       541      False  \n",
       "215      510      False  \n",
       "208      227      False  \n",
       "216        0       True  "
      ]
     },
     "metadata": {
      "tags": []
     },
     "output_type": "display_data"
    },
    {
     "name": "stdout",
     "output_type": "stream",
     "text": [
      "\n",
      "Test Data:\n"
     ]
    },
    {
     "data": {
      "text/html": [
       "<div>\n",
       "<style scoped>\n",
       "    .dataframe tbody tr th:only-of-type {\n",
       "        vertical-align: middle;\n",
       "    }\n",
       "\n",
       "    .dataframe tbody tr th {\n",
       "        vertical-align: top;\n",
       "    }\n",
       "\n",
       "    .dataframe thead th {\n",
       "        text-align: right;\n",
       "    }\n",
       "</style>\n",
       "<table border=\"1\" class=\"dataframe\">\n",
       "  <thead>\n",
       "    <tr style=\"text-align: right;\">\n",
       "      <th></th>\n",
       "      <th>Income</th>\n",
       "      <th>Rating</th>\n",
       "      <th>Cards</th>\n",
       "      <th>Age</th>\n",
       "      <th>Education</th>\n",
       "      <th>Gender</th>\n",
       "      <th>Student</th>\n",
       "      <th>Married</th>\n",
       "      <th>Balance</th>\n",
       "      <th>Defaulted</th>\n",
       "    </tr>\n",
       "  </thead>\n",
       "  <tbody>\n",
       "    <tr>\n",
       "      <th>254</th>\n",
       "      <td>55.056</td>\n",
       "      <td>235</td>\n",
       "      <td>2</td>\n",
       "      <td>31</td>\n",
       "      <td>16</td>\n",
       "      <td>Male</td>\n",
       "      <td>False</td>\n",
       "      <td>True</td>\n",
       "      <td>0</td>\n",
       "      <td>True</td>\n",
       "    </tr>\n",
       "    <tr>\n",
       "      <th>57</th>\n",
       "      <td>58.063</td>\n",
       "      <td>304</td>\n",
       "      <td>3</td>\n",
       "      <td>50</td>\n",
       "      <td>8</td>\n",
       "      <td>Male</td>\n",
       "      <td>False</td>\n",
       "      <td>False</td>\n",
       "      <td>118</td>\n",
       "      <td>True</td>\n",
       "    </tr>\n",
       "    <tr>\n",
       "      <th>150</th>\n",
       "      <td>36.362</td>\n",
       "      <td>376</td>\n",
       "      <td>3</td>\n",
       "      <td>49</td>\n",
       "      <td>15</td>\n",
       "      <td>Male</td>\n",
       "      <td>False</td>\n",
       "      <td>True</td>\n",
       "      <td>654</td>\n",
       "      <td>False</td>\n",
       "    </tr>\n",
       "    <tr>\n",
       "      <th>66</th>\n",
       "      <td>27.999</td>\n",
       "      <td>380</td>\n",
       "      <td>1</td>\n",
       "      <td>55</td>\n",
       "      <td>10</td>\n",
       "      <td>Male</td>\n",
       "      <td>False</td>\n",
       "      <td>True</td>\n",
       "      <td>651</td>\n",
       "      <td>True</td>\n",
       "    </tr>\n",
       "    <tr>\n",
       "      <th>114</th>\n",
       "      <td>19.144</td>\n",
       "      <td>269</td>\n",
       "      <td>2</td>\n",
       "      <td>75</td>\n",
       "      <td>13</td>\n",
       "      <td>Female</td>\n",
       "      <td>False</td>\n",
       "      <td>False</td>\n",
       "      <td>148</td>\n",
       "      <td>True</td>\n",
       "    </tr>\n",
       "  </tbody>\n",
       "</table>\n",
       "</div>"
      ],
      "text/plain": [
       "     Income  Rating  Cards  Age  Education  Gender  Student  Married  Balance  \\\n",
       "254  55.056     235      2   31         16    Male    False     True        0   \n",
       "57   58.063     304      3   50          8    Male    False    False      118   \n",
       "150  36.362     376      3   49         15    Male    False     True      654   \n",
       "66   27.999     380      1   55         10    Male    False     True      651   \n",
       "114  19.144     269      2   75         13  Female    False    False      148   \n",
       "\n",
       "     Defaulted  \n",
       "254       True  \n",
       "57        True  \n",
       "150      False  \n",
       "66        True  \n",
       "114       True  "
      ]
     },
     "metadata": {
      "tags": []
     },
     "output_type": "display_data"
    }
   ],
   "source": [
    "df_train, df_test = sklearn.model_selection.train_test_split(\n",
    "    df, test_size=0.5, shuffle=True, random_state=7)\n",
    "\n",
    "print('Training Data:')\n",
    "display(df_train.head())\n",
    "print('')\n",
    "print('Test Data:')\n",
    "display(df_test.head())"
   ]
  },
  {
   "cell_type": "markdown",
   "metadata": {
    "colab_type": "text",
    "id": "xT6xPQht8GHy"
   },
   "source": [
    "# Predicting ``Rating`` Using Ordinary Least Squares (OLS)\n",
    "\n",
    "In this section, we will predict the value of ``Rating`` using the other indepdent variables. ``Rating`` is a continuous variable, and we will be fitting it using ordinary least squares.\n"
   ]
  },
  {
   "cell_type": "markdown",
   "metadata": {
    "colab_type": "text",
    "id": "VBN7HpVgHJLH"
   },
   "source": [
    "## Computing the fit with Categorical Variables\n",
    "\n",
    "We'll be making use of the [``statsmodels``](https://www.statsmodels.org/stable/index.html) library to do this.\n",
    "\n",
    "Remember from above that some of our input variables are categorical, with multiple categories.\n",
    "\n",
    "We can create dummy variables for a categorical variables in R by using the ``C()`` syntax. If we have $n$ categories, this will create $n-1$ dummy variables (it's $n-1$ instead of $n$ because one of the categories can be merged into the intercept)\n",
    "\n",
    "Let's write out the formula that we will want to use for our model."
   ]
  },
  {
   "cell_type": "code",
   "execution_count": 0,
   "metadata": {
    "colab": {},
    "colab_type": "code",
    "collapsed": true,
    "id": "ly3rQYcI8J8M"
   },
   "outputs": [],
   "source": [
    "# This is a very long string, so we use the parentheses syntax instead of having\n",
    "# it be a long line\n",
    "\n",
    "formula = ('Rating ~ Income + Cards + Education + '\n",
    "          'Balance + C(Student) + C(Married)')"
   ]
  },
  {
   "cell_type": "markdown",
   "metadata": {
    "colab_type": "text",
    "id": "YLI4exsXFtfR"
   },
   "source": [
    "Now let's define ``linear_fit`` to be our [``RegressionResults``](https://www.statsmodels.org/dev/generated/statsmodels.regression.linear_model.RegressionResults.html), computed by calling [``linear_model.OLS.fit``](http://www.statsmodels.org/devel/generated/statsmodels.regression.linear_model.OLS.fit.html), on a [``linear_model.OLS``](http://statsmodels.sourceforge.net/devel/generated/statsmodels.regression.linear_model.OLS.html) model."
   ]
  },
  {
   "cell_type": "code",
   "execution_count": 0,
   "metadata": {
    "colab": {},
    "colab_type": "code",
    "collapsed": true,
    "id": "kaZwru5CE0dW"
   },
   "outputs": [],
   "source": [
    "linear_fit = smf.ols(formula=formula, data=df_train).fit()"
   ]
  },
  {
   "cell_type": "markdown",
   "metadata": {
    "colab_type": "text",
    "id": "7roQa0aJF7e6"
   },
   "source": [
    "## Interpreting our Model's Fit\n",
    "\n",
    "Let's take a look at a summary of the linear model that we fit to our training data."
   ]
  },
  {
   "cell_type": "code",
   "execution_count": 13,
   "metadata": {
    "colab": {
     "base_uri": "https://localhost:8080/",
     "height": 583
    },
    "colab_type": "code",
    "id": "5JLxpPWS8PBP",
    "outputId": "2cb8d748-2d42-44ce-b7ff-6c16f4d2abfd"
   },
   "outputs": [
    {
     "data": {
      "text/html": [
       "<table class=\"simpletable\">\n",
       "<caption>OLS Regression Results</caption>\n",
       "<tr>\n",
       "  <th>Dep. Variable:</th>         <td>Rating</td>      <th>  R-squared:         </th> <td>   0.975</td> \n",
       "</tr>\n",
       "<tr>\n",
       "  <th>Model:</th>                   <td>OLS</td>       <th>  Adj. R-squared:    </th> <td>   0.974</td> \n",
       "</tr>\n",
       "<tr>\n",
       "  <th>Method:</th>             <td>Least Squares</td>  <th>  F-statistic:       </th> <td>   924.9</td> \n",
       "</tr>\n",
       "<tr>\n",
       "  <th>Date:</th>             <td>Sat, 27 Apr 2019</td> <th>  Prob (F-statistic):</th> <td>1.02e-111</td>\n",
       "</tr>\n",
       "<tr>\n",
       "  <th>Time:</th>                 <td>20:58:44</td>     <th>  Log-Likelihood:    </th> <td> -691.97</td> \n",
       "</tr>\n",
       "<tr>\n",
       "  <th>No. Observations:</th>      <td>   150</td>      <th>  AIC:               </th> <td>   1398.</td> \n",
       "</tr>\n",
       "<tr>\n",
       "  <th>Df Residuals:</th>          <td>   143</td>      <th>  BIC:               </th> <td>   1419.</td> \n",
       "</tr>\n",
       "<tr>\n",
       "  <th>Df Model:</th>              <td>     6</td>      <th>                     </th>     <td> </td>    \n",
       "</tr>\n",
       "<tr>\n",
       "  <th>Covariance Type:</th>      <td>nonrobust</td>    <th>                     </th>     <td> </td>    \n",
       "</tr>\n",
       "</table>\n",
       "<table class=\"simpletable\">\n",
       "<tr>\n",
       "           <td></td>             <th>coef</th>     <th>std err</th>      <th>t</th>      <th>P>|t|</th>  <th>[0.025</th>    <th>0.975]</th>  \n",
       "</tr>\n",
       "<tr>\n",
       "  <th>Intercept</th>          <td>  146.4783</td> <td>   10.454</td> <td>   14.011</td> <td> 0.000</td> <td>  125.813</td> <td>  167.143</td>\n",
       "</tr>\n",
       "<tr>\n",
       "  <th>C(Student)[T.True]</th> <td>  -98.5069</td> <td>    6.916</td> <td>  -14.243</td> <td> 0.000</td> <td> -112.178</td> <td>  -84.835</td>\n",
       "</tr>\n",
       "<tr>\n",
       "  <th>C(Married)[T.True]</th> <td>   10.2065</td> <td>    4.216</td> <td>    2.421</td> <td> 0.017</td> <td>    1.873</td> <td>   18.540</td>\n",
       "</tr>\n",
       "<tr>\n",
       "  <th>Income</th>             <td>    2.1076</td> <td>    0.067</td> <td>   31.644</td> <td> 0.000</td> <td>    1.976</td> <td>    2.239</td>\n",
       "</tr>\n",
       "<tr>\n",
       "  <th>Cards</th>              <td>   -0.2404</td> <td>    1.629</td> <td>   -0.148</td> <td> 0.883</td> <td>   -3.460</td> <td>    2.979</td>\n",
       "</tr>\n",
       "<tr>\n",
       "  <th>Education</th>          <td>   -0.0798</td> <td>    0.656</td> <td>   -0.122</td> <td> 0.903</td> <td>   -1.377</td> <td>    1.217</td>\n",
       "</tr>\n",
       "<tr>\n",
       "  <th>Balance</th>            <td>    0.2285</td> <td>    0.005</td> <td>   43.944</td> <td> 0.000</td> <td>    0.218</td> <td>    0.239</td>\n",
       "</tr>\n",
       "</table>\n",
       "<table class=\"simpletable\">\n",
       "<tr>\n",
       "  <th>Omnibus:</th>       <td>27.486</td> <th>  Durbin-Watson:     </th> <td>   1.685</td>\n",
       "</tr>\n",
       "<tr>\n",
       "  <th>Prob(Omnibus):</th> <td> 0.000</td> <th>  Jarque-Bera (JB):  </th> <td>  36.123</td>\n",
       "</tr>\n",
       "<tr>\n",
       "  <th>Skew:</th>          <td>-1.084</td> <th>  Prob(JB):          </th> <td>1.43e-08</td>\n",
       "</tr>\n",
       "<tr>\n",
       "  <th>Kurtosis:</th>      <td> 4.039</td> <th>  Cond. No.          </th> <td>3.58e+03</td>\n",
       "</tr>\n",
       "</table><br/><br/>Warnings:<br/>[1] Standard Errors assume that the covariance matrix of the errors is correctly specified.<br/>[2] The condition number is large, 3.58e+03. This might indicate that there are<br/>strong multicollinearity or other numerical problems."
      ],
      "text/plain": [
       "<class 'statsmodels.iolib.summary.Summary'>\n",
       "\"\"\"\n",
       "                            OLS Regression Results                            \n",
       "==============================================================================\n",
       "Dep. Variable:                 Rating   R-squared:                       0.975\n",
       "Model:                            OLS   Adj. R-squared:                  0.974\n",
       "Method:                 Least Squares   F-statistic:                     924.9\n",
       "Date:                Sat, 27 Apr 2019   Prob (F-statistic):          1.02e-111\n",
       "Time:                        20:58:44   Log-Likelihood:                -691.97\n",
       "No. Observations:                 150   AIC:                             1398.\n",
       "Df Residuals:                     143   BIC:                             1419.\n",
       "Df Model:                           6                                         \n",
       "Covariance Type:            nonrobust                                         \n",
       "======================================================================================\n",
       "                         coef    std err          t      P>|t|      [0.025      0.975]\n",
       "--------------------------------------------------------------------------------------\n",
       "Intercept            146.4783     10.454     14.011      0.000     125.813     167.143\n",
       "C(Student)[T.True]   -98.5069      6.916    -14.243      0.000    -112.178     -84.835\n",
       "C(Married)[T.True]    10.2065      4.216      2.421      0.017       1.873      18.540\n",
       "Income                 2.1076      0.067     31.644      0.000       1.976       2.239\n",
       "Cards                 -0.2404      1.629     -0.148      0.883      -3.460       2.979\n",
       "Education             -0.0798      0.656     -0.122      0.903      -1.377       1.217\n",
       "Balance                0.2285      0.005     43.944      0.000       0.218       0.239\n",
       "==============================================================================\n",
       "Omnibus:                       27.486   Durbin-Watson:                   1.685\n",
       "Prob(Omnibus):                  0.000   Jarque-Bera (JB):               36.123\n",
       "Skew:                          -1.084   Prob(JB):                     1.43e-08\n",
       "Kurtosis:                       4.039   Cond. No.                     3.58e+03\n",
       "==============================================================================\n",
       "\n",
       "Warnings:\n",
       "[1] Standard Errors assume that the covariance matrix of the errors is correctly specified.\n",
       "[2] The condition number is large, 3.58e+03. This might indicate that there are\n",
       "strong multicollinearity or other numerical problems.\n",
       "\"\"\""
      ]
     },
     "execution_count": 13,
     "metadata": {
      "tags": []
     },
     "output_type": "execute_result"
    }
   ],
   "source": [
    "linear_fit.summary()"
   ]
  },
  {
   "cell_type": "markdown",
   "metadata": {
    "colab_type": "text",
    "id": "gNV8oUxQGMcI"
   },
   "source": [
    "What do the p-values for each independent variable tell us?\n",
    "\n",
    "Which independent variables have the most predictive power?"
   ]
  },
  {
   "cell_type": "markdown",
   "metadata": {
    "colab_type": "text",
    "id": "v5hM0_-rI9D9"
   },
   "source": [
    "## Visualizing our Model's Fit\n",
    "\n",
    "The ``statsmodels`` package has [many helpful functions](https://www.statsmodels.org/dev/examples/notebooks/generated/regression_plots.html) for visualizing regression plots. Let's use the [``plot_partregress_grid``](https://www.statsmodels.org/dev/generated/statsmodels.graphics.regressionplots.plot_partregress.html) function to see how effective each variable is at predicting ``Rating``."
   ]
  },
  {
   "cell_type": "code",
   "execution_count": 14,
   "metadata": {
    "colab": {
     "base_uri": "https://localhost:8080/",
     "height": 1431
    },
    "colab_type": "code",
    "id": "W3Gr07xIJUXj",
    "outputId": "b10ca57a-0cdf-422e-b5c3-6430fa5b4e0c"
   },
   "outputs": [
    {
     "data": {
      "image/png": "[encoded data removed]",
      "text/plain": [
       "<Figure size 720x1440 with 7 Axes>"
      ]
     },
     "metadata": {
      "tags": []
     },
     "output_type": "display_data"
    }
   ],
   "source": [
    "# Increase the figure's height, because otherwise this graph grid is squashed.\n",
    "fig = plt.figure(figsize=(10,20))\n",
    "sm.graphics.plot_partregress_grid(linear_fit, fig=fig)\n",
    "plt.show()"
   ]
  },
  {
   "cell_type": "markdown",
   "metadata": {
    "colab_type": "text",
    "id": "KkX7f9c4Uy9l"
   },
   "source": [
    "Now that we know that ``Income`` and ``Balance`` are highly correlated with ``Rating``, let's just take a raw look at the relationship between the them."
   ]
  },
  {
   "cell_type": "code",
   "execution_count": 15,
   "metadata": {
    "colab": {
     "base_uri": "https://localhost:8080/",
     "height": 283
    },
    "colab_type": "code",
    "id": "kI4ZiPuWU_zP",
    "outputId": "5760e99d-fc0d-4ed4-cb6f-811d925c9260"
   },
   "outputs": [
    {
     "data": {
      "image/png": "[encoded data removed]",
      "text/plain": [
       "<Figure size 432x288 with 1 Axes>"
      ]
     },
     "metadata": {
      "tags": []
     },
     "output_type": "display_data"
    }
   ],
   "source": [
    "plt.scatter(df['Income'],  df['Rating'])\n",
    "plt.xlabel('Income')\n",
    "plt.ylabel('Rating')\n",
    "plt.show()"
   ]
  },
  {
   "cell_type": "code",
   "execution_count": 16,
   "metadata": {
    "colab": {
     "base_uri": "https://localhost:8080/",
     "height": 283
    },
    "colab_type": "code",
    "id": "8JCdz_KvVvkK",
    "outputId": "1f699ab4-3eeb-437d-c6b5-d5ac46b2f328"
   },
   "outputs": [
    {
     "data": {
      "image/png": "[encoded data removed]",
      "text/plain": [
       "<Figure size 432x288 with 1 Axes>"
      ]
     },
     "metadata": {
      "tags": []
     },
     "output_type": "display_data"
    }
   ],
   "source": [
    "plt.scatter(df['Balance'],  df['Rating'])\n",
    "plt.xlabel('Balance')\n",
    "plt.ylabel('Rating')\n",
    "plt.show()"
   ]
  },
  {
   "cell_type": "markdown",
   "metadata": {
    "colab_type": "text",
    "id": "SWASKQ4E2-dY"
   },
   "source": [
    "## Evaluating our Model's Fit\n",
    "\n",
    "Now that we have a fit, we should check its accuracy.\n",
    "\n",
    "First, let's compute the model's predictions for the training and test sets. We do this using the [``RegressionResults.predict``](https://www.statsmodels.org/0.8.0/generated/statsmodels.regression.linear_model.RegressionResults.predict.html) function."
   ]
  },
  {
   "cell_type": "code",
   "execution_count": 0,
   "metadata": {
    "colab": {},
    "colab_type": "code",
    "collapsed": true,
    "id": "l0BcMttDGow4"
   },
   "outputs": [],
   "source": [
    "train_prediction = linear_fit.predict(df_train)\n",
    "test_prediction = linear_fit.predict(df_test)"
   ]
  },
  {
   "cell_type": "markdown",
   "metadata": {
    "colab_type": "text",
    "id": "q4Bvht_g2kgc"
   },
   "source": [
    "### Correlations\n",
    "\n",
    "One way to evaluate performance of the model is to compute the correlation between the variable being predicted (the ``Rating`` column), and the prediction.\n",
    "\n",
    "Let's start by doing this visually."
   ]
  },
  {
   "cell_type": "code",
   "execution_count": 18,
   "metadata": {
    "colab": {
     "base_uri": "https://localhost:8080/",
     "height": 283
    },
    "colab_type": "code",
    "id": "JExIdxBc1f1A",
    "outputId": "d24d7642-a6fb-4783-a329-050dde77fe9b"
   },
   "outputs": [
    {
     "data": {
      "image/png": "[encoded data removed]",
      "text/plain": [
       "<Figure size 432x288 with 1 Axes>"
      ]
     },
     "metadata": {
      "tags": []
     },
     "output_type": "display_data"
    }
   ],
   "source": [
    "plt.scatter(df_train['Rating'], train_prediction, label='Training')\n",
    "plt.scatter(df_test['Rating'], test_prediction, label='Test')\n",
    "plt.xlabel('Actual Rating')\n",
    "plt.ylabel('Predicted Rating')\n",
    "plt.legend()\n",
    "plt.show()"
   ]
  },
  {
   "cell_type": "markdown",
   "metadata": {
    "colab_type": "text",
    "id": "xOXqmfe_H4tR"
   },
   "source": [
    "This subjectively looks like a tight correlation, and the training data appears to be no more tightly correlated than the test data.\n",
    "\n",
    "Now let's compute the actual correlation and compare them numerically."
   ]
  },
  {
   "cell_type": "code",
   "execution_count": 19,
   "metadata": {
    "colab": {
     "base_uri": "https://localhost:8080/",
     "height": 51
    },
    "colab_type": "code",
    "id": "PusnlsAK13cm",
    "outputId": "1cf3f0c9-b0e3-4e74-8a6c-1494ed395925"
   },
   "outputs": [
    {
     "name": "stdout",
     "output_type": "stream",
     "text": [
      "Training Correlation: 0.9873588723921386\n",
      "Test Correlation:     0.9848066570944798\n"
     ]
    }
   ],
   "source": [
    "print('Training Correlation: ' + str(train_prediction.corr(df_train['Rating'])))\n",
    "print('Test Correlation:     ' + str(test_prediction.corr(df_test['Rating'])))"
   ]
  },
  {
   "cell_type": "markdown",
   "metadata": {
    "colab_type": "text",
    "id": "5R9uYvnHIKs1"
   },
   "source": [
    "The correlations are very high, and nearly the same for both training and testing data.\n",
    "\n",
    "What does this suggest about the accuracy of our model, and about our risk of overfitting?"
   ]
  },
  {
   "cell_type": "markdown",
   "metadata": {
    "colab_type": "text",
    "id": "mK1PZrcA2hgA"
   },
   "source": [
    "### RMSE\n",
    "\n",
    "A more meaningful error measure is the root-mean-square error (RMSE). Let's compute that for both the training and testing data."
   ]
  },
  {
   "cell_type": "code",
   "execution_count": 20,
   "metadata": {
    "colab": {
     "base_uri": "https://localhost:8080/",
     "height": 34
    },
    "colab_type": "code",
    "id": "bYNxKm1Z2fp7",
    "outputId": "49c1bfcc-5be8-4bcc-c4e7-276b734b2c21"
   },
   "outputs": [
    {
     "name": "stdout",
     "output_type": "stream",
     "text": [
      "Training RMSE: 24.39096874662449\n"
     ]
    }
   ],
   "source": [
    "train_error = df_train['Rating'] - train_prediction\n",
    "train_rmse = np.sqrt(np.mean(np.square(train_error)))\n",
    "print('Training RMSE: ' + str(train_rmse))"
   ]
  },
  {
   "cell_type": "code",
   "execution_count": 21,
   "metadata": {
    "colab": {
     "base_uri": "https://localhost:8080/",
     "height": 34
    },
    "colab_type": "code",
    "id": "Z-LAmZxp8Y4Y",
    "outputId": "1b2b1737-605d-4e55-ae24-a7764b2ca386"
   },
   "outputs": [
    {
     "name": "stdout",
     "output_type": "stream",
     "text": [
      "Test RMSE: 25.575348029345047\n"
     ]
    }
   ],
   "source": [
    "test_error = df['Rating'] - test_prediction\n",
    "test_rmse = np.sqrt(np.mean(np.square(test_error)))\n",
    "print('Test RMSE: ' + str(test_rmse))"
   ]
  },
  {
   "cell_type": "markdown",
   "metadata": {
    "colab_type": "text",
    "id": "BbK9_ArMJJ6Y"
   },
   "source": [
    "For a credit scores that are in the range of 50 to 1000, is this a good RMSE?"
   ]
  },
  {
   "cell_type": "markdown",
   "metadata": {
    "colab_type": "text",
    "id": "XpAERpZo8pZE"
   },
   "source": [
    "# Exercise: Predicting ``Defaulted`` using a Simpler OLS Model\n",
    "\n",
    "Earlier we asked about the meaning of the p-values in our OLS model. A low p-value for an independent variable indicates high predictive power for that variable.\n",
    "\n",
    "In the model that we fit, we found that the ``Income``, ``Balance``, and ``Student`` independent variables had nearly-zero p-values, while the remaining variables had much higher p-values.\n",
    "\n",
    "Create a linear model that only uses those independent variables to predict ``Rating``. Compare that test RMSE with the model that used all of the independent variables."
   ]
  },
  {
   "cell_type": "code",
   "execution_count": 0,
   "metadata": {
    "colab": {},
    "colab_type": "code",
    "collapsed": true,
    "id": "CNFCxHWtmD16"
   },
   "outputs": [],
   "source": [
    "def do_exercise_(formula, df, df_train, df_test):\n",
    "\tlinear_fit = smf.ols(formula=formula, data=df_train).fit()\n",
    "\n",
    "\tlinear_fit.summary()\n",
    "\n",
    "\t# Increase the figure's height, because otherwise this graph grid is squashed.\n",
    "\tfig = plt.figure(figsize=(10,20))\n",
    "\tsm.graphics.plot_partregress_grid(linear_fit, fig=fig)\n",
    "\tplt.show()\n",
    "\n",
    "\tplt.scatter(df['Income'],  df['Rating'])\n",
    "\tplt.xlabel('Income')\n",
    "\tplt.ylabel('Rating')\n",
    "\tplt.show()\n",
    "\n",
    "\tplt.scatter(df['Balance'],  df['Rating'])\n",
    "\tplt.xlabel('Balance')\n",
    "\tplt.ylabel('Rating')\n",
    "\tplt.show()\n",
    "\n",
    "\n",
    "\ttrain_prediction = linear_fit.predict(df_train)\n",
    "\ttest_prediction = linear_fit.predict(df_test)\n",
    "\n",
    "\n",
    "\n",
    "\tplt.scatter(df_train['Rating'], train_prediction, label='Training')\n",
    "\tplt.scatter(df_test['Rating'], test_prediction, label='Test')\n",
    "\tplt.xlabel('Actual Rating')\n",
    "\tplt.ylabel('Predicted Rating')\n",
    "\tplt.legend()\n",
    "\tplt.show()\n",
    "\n",
    "\tprint('Training Correlation: ' + str(train_prediction.corr(df_train['Rating'])))\n",
    "\tprint('Test Correlation:     ' + str(test_prediction.corr(df_test['Rating'])))\n",
    "\n",
    "\n",
    "\n",
    "\n",
    "\ttrain_error = df_train['Rating'] - train_prediction\n",
    "\ttrain_rmse = np.sqrt(np.mean(np.square(train_error)))\n",
    "\tprint('Training RMSE: ' + str(train_rmse))\n",
    "\n",
    "\n",
    "\n",
    "\ttest_error = df['Rating'] - test_prediction\n",
    "\ttest_rmse = np.sqrt(np.mean(np.square(test_error)))\n",
    "\tprint('Test RMSE: ' + str(test_rmse))"
   ]
  },
  {
   "cell_type": "code",
   "execution_count": 0,
   "metadata": {
    "colab": {},
    "colab_type": "code",
    "collapsed": true,
    "id": "wLMu24VamFg3"
   },
   "outputs": [],
   "source": [
    "formula_exercise = ('Rating ~ Income +'\n",
    "          'Balance + C(Student)')"
   ]
  },
  {
   "cell_type": "code",
   "execution_count": 0,
   "metadata": {
    "colab": {},
    "colab_type": "code",
    "collapsed": true,
    "id": "RN_XwoiDnU7d"
   },
   "outputs": [],
   "source": [
    "df_exercise = df.copy()\n",
    "df_train_exercise = df_train.copy()\n",
    "df_test_exercise = df_test.copy()"
   ]
  },
  {
   "cell_type": "code",
   "execution_count": 46,
   "metadata": {
    "colab": {
     "base_uri": "https://localhost:8080/",
     "height": 2297
    },
    "colab_type": "code",
    "id": "JChHW5aCmF6X",
    "outputId": "0dbd0676-13a4-420e-ee35-570584fa1b17"
   },
   "outputs": [
    {
     "data": {
      "image/png": "[encoded data removed]",
      "text/plain": [
       "<Figure size 720x1440 with 4 Axes>"
      ]
     },
     "metadata": {
      "tags": []
     },
     "output_type": "display_data"
    },
    {
     "data": {
      "image/png": "[encoded data removed]",
      "text/plain": [
       "<Figure size 432x288 with 1 Axes>"
      ]
     },
     "metadata": {
      "tags": []
     },
     "output_type": "display_data"
    },
    {
     "data": {
      "image/png": "[encoded data removed]",
      "text/plain": [
       "<Figure size 432x288 with 1 Axes>"
      ]
     },
     "metadata": {
      "tags": []
     },
     "output_type": "display_data"
    },
    {
     "data": {
      "image/png": "[encoded data removed]",
      "text/plain": [
       "<Figure size 432x288 with 1 Axes>"
      ]
     },
     "metadata": {
      "tags": []
     },
     "output_type": "display_data"
    },
    {
     "name": "stdout",
     "output_type": "stream",
     "text": [
      "Training Correlation: 0.9868354021482771\n",
      "Test Correlation:     0.9860494195870189\n",
      "Training RMSE: 24.887583857906158\n",
      "Test RMSE: 24.573038436730233\n"
     ]
    }
   ],
   "source": [
    "do_exercise_(formula_exercise, df_exercise, df_train_exercise, df_test_exercise)"
   ]
  },
  {
   "cell_type": "code",
   "execution_count": 0,
   "metadata": {
    "colab": {},
    "colab_type": "code",
    "collapsed": true,
    "id": "9_kIvhNJmGQ3"
   },
   "outputs": [],
   "source": []
  },
  {
   "cell_type": "markdown",
   "metadata": {
    "colab_type": "text",
    "id": "uF52w3XS4ig-"
   },
   "source": [
    "# Predicting ``Defaulted`` Using Logistic Regression\n",
    "\n",
    "In this section we will be predicting a binary variable, ``Defaulted`` using logistic regression.\n",
    "\n",
    "We will be using the [``statsmodels.glm``](https://www.statsmodels.org/stable/generated/statsmodels.genmod.generalized_linear_model.GLM.html) (generalized linear model) function for this example, because its ``summary`` function allows us to examine the impact of individual parameters.\n",
    "\n",
    "We could have equivalently used the [``statsmodels.logit``](https://www.statsmodels.org/devel/generated/statsmodels.discrete.discrete_model.Logit.html) function, which does binary logistic regression. If we had multiple classes that we wanted to predict, we could use the [``statsmodels.MNlogit``](https://www.statsmodels.org/dev/generated/statsmodels.discrete.discrete_model.MNLogit.html) function.\n",
    "\n"
   ]
  },
  {
   "cell_type": "markdown",
   "metadata": {
    "colab_type": "text",
    "id": "wMIdAsuNLvWB"
   },
   "source": [
    "## Manually Examining the Data"
   ]
  },
  {
   "cell_type": "markdown",
   "metadata": {
    "colab_type": "text",
    "id": "DC8UqRQjKT4e"
   },
   "source": [
    "Let's take a look at the ``Defaulted`` column of our data."
   ]
  },
  {
   "cell_type": "code",
   "execution_count": 22,
   "metadata": {
    "colab": {
     "base_uri": "https://localhost:8080/",
     "height": 119
    },
    "colab_type": "code",
    "id": "CcLgxA1EKu1b",
    "outputId": "cab38bc6-6bfd-40aa-ba27-de37ebea42d7"
   },
   "outputs": [
    {
     "data": {
      "text/plain": [
       "63     False\n",
       "82     False\n",
       "215    False\n",
       "208    False\n",
       "216     True\n",
       "Name: Defaulted, dtype: bool"
      ]
     },
     "execution_count": 22,
     "metadata": {
      "tags": []
     },
     "output_type": "execute_result"
    }
   ],
   "source": [
    "df_train['Defaulted'].head()"
   ]
  },
  {
   "cell_type": "markdown",
   "metadata": {
    "colab_type": "text",
    "id": "2YSg_pntbtDY"
   },
   "source": [
    "Some logistic regression functions (in particular, ``statsmodels.logit``) require that the dependent variable be an integer 0 or 1. Let's create a new column, ``DefaultedAsInt`` in our training data, using ``astype`` again. \n",
    "\n",
    "This will print a SettingWithCopyWarning for [unclear reasons](https://github.com/scikit-learn/scikit-learn/issues/8723)."
   ]
  },
  {
   "cell_type": "code",
   "execution_count": 23,
   "metadata": {
    "colab": {
     "base_uri": "https://localhost:8080/",
     "height": 139
    },
    "colab_type": "code",
    "id": "1JklvOBgb5JH",
    "outputId": "613a624c-b5dd-47c2-a707-650e5150ae99"
   },
   "outputs": [
    {
     "name": "stderr",
     "output_type": "stream",
     "text": [
      "/usr/local/lib/python3.6/dist-packages/ipykernel_launcher.py:1: SettingWithCopyWarning: \n",
      "A value is trying to be set on a copy of a slice from a DataFrame.\n",
      "Try using .loc[row_indexer,col_indexer] = value instead\n",
      "\n",
      "See the caveats in the documentation: http://pandas.pydata.org/pandas-docs/stable/indexing.html#indexing-view-versus-copy\n",
      "  \"\"\"Entry point for launching an IPython kernel.\n"
     ]
    }
   ],
   "source": [
    "df_train['DefaultedAsInt'] = df_train['Defaulted'].astype('int')"
   ]
  },
  {
   "cell_type": "code",
   "execution_count": 24,
   "metadata": {
    "colab": {
     "base_uri": "https://localhost:8080/",
     "height": 119
    },
    "colab_type": "code",
    "id": "KVD-H_X7zbft",
    "outputId": "0f0c3663-c914-4526-94a3-99acc4cabec7"
   },
   "outputs": [
    {
     "data": {
      "text/plain": [
       "63     0\n",
       "82     0\n",
       "215    0\n",
       "208    0\n",
       "216    1\n",
       "Name: DefaultedAsInt, dtype: int64"
      ]
     },
     "execution_count": 24,
     "metadata": {
      "tags": []
     },
     "output_type": "execute_result"
    }
   ],
   "source": [
    "df_train['DefaultedAsInt'].head()"
   ]
  },
  {
   "cell_type": "markdown",
   "metadata": {
    "colab_type": "text",
    "id": "_aTG_sbjL0-K"
   },
   "source": [
    "## Computing the fit\n",
    "\n",
    "Let's start with the same initial formula that we had for our linear regression, with only one change -- we are now trying to explain ``Defaulted`` instead of ``Rating``."
   ]
  },
  {
   "cell_type": "code",
   "execution_count": 25,
   "metadata": {
    "colab": {
     "base_uri": "https://localhost:8080/",
     "height": 353
    },
    "colab_type": "code",
    "id": "U6iTINpp_YN6",
    "outputId": "f234bd92-171d-4d24-a42c-c4feb7b4bb17"
   },
   "outputs": [
    {
     "data": {
      "text/html": [
       "<table class=\"simpletable\">\n",
       "<caption>Generalized Linear Model Regression Results</caption>\n",
       "<tr>\n",
       "  <th>Dep. Variable:</th>   <td>DefaultedAsInt</td>  <th>  No. Observations:  </th>  <td>   150</td>  \n",
       "</tr>\n",
       "<tr>\n",
       "  <th>Model:</th>                 <td>GLM</td>       <th>  Df Residuals:      </th>  <td>   144</td>  \n",
       "</tr>\n",
       "<tr>\n",
       "  <th>Model Family:</th>       <td>Binomial</td>     <th>  Df Model:          </th>  <td>     5</td>  \n",
       "</tr>\n",
       "<tr>\n",
       "  <th>Link Function:</th>        <td>logit</td>      <th>  Scale:             </th> <td>  1.0000</td> \n",
       "</tr>\n",
       "<tr>\n",
       "  <th>Method:</th>               <td>IRLS</td>       <th>  Log-Likelihood:    </th> <td> -58.043</td> \n",
       "</tr>\n",
       "<tr>\n",
       "  <th>Date:</th>           <td>Sat, 27 Apr 2019</td> <th>  Deviance:          </th> <td>  116.09</td> \n",
       "</tr>\n",
       "<tr>\n",
       "  <th>Time:</th>               <td>20:58:50</td>     <th>  Pearson chi2:      </th>  <td>  122.</td>  \n",
       "</tr>\n",
       "<tr>\n",
       "  <th>No. Iterations:</th>         <td>6</td>        <th>  Covariance Type:   </th> <td>nonrobust</td>\n",
       "</tr>\n",
       "</table>\n",
       "<table class=\"simpletable\">\n",
       "<tr>\n",
       "           <td></td>             <th>coef</th>     <th>std err</th>      <th>z</th>      <th>P>|z|</th>  <th>[0.025</th>    <th>0.975]</th>  \n",
       "</tr>\n",
       "<tr>\n",
       "  <th>Intercept</th>          <td>    2.5650</td> <td>    1.299</td> <td>    1.975</td> <td> 0.048</td> <td>    0.019</td> <td>    5.111</td>\n",
       "</tr>\n",
       "<tr>\n",
       "  <th>C(Student)[T.True]</th> <td>    2.2192</td> <td>    0.995</td> <td>    2.230</td> <td> 0.026</td> <td>    0.268</td> <td>    4.170</td>\n",
       "</tr>\n",
       "<tr>\n",
       "  <th>Income</th>             <td>   -0.0250</td> <td>    0.010</td> <td>   -2.493</td> <td> 0.013</td> <td>   -0.045</td> <td>   -0.005</td>\n",
       "</tr>\n",
       "<tr>\n",
       "  <th>Cards</th>              <td>   -0.3789</td> <td>    0.189</td> <td>   -2.004</td> <td> 0.045</td> <td>   -0.749</td> <td>   -0.008</td>\n",
       "</tr>\n",
       "<tr>\n",
       "  <th>Education</th>          <td>    0.1082</td> <td>    0.083</td> <td>    1.304</td> <td> 0.192</td> <td>   -0.054</td> <td>    0.271</td>\n",
       "</tr>\n",
       "<tr>\n",
       "  <th>Balance</th>            <td>   -0.0044</td> <td>    0.001</td> <td>   -5.707</td> <td> 0.000</td> <td>   -0.006</td> <td>   -0.003</td>\n",
       "</tr>\n",
       "</table>"
      ],
      "text/plain": [
       "<class 'statsmodels.iolib.summary.Summary'>\n",
       "\"\"\"\n",
       "                 Generalized Linear Model Regression Results                  \n",
       "==============================================================================\n",
       "Dep. Variable:         DefaultedAsInt   No. Observations:                  150\n",
       "Model:                            GLM   Df Residuals:                      144\n",
       "Model Family:                Binomial   Df Model:                            5\n",
       "Link Function:                  logit   Scale:                          1.0000\n",
       "Method:                          IRLS   Log-Likelihood:                -58.043\n",
       "Date:                Sat, 27 Apr 2019   Deviance:                       116.09\n",
       "Time:                        20:58:50   Pearson chi2:                     122.\n",
       "No. Iterations:                     6   Covariance Type:             nonrobust\n",
       "======================================================================================\n",
       "                         coef    std err          z      P>|z|      [0.025      0.975]\n",
       "--------------------------------------------------------------------------------------\n",
       "Intercept              2.5650      1.299      1.975      0.048       0.019       5.111\n",
       "C(Student)[T.True]     2.2192      0.995      2.230      0.026       0.268       4.170\n",
       "Income                -0.0250      0.010     -2.493      0.013      -0.045      -0.005\n",
       "Cards                 -0.3789      0.189     -2.004      0.045      -0.749      -0.008\n",
       "Education              0.1082      0.083      1.304      0.192      -0.054       0.271\n",
       "Balance               -0.0044      0.001     -5.707      0.000      -0.006      -0.003\n",
       "======================================================================================\n",
       "\"\"\""
      ]
     },
     "metadata": {
      "tags": []
     },
     "output_type": "display_data"
    }
   ],
   "source": [
    "logistic_formula = ('DefaultedAsInt ~ Income + Cards + Education + '\n",
    "                    'Balance +  C(Student)')\n",
    "logreg_fit = smf.glm(formula=logistic_formula, data=df_train, family=sm.families.Binomial()).fit()\n",
    "display(logreg_fit.summary())\n",
    "# We could alternatively use the logit function\n",
    "# logreg_fit = smf.logit(formula=logistic_formula, data=df_train).fit()"
   ]
  },
  {
   "cell_type": "markdown",
   "metadata": {
    "colab_type": "text",
    "id": "O2-9FfmHM9NZ"
   },
   "source": [
    "## Making predictions\n",
    "\n",
    "Let's take a look at the values predicted by this model."
   ]
  },
  {
   "cell_type": "code",
   "execution_count": 26,
   "metadata": {
    "colab": {
     "base_uri": "https://localhost:8080/",
     "height": 272
    },
    "colab_type": "code",
    "id": "UDAc4i0rsDx4",
    "outputId": "1935a7d5-7208-4631-b050-036e13698f5d"
   },
   "outputs": [
    {
     "name": "stdout",
     "output_type": "stream",
     "text": [
      "Predicted test values\n"
     ]
    },
    {
     "data": {
      "text/plain": [
       "254    0.896915\n",
       "57     0.580621\n",
       "150    0.324747\n",
       "66     0.427219\n",
       "114    0.889424\n",
       "dtype: float64"
      ]
     },
     "metadata": {
      "tags": []
     },
     "output_type": "display_data"
    },
    {
     "name": "stdout",
     "output_type": "stream",
     "text": [
      "\n",
      "Actual test values:\n"
     ]
    },
    {
     "data": {
      "text/plain": [
       "254     True\n",
       "57      True\n",
       "150    False\n",
       "66      True\n",
       "114     True\n",
       "Name: Defaulted, dtype: bool"
      ]
     },
     "metadata": {
      "tags": []
     },
     "output_type": "display_data"
    }
   ],
   "source": [
    "test_prediction = logreg_fit.predict(df_test)\n",
    "\n",
    "print('Predicted test values')\n",
    "display(test_prediction.head())\n",
    "print('')\n",
    "print('Actual test values:')\n",
    "display(df_test['Defaulted'].head())"
   ]
  },
  {
   "cell_type": "markdown",
   "metadata": {
    "colab_type": "text",
    "id": "KzlweA6qNJbB"
   },
   "source": [
    "Notice that the output is not ``Yes`` or ``No``, but rather a probability of ``Yes``.\n",
    "\n",
    "If we want to interpret these values as either ``Yes`` or ``No`` then we'll need to select a cutoff. Here we show the result of using a cutoff of 0.5 (so, 50% probability)."
   ]
  },
  {
   "cell_type": "code",
   "execution_count": 27,
   "metadata": {
    "colab": {
     "base_uri": "https://localhost:8080/",
     "height": 119
    },
    "colab_type": "code",
    "id": "TYYQKurQ7Dm0",
    "outputId": "ff210e13-4a18-41b0-a78a-979c3712be72"
   },
   "outputs": [
    {
     "data": {
      "text/plain": [
       "254     True\n",
       "57      True\n",
       "150    False\n",
       "66     False\n",
       "114     True\n",
       "dtype: bool"
      ]
     },
     "execution_count": 27,
     "metadata": {
      "tags": []
     },
     "output_type": "execute_result"
    }
   ],
   "source": [
    "(test_prediction > 0.5).head()"
   ]
  },
  {
   "cell_type": "markdown",
   "metadata": {
    "colab_type": "text",
    "id": "9oRgGQZ7OB1_"
   },
   "source": [
    "## Evaluating our fit\n",
    "\n",
    "The simplest evaluation we can do is to compute the fraction of elements that we compute accurately."
   ]
  },
  {
   "cell_type": "code",
   "execution_count": 28,
   "metadata": {
    "colab": {
     "base_uri": "https://localhost:8080/",
     "height": 119
    },
    "colab_type": "code",
    "id": "wCJVBQgxQH0y",
    "outputId": "386a5106-7c26-4b5d-ac6b-af8e6cb60f43"
   },
   "outputs": [
    {
     "data": {
      "text/plain": [
       "254     True\n",
       "57      True\n",
       "150     True\n",
       "66     False\n",
       "114     True\n",
       "dtype: bool"
      ]
     },
     "execution_count": 28,
     "metadata": {
      "tags": []
     },
     "output_type": "execute_result"
    }
   ],
   "source": [
    "test_accurately_predicted = df_test['Defaulted'] == (test_prediction > 0.5)\n",
    "test_accurately_predicted.head()"
   ]
  },
  {
   "cell_type": "code",
   "execution_count": 29,
   "metadata": {
    "colab": {
     "base_uri": "https://localhost:8080/",
     "height": 34
    },
    "colab_type": "code",
    "id": "i7akceS20ccp",
    "outputId": "be1ec9dd-0148-4243-83e2-df4ac6727cc2"
   },
   "outputs": [
    {
     "data": {
      "text/plain": [
       "0.78"
      ]
     },
     "execution_count": 29,
     "metadata": {
      "tags": []
     },
     "output_type": "execute_result"
    }
   ],
   "source": [
    "np.sum(test_accurately_predicted) / len(df_test)"
   ]
  },
  {
   "cell_type": "markdown",
   "metadata": {
    "colab_type": "text",
    "id": "Pq7JuPjdP9_n"
   },
   "source": [
    "This can be interpreted as the raw accuracy of our classifier."
   ]
  },
  {
   "cell_type": "markdown",
   "metadata": {
    "colab_type": "text",
    "id": "84cAMt8rQJP6"
   },
   "source": [
    "### Computing Precision and Recall\n",
    "\n",
    "Let's compute the precision and recall of our model using a cutoff of 0.5. To do this, let's compute the number of true positives, false positives, and false negatives. Note that we're using ``np.count_nonzero`` to get the number of entries that match the condition."
   ]
  },
  {
   "cell_type": "code",
   "execution_count": 0,
   "metadata": {
    "colab": {},
    "colab_type": "code",
    "collapsed": true,
    "id": "KUTMj_0LQXUg"
   },
   "outputs": [],
   "source": [
    "# True positives have Defaulted==True and we predicted True.\n",
    "n_true_positives  = np.sum(\n",
    "    (df_test['Defaulted'] == True)  & (test_prediction > 0.5))\n",
    "# False positives have Defaulted==False but we predicted True\n",
    "n_false_positives = np.sum(\n",
    "    (df_test['Defaulted'] == False) & (test_prediction > 0.5))\n",
    "# False negatives have Defaulted==True but we predicted False\n",
    "n_false_negatives = np.sum(\n",
    "    (df_test['Defaulted'] == True) & (test_prediction <= 0.5))"
   ]
  },
  {
   "cell_type": "markdown",
   "metadata": {
    "colab_type": "text",
    "id": "feg7jSMSRAIJ"
   },
   "source": [
    "Using this we can apply our formula for precision and recall."
   ]
  },
  {
   "cell_type": "code",
   "execution_count": 31,
   "metadata": {
    "colab": {
     "base_uri": "https://localhost:8080/",
     "height": 51
    },
    "colab_type": "code",
    "id": "61aDzfhERCfu",
    "outputId": "aa7fb4e4-4d48-453e-e202-76ed4b728d15"
   },
   "outputs": [
    {
     "name": "stdout",
     "output_type": "stream",
     "text": [
      "Precision: 0.7926829268292683\n",
      "Recall: 0.8024691358024691\n"
     ]
    }
   ],
   "source": [
    "precision = n_true_positives / (n_true_positives + n_false_positives)\n",
    "print('Precision: ' + str(precision))\n",
    "recall    = n_true_positives / (n_true_positives + n_false_negatives)\n",
    "print('Recall: ' + str(recall))"
   ]
  },
  {
   "cell_type": "markdown",
   "metadata": {
    "colab_type": "text",
    "id": "-t1g5KlIfUR9"
   },
   "source": [
    "Our model has a precision of 0.79 - in other words, when it predicts a loan is not repaid, it is correct 79% of the times.\n",
    "\n",
    "Our model has a recall of 0.80 - in other words, it correctly identifies 80% of all defaults."
   ]
  },
  {
   "cell_type": "markdown",
   "metadata": {
    "colab_type": "text",
    "id": "aJlU1raxQUZn"
   },
   "source": [
    "### Evaluating using ``classification_report``\n",
    "\n",
    "This can get very tedious to compute. Fortunately the ``sklearn`` library has many helpful functions for evaluating classifiers, including the [``sklearn.metrics.classification_report``](https://scikit-learn.org/stable/modules/generated/sklearn.metrics.classification_report.html) function.\n",
    "\n",
    "Let's take a look at its output. This function returns a dictionary for every class -- we happen to be doing binary classification here, so we just care about the ``Defaulted`` class, so just print the results for the `['True']` class."
   ]
  },
  {
   "cell_type": "code",
   "execution_count": 32,
   "metadata": {
    "colab": {
     "base_uri": "https://localhost:8080/",
     "height": 85
    },
    "colab_type": "code",
    "id": "w3_l3rdzOZ94",
    "outputId": "f7075664-d8eb-4c6b-950f-fd18a9412b0e"
   },
   "outputs": [
    {
     "data": {
      "text/plain": [
       "{'f1-score': 0.7975460122699387,\n",
       " 'precision': 0.7926829268292683,\n",
       " 'recall': 0.8024691358024691,\n",
       " 'support': 81}"
      ]
     },
     "metadata": {
      "tags": []
     },
     "output_type": "display_data"
    }
   ],
   "source": [
    "display(sklearn.metrics.classification_report(\n",
    "    df_test['Defaulted'], test_prediction > 0.5, output_dict=True)['True'])"
   ]
  },
  {
   "cell_type": "markdown",
   "metadata": {
    "colab_type": "text",
    "id": "89AAly35U-A8"
   },
   "source": [
    "### Adjusting cutoffs for sensitivity or specificity\n",
    "\n",
    "Suppose we are particularly concerned with the recall. We could decrease the cutoff to get a higher recall (at the expense of lower precision)."
   ]
  },
  {
   "cell_type": "code",
   "execution_count": 33,
   "metadata": {
    "colab": {
     "base_uri": "https://localhost:8080/",
     "height": 85
    },
    "colab_type": "code",
    "id": "E7rTGLV3U5vC",
    "outputId": "7bb47736-cbd2-43b3-c577-00b41c09978b"
   },
   "outputs": [
    {
     "data": {
      "text/plain": [
       "{'f1-score': 0.8111111111111111,\n",
       " 'precision': 0.7373737373737373,\n",
       " 'recall': 0.9012345679012346,\n",
       " 'support': 81}"
      ]
     },
     "metadata": {
      "tags": []
     },
     "output_type": "display_data"
    }
   ],
   "source": [
    "display(sklearn.metrics.classification_report(\n",
    "    df_test['Defaulted'], test_prediction > 0.25, output_dict=True)['True'])"
   ]
  },
  {
   "cell_type": "markdown",
   "metadata": {
    "colab_type": "text",
    "id": "Y3hiSNw9Qgdo"
   },
   "source": [
    "### Evaluation using ``confusion_matrix``\n",
    "\n",
    "A confusion matrix can be helpful to see where classifications are accurate. The function [``sklearn.metrics.confusion_matrix``](https://scikit-learn.org/stable/modules/generated/sklearn.metrics.confusion_matrix.html) will compute this for you"
   ]
  },
  {
   "cell_type": "code",
   "execution_count": 34,
   "metadata": {
    "colab": {
     "base_uri": "https://localhost:8080/",
     "height": 51
    },
    "colab_type": "code",
    "id": "4MuxBwCz5dw6",
    "outputId": "6cf44262-69f5-4ff8-e5fa-d0d9f7e70f70"
   },
   "outputs": [
    {
     "data": {
      "text/plain": [
       "array([[52, 17],\n",
       "       [16, 65]])"
      ]
     },
     "execution_count": 34,
     "metadata": {
      "tags": []
     },
     "output_type": "execute_result"
    }
   ],
   "source": [
    "sklearn.metrics.confusion_matrix(df_test['Defaulted'], test_prediction > 0.5)"
   ]
  },
  {
   "cell_type": "markdown",
   "metadata": {
    "colab_type": "text",
    "id": "FtPOcHq9RGcN"
   },
   "source": [
    "This requires some interpretation.\n",
    "\n",
    "The top row is how the true ``No`` records were classified. The top-left entry is how many ``No`` records were correctly classified as ``No``, and the top-right is how many ``No`` records were incorrectly classified as ``Yes``.\n",
    "\n",
    "The bottom row is for the true ``Yes`` records. The bottom-right is how many ``Yes`` entries were correctly classified as ``Yes``, and the bottom-left is how many ``Yes`` records were incorrectly classified as ``No``."
   ]
  },
  {
   "cell_type": "markdown",
   "metadata": {
    "colab_type": "text",
    "id": "1SrfH8Xls8Ni"
   },
   "source": [
    "### ROC Curve\n",
    "\n",
    "The receiver operating characteristic curve, which plots true positive rate as a function of false positive rate, is a helpful tool for evaluating a classifier.\n",
    "\n",
    "The function [``sklearn.metrics.roc_curve``](https://scikit-learn.org/stable/auto_examples/model_selection/plot_roc.html) calculates everything that we need to know about this.\n",
    "\n",
    "This function returns three arrays.\n",
    "* The ``thresholds`` result will be a sequence of cutoff values. \n",
    "* The ``tpr`` will be the true positive rate (AKA the recall of the ``Yes`` category AKA the sensitivity of the model) at each of these thresholds.\n",
    "* The ``fpr`` will be the false positive rate (AKA 1 minus the recall of the ``No`` category) at each of these thresholds."
   ]
  },
  {
   "cell_type": "code",
   "execution_count": 0,
   "metadata": {
    "colab": {},
    "colab_type": "code",
    "collapsed": true,
    "id": "zOmEVduws6sZ"
   },
   "outputs": [],
   "source": [
    "fpr, tpr, thresholds = sklearn.metrics.roc_curve(df_test['Defaulted'], test_prediction)"
   ]
  },
  {
   "cell_type": "markdown",
   "metadata": {
    "colab_type": "text",
    "id": "x5r_bpVCtWOz"
   },
   "source": [
    "This can be used to visualize the true positive and false positive rate as a function of threshold."
   ]
  },
  {
   "cell_type": "code",
   "execution_count": 36,
   "metadata": {
    "colab": {
     "base_uri": "https://localhost:8080/",
     "height": 283
    },
    "colab_type": "code",
    "id": "LHrkcP0mtdgy",
    "outputId": "33a11b4b-a236-446c-9604-af54fbb62d5d"
   },
   "outputs": [
    {
     "data": {
      "image/png": "[encoded data removed]",
      "text/plain": [
       "<Figure size 432x288 with 1 Axes>"
      ]
     },
     "metadata": {
      "tags": []
     },
     "output_type": "display_data"
    }
   ],
   "source": [
    "plt.plot(thresholds, fpr, label='False Positive Rate')\n",
    "plt.plot(thresholds, tpr, label='True Positive Rate')\n",
    "plt.xlabel('Threshold')\n",
    "plt.ylabel('Accuracy')\n",
    "plt.xlim(0, 1)\n",
    "plt.ylim(0, 1)\n",
    "plt.legend()\n",
    "plt.show()"
   ]
  },
  {
   "cell_type": "markdown",
   "metadata": {
    "colab_type": "text",
    "id": "XqKgq-Rft14s"
   },
   "source": [
    "Or, we can plot true positive rate as a function of false positive rate, to get the ROC curve."
   ]
  },
  {
   "cell_type": "code",
   "execution_count": 37,
   "metadata": {
    "colab": {
     "base_uri": "https://localhost:8080/",
     "height": 283
    },
    "colab_type": "code",
    "id": "3pquMSCUQ0N2",
    "outputId": "ee140486-62f1-488d-f651-cf7098c8e9b7"
   },
   "outputs": [
    {
     "data": {
      "image/png": "[encoded data removed]",
      "text/plain": [
       "<Figure size 432x288 with 1 Axes>"
      ]
     },
     "metadata": {
      "tags": []
     },
     "output_type": "display_data"
    }
   ],
   "source": [
    "plt.plot(fpr, tpr)\n",
    "plt.xlabel('False positive rate')\n",
    "plt.ylabel('True positive rate')\n",
    "plt.show()"
   ]
  },
  {
   "cell_type": "markdown",
   "metadata": {
    "colab_type": "text",
    "id": "je6BAStct_BE"
   },
   "source": [
    "The area under the ROC curve (the AUC of the ROC) can be computed using numerical integration. The function [``numpy.trapz``](https://docs.scipy.org/doc/numpy/reference/generated/numpy.trapz.html) computes numerical integrals using the [trapeziodal rule](https://en.wikipedia.org/wiki/Trapezoidal_rule)."
   ]
  },
  {
   "cell_type": "code",
   "execution_count": 38,
   "metadata": {
    "colab": {
     "base_uri": "https://localhost:8080/",
     "height": 34
    },
    "colab_type": "code",
    "id": "pt3Pt8Wnua9v",
    "outputId": "e6dab1fd-d067-40f0-bdf6-125b48ac430a"
   },
   "outputs": [
    {
     "data": {
      "text/plain": [
       "0.8672392198962248"
      ]
     },
     "metadata": {
      "tags": []
     },
     "output_type": "display_data"
    }
   ],
   "source": [
    "auc = np.trapz(y=tpr, x=fpr)\n",
    "display(auc)"
   ]
  },
  {
   "cell_type": "markdown",
   "metadata": {
    "colab_type": "text",
    "id": "NSD_NNYFudnP"
   },
   "source": [
    "How do we interpret this?"
   ]
  },
  {
   "cell_type": "code",
   "execution_count": 0,
   "metadata": {
    "colab": {},
    "colab_type": "code",
    "collapsed": true,
    "id": "LKHCQjexmBbT"
   },
   "outputs": [],
   "source": []
  }
 ],
 "metadata": {
  "colab": {
   "collapsed_sections": [],
   "name": "Credit Scoring.ipynb",
   "provenance": [],
   "toc_visible": true,
   "version": "0.3.2"
  },
  "kernelspec": {
   "display_name": "Python 3",
   "language": "python",
   "name": "python3"
  },
  "language_info": {
   "codemirror_mode": {
    "name": "ipython",
    "version": 3
   },
   "file_extension": ".py",
   "mimetype": "text/x-python",
   "name": "python",
   "nbconvert_exporter": "python",
   "pygments_lexer": "ipython3",
   "version": "3.6.8"
  }
 },
 "nbformat": 4,
 "nbformat_minor": 1
}
